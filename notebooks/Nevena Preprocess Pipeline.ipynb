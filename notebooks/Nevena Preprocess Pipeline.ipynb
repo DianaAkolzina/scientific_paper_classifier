{
 "cells": [
  {
   "cell_type": "markdown",
   "id": "da7eb406-e7df-4f4d-b228-74e91d81f23b",
   "metadata": {},
   "source": [
    "## Nevena's notebook"
   ]
  },
  {
   "cell_type": "markdown",
   "id": "de18aa41-4c07-45ee-9c5c-cc9956f8316a",
   "metadata": {},
   "source": [
    "1. Missing values, which types\n",
    "2. Systematic errors, how to make text cleaner\n",
    "3. Cleaning steps:\n",
    "- remove punctuation\n",
    "- lowercase\n",
    "- remove articles & pronouns\n",
    "- deleting words with less than 3 letters\n",
    "4. How many words should be kept? Find the perfect amount\n",
    "5. Which columns to keep and which to throw out?"
   ]
  },
  {
   "cell_type": "code",
   "execution_count": 4,
   "id": "5a98be51",
   "metadata": {},
   "outputs": [],
   "source": [
    "from google.cloud import storage\n",
    "import os\n",
    "from dotenv import load_dotenv\n",
    "import pandas as pd\n",
    "import io\n",
    "from unidecode import unidecode\n",
    "import string\n",
    "from nltk.tokenize import word_tokenize\n",
    "from nltk.corpus import stopwords\n",
    "from nltk.stem import WordNetLemmatizer\n",
    "import seaborn as sns\n",
    "import spacy\n",
    "from langdetect import detect, LangDetectException\n",
    "from io import BytesIO\n",
    "import re\n",
    "\n",
    "nlp = spacy.load(\"en_core_web_sm\")\n",
    "\n",
    "# Specify the bucket name\n",
    "BUCKET_NAME = os.getenv(\"BUCKET_NAME\")\n",
    "GCP_PROJECT = os.getenv(\"GCP_PROJECT\")"
   ]
  },
  {
   "cell_type": "code",
   "execution_count": 75,
   "id": "75dbbc88-ecf9-4ae8-8c89-61b2c6c95611",
   "metadata": {},
   "outputs": [],
   "source": [
    "# Create a storage client\n",
    "storage_client = storage.Client()\n",
    "\n",
    "# Get the bucket\n",
    "bucket = storage_client.get_bucket(BUCKET_NAME)\n",
    "\n",
    "# Get the blob (file) from the bucket\n",
    "file_name = 'david.csv'\n",
    "blob = bucket.get_blob(file_name)\n",
    "\n",
    "# Read the CSV file into a DataFrame\n",
    "df_d = pd.read_csv(io.BytesIO(blob.download_as_bytes()), sep=\",\")"
   ]
  },
  {
   "cell_type": "code",
   "execution_count": 27,
   "id": "bc315a28",
   "metadata": {},
   "outputs": [
    {
     "data": {
      "text/plain": [
       "Index(['Title', 'Author', 'Label', 'Abstract', 'Main Body', 'Word Count',\n",
       "       'Picture Count', 'Subject', 'Most Recurrent Word', 'Link',\n",
       "       'is_english'],\n",
       "      dtype='object')"
      ]
     },
     "execution_count": 27,
     "metadata": {},
     "output_type": "execute_result"
    }
   ],
   "source": [
    "df_d.keys()"
   ]
  },
  {
   "cell_type": "code",
   "execution_count": 76,
   "id": "432cd922",
   "metadata": {},
   "outputs": [],
   "source": [
    "#Dropping duplicates from the DF\n",
    "df_d = df_d.drop_duplicates()\n",
    "#Dropping the rows the rows in the 'Main Body' column that have NaN values\n",
    "df_d = df_d.dropna(subset=['Main Body'])"
   ]
  },
  {
   "cell_type": "markdown",
   "id": "32b9cea2",
   "metadata": {},
   "source": []
  },
  {
   "cell_type": "code",
   "execution_count": 32,
   "id": "d1abe3e1",
   "metadata": {},
   "outputs": [],
   "source": [
    "#Creating a preprocessing function\n",
    "def preprocess_text(text):\n",
    "    \"\"\"Preprocesses the given text by cleaning and lemmatizing it.\"\"\"\n",
    "\n",
    "    text = text.lower().strip()\n",
    "    text = unidecode(text)\n",
    "    text = ''.join(char for char in text if not char.isdigit())\n",
    "    text = ''.join(char for char in text if char not in string.punctuation)\n",
    "\n",
    "    #Additional code line, dropping the words less than 2 chars long\n",
    "    text = ' '.join([word for word in text.split() if len(word) > 2])\n",
    "    #end\n",
    "\n",
    "    doc = nlp(text)\n",
    "    filtered_tokens = [token.lemma_ for token in doc if not token.is_stop and len(token.lemma_) > 2\n",
    "                       and token.pos_ not in ['PRON', 'DET']]\n",
    "    return ' '.join(filtered_tokens)\n",
    "\n",
    "def detect_english(text):\n",
    "    \"\"\"Detects if the given text is English.\"\"\"\n",
    "    try:\n",
    "        return detect(text) == 'en'\n",
    "    except LangDetectException:\n",
    "        return False\n",
    "\n",
    "def filter_english_text(df, text_column):\n",
    "    \"\"\"Filters the DataFrame to only include rows where the text is English.\"\"\"\n",
    "    df['is_english'] = df[text_column].apply(detect_english)\n",
    "    filtered_df = df[df['is_english']].drop(columns=['is_english'])\n",
    "    return filtered_df"
   ]
  },
  {
   "cell_type": "code",
   "execution_count": 15,
   "id": "a90c2934",
   "metadata": {},
   "outputs": [],
   "source": [
    "def preprocessing_pipeline(df, text_column):\n",
    "    \"\"\"Applies text cleaning and English filtering to a DataFrame.\"\"\"\n",
    "\n",
    "    df = filter_english_text(df, text_column)\n",
    "\n",
    "    if not df.empty:\n",
    "        df['Processed Text'] = df[text_column].apply(preprocess_text)\n",
    "    return df"
   ]
  },
  {
   "cell_type": "code",
   "execution_count": 16,
   "id": "257cd826",
   "metadata": {},
   "outputs": [],
   "source": [
    "def process_directory(directory_path, text_column):\n",
    "    processed_dfs = []\n",
    "    for filename in os.listdir(directory_path):\n",
    "        if filename.endswith(\".csv\"):\n",
    "            file_path = os.path.join(directory_path, filename)\n",
    "            df = pd.read_csv(file_path)\n",
    "            processed_df = preprocessing_pipeline(df, text_column)\n",
    "            processed_dfs.append(processed_df)\n",
    "\n",
    "            processed_df.to_csv(f\"../data/processed/processed_{filename}\", index=False)\n",
    "    return processed_dfs"
   ]
  },
  {
   "cell_type": "markdown",
   "id": "7c6e58bd",
   "metadata": {},
   "source": [
    "## DavidWolfe Dataset"
   ]
  },
  {
   "cell_type": "code",
   "execution_count": 78,
   "id": "c27dde50",
   "metadata": {},
   "outputs": [],
   "source": [
    "processed_df_d = preprocessing_pipeline(df_d, text_column='Main Body')"
   ]
  },
  {
   "cell_type": "code",
   "execution_count": 56,
   "id": "a3553309",
   "metadata": {},
   "outputs": [
    {
     "data": {
      "text/plain": [
       "<Axes: xlabel='word_count', ylabel='Count'>"
      ]
     },
     "execution_count": 56,
     "metadata": {},
     "output_type": "execute_result"
    },
    {
     "data": {
      "image/png": "[encoded data removed]",
      "text/plain": [
       "<Figure size 640x480 with 1 Axes>"
      ]
     },
     "metadata": {},
     "output_type": "display_data"
    }
   ],
   "source": [
    "sns.histplot(processed_df_d['word_count'], kde=True)"
   ]
  },
  {
   "cell_type": "code",
   "execution_count": 100,
   "id": "5a3c4e32",
   "metadata": {},
   "outputs": [
    {
     "data": {
      "text/plain": [
       "Index(['Title', 'Author', 'Published Date', 'Word Count', 'Most Frequent Word',\n",
       "       'Link', 'Label', 'Primary Category', 'All Categories',\n",
       "       'Processed Text'],\n",
       "      dtype='object')"
      ]
     },
     "execution_count": 100,
     "metadata": {},
     "output_type": "execute_result"
    }
   ],
   "source": [
    "processed_df_d.keys()"
   ]
  },
  {
   "cell_type": "code",
   "execution_count": 92,
   "id": "c7c70378",
   "metadata": {},
   "outputs": [
    {
     "ename": "KeyError",
     "evalue": "\"['Abstract', 'Word Count', 'Picture Count', 'Subject'] not found in axis\"",
     "output_type": "error",
     "traceback": [
      "\u001b[0;31m---------------------------------------------------------------------------\u001b[0m",
      "\u001b[0;31mKeyError\u001b[0m                                  Traceback (most recent call last)",
      "Cell \u001b[0;32mIn[92], line 7\u001b[0m\n\u001b[1;32m      4\u001b[0m processed_df_d[\u001b[38;5;124m'\u001b[39m\u001b[38;5;124mAll Categories\u001b[39m\u001b[38;5;124m'\u001b[39m] \u001b[38;5;241m=\u001b[39m \u001b[38;5;124m\"\u001b[39m\u001b[38;5;124m\"\u001b[39m\n\u001b[1;32m      6\u001b[0m \u001b[38;5;66;03m#Drop the rest of the columns\u001b[39;00m\n\u001b[0;32m----> 7\u001b[0m \u001b[43mprocessed_df_d\u001b[49m\u001b[38;5;241;43m.\u001b[39;49m\u001b[43mdrop\u001b[49m\u001b[43m(\u001b[49m\u001b[43mcolumns\u001b[49m\u001b[38;5;241;43m=\u001b[39;49m\u001b[43m[\u001b[49m\u001b[38;5;124;43m'\u001b[39;49m\u001b[38;5;124;43mAbstract\u001b[39;49m\u001b[38;5;124;43m'\u001b[39;49m\u001b[43m,\u001b[49m\u001b[43m \u001b[49m\u001b[38;5;124;43m'\u001b[39;49m\u001b[38;5;124;43mWord Count\u001b[39;49m\u001b[38;5;124;43m'\u001b[39;49m\u001b[43m,\u001b[49m\n\u001b[1;32m      8\u001b[0m \u001b[43m                             \u001b[49m\u001b[38;5;124;43m'\u001b[39;49m\u001b[38;5;124;43mPicture Count\u001b[39;49m\u001b[38;5;124;43m'\u001b[39;49m\u001b[43m,\u001b[49m\u001b[43m \u001b[49m\u001b[38;5;124;43m'\u001b[39;49m\u001b[38;5;124;43mSubject\u001b[39;49m\u001b[38;5;124;43m'\u001b[39;49m\u001b[43m]\u001b[49m\u001b[43m,\u001b[49m\u001b[43m \u001b[49m\u001b[43minplace\u001b[49m\u001b[38;5;241;43m=\u001b[39;49m\u001b[38;5;28;43;01mTrue\u001b[39;49;00m\u001b[43m)\u001b[49m\n",
      "File \u001b[0;32m~/.pyenv/versions/3.10.6/envs/scientific_paper_classifier/lib/python3.10/site-packages/pandas/core/frame.py:5581\u001b[0m, in \u001b[0;36mDataFrame.drop\u001b[0;34m(self, labels, axis, index, columns, level, inplace, errors)\u001b[0m\n\u001b[1;32m   5433\u001b[0m \u001b[38;5;28;01mdef\u001b[39;00m \u001b[38;5;21mdrop\u001b[39m(\n\u001b[1;32m   5434\u001b[0m     \u001b[38;5;28mself\u001b[39m,\n\u001b[1;32m   5435\u001b[0m     labels: IndexLabel \u001b[38;5;241m|\u001b[39m \u001b[38;5;28;01mNone\u001b[39;00m \u001b[38;5;241m=\u001b[39m \u001b[38;5;28;01mNone\u001b[39;00m,\n\u001b[0;32m   (...)\u001b[0m\n\u001b[1;32m   5442\u001b[0m     errors: IgnoreRaise \u001b[38;5;241m=\u001b[39m \u001b[38;5;124m\"\u001b[39m\u001b[38;5;124mraise\u001b[39m\u001b[38;5;124m\"\u001b[39m,\n\u001b[1;32m   5443\u001b[0m ) \u001b[38;5;241m-\u001b[39m\u001b[38;5;241m>\u001b[39m DataFrame \u001b[38;5;241m|\u001b[39m \u001b[38;5;28;01mNone\u001b[39;00m:\n\u001b[1;32m   5444\u001b[0m \u001b[38;5;250m    \u001b[39m\u001b[38;5;124;03m\"\"\"\u001b[39;00m\n\u001b[1;32m   5445\u001b[0m \u001b[38;5;124;03m    Drop specified labels from rows or columns.\u001b[39;00m\n\u001b[1;32m   5446\u001b[0m \n\u001b[0;32m   (...)\u001b[0m\n\u001b[1;32m   5579\u001b[0m \u001b[38;5;124;03m            weight  1.0     0.8\u001b[39;00m\n\u001b[1;32m   5580\u001b[0m \u001b[38;5;124;03m    \"\"\"\u001b[39;00m\n\u001b[0;32m-> 5581\u001b[0m     \u001b[38;5;28;01mreturn\u001b[39;00m \u001b[38;5;28;43msuper\u001b[39;49m\u001b[43m(\u001b[49m\u001b[43m)\u001b[49m\u001b[38;5;241;43m.\u001b[39;49m\u001b[43mdrop\u001b[49m\u001b[43m(\u001b[49m\n\u001b[1;32m   5582\u001b[0m \u001b[43m        \u001b[49m\u001b[43mlabels\u001b[49m\u001b[38;5;241;43m=\u001b[39;49m\u001b[43mlabels\u001b[49m\u001b[43m,\u001b[49m\n\u001b[1;32m   5583\u001b[0m \u001b[43m        \u001b[49m\u001b[43maxis\u001b[49m\u001b[38;5;241;43m=\u001b[39;49m\u001b[43maxis\u001b[49m\u001b[43m,\u001b[49m\n\u001b[1;32m   5584\u001b[0m \u001b[43m        \u001b[49m\u001b[43mindex\u001b[49m\u001b[38;5;241;43m=\u001b[39;49m\u001b[43mindex\u001b[49m\u001b[43m,\u001b[49m\n\u001b[1;32m   5585\u001b[0m \u001b[43m        \u001b[49m\u001b[43mcolumns\u001b[49m\u001b[38;5;241;43m=\u001b[39;49m\u001b[43mcolumns\u001b[49m\u001b[43m,\u001b[49m\n\u001b[1;32m   5586\u001b[0m \u001b[43m        \u001b[49m\u001b[43mlevel\u001b[49m\u001b[38;5;241;43m=\u001b[39;49m\u001b[43mlevel\u001b[49m\u001b[43m,\u001b[49m\n\u001b[1;32m   5587\u001b[0m \u001b[43m        \u001b[49m\u001b[43minplace\u001b[49m\u001b[38;5;241;43m=\u001b[39;49m\u001b[43minplace\u001b[49m\u001b[43m,\u001b[49m\n\u001b[1;32m   5588\u001b[0m \u001b[43m        \u001b[49m\u001b[43merrors\u001b[49m\u001b[38;5;241;43m=\u001b[39;49m\u001b[43merrors\u001b[49m\u001b[43m,\u001b[49m\n\u001b[1;32m   5589\u001b[0m \u001b[43m    \u001b[49m\u001b[43m)\u001b[49m\n",
      "File \u001b[0;32m~/.pyenv/versions/3.10.6/envs/scientific_paper_classifier/lib/python3.10/site-packages/pandas/core/generic.py:4788\u001b[0m, in \u001b[0;36mNDFrame.drop\u001b[0;34m(self, labels, axis, index, columns, level, inplace, errors)\u001b[0m\n\u001b[1;32m   4786\u001b[0m \u001b[38;5;28;01mfor\u001b[39;00m axis, labels \u001b[38;5;129;01min\u001b[39;00m axes\u001b[38;5;241m.\u001b[39mitems():\n\u001b[1;32m   4787\u001b[0m     \u001b[38;5;28;01mif\u001b[39;00m labels \u001b[38;5;129;01mis\u001b[39;00m \u001b[38;5;129;01mnot\u001b[39;00m \u001b[38;5;28;01mNone\u001b[39;00m:\n\u001b[0;32m-> 4788\u001b[0m         obj \u001b[38;5;241m=\u001b[39m \u001b[43mobj\u001b[49m\u001b[38;5;241;43m.\u001b[39;49m\u001b[43m_drop_axis\u001b[49m\u001b[43m(\u001b[49m\u001b[43mlabels\u001b[49m\u001b[43m,\u001b[49m\u001b[43m \u001b[49m\u001b[43maxis\u001b[49m\u001b[43m,\u001b[49m\u001b[43m \u001b[49m\u001b[43mlevel\u001b[49m\u001b[38;5;241;43m=\u001b[39;49m\u001b[43mlevel\u001b[49m\u001b[43m,\u001b[49m\u001b[43m \u001b[49m\u001b[43merrors\u001b[49m\u001b[38;5;241;43m=\u001b[39;49m\u001b[43merrors\u001b[49m\u001b[43m)\u001b[49m\n\u001b[1;32m   4790\u001b[0m \u001b[38;5;28;01mif\u001b[39;00m inplace:\n\u001b[1;32m   4791\u001b[0m     \u001b[38;5;28mself\u001b[39m\u001b[38;5;241m.\u001b[39m_update_inplace(obj)\n",
      "File \u001b[0;32m~/.pyenv/versions/3.10.6/envs/scientific_paper_classifier/lib/python3.10/site-packages/pandas/core/generic.py:4830\u001b[0m, in \u001b[0;36mNDFrame._drop_axis\u001b[0;34m(self, labels, axis, level, errors, only_slice)\u001b[0m\n\u001b[1;32m   4828\u001b[0m         new_axis \u001b[38;5;241m=\u001b[39m axis\u001b[38;5;241m.\u001b[39mdrop(labels, level\u001b[38;5;241m=\u001b[39mlevel, errors\u001b[38;5;241m=\u001b[39merrors)\n\u001b[1;32m   4829\u001b[0m     \u001b[38;5;28;01melse\u001b[39;00m:\n\u001b[0;32m-> 4830\u001b[0m         new_axis \u001b[38;5;241m=\u001b[39m \u001b[43maxis\u001b[49m\u001b[38;5;241;43m.\u001b[39;49m\u001b[43mdrop\u001b[49m\u001b[43m(\u001b[49m\u001b[43mlabels\u001b[49m\u001b[43m,\u001b[49m\u001b[43m \u001b[49m\u001b[43merrors\u001b[49m\u001b[38;5;241;43m=\u001b[39;49m\u001b[43merrors\u001b[49m\u001b[43m)\u001b[49m\n\u001b[1;32m   4831\u001b[0m     indexer \u001b[38;5;241m=\u001b[39m axis\u001b[38;5;241m.\u001b[39mget_indexer(new_axis)\n\u001b[1;32m   4833\u001b[0m \u001b[38;5;66;03m# Case for non-unique axis\u001b[39;00m\n\u001b[1;32m   4834\u001b[0m \u001b[38;5;28;01melse\u001b[39;00m:\n",
      "File \u001b[0;32m~/.pyenv/versions/3.10.6/envs/scientific_paper_classifier/lib/python3.10/site-packages/pandas/core/indexes/base.py:7070\u001b[0m, in \u001b[0;36mIndex.drop\u001b[0;34m(self, labels, errors)\u001b[0m\n\u001b[1;32m   7068\u001b[0m \u001b[38;5;28;01mif\u001b[39;00m mask\u001b[38;5;241m.\u001b[39many():\n\u001b[1;32m   7069\u001b[0m     \u001b[38;5;28;01mif\u001b[39;00m errors \u001b[38;5;241m!=\u001b[39m \u001b[38;5;124m\"\u001b[39m\u001b[38;5;124mignore\u001b[39m\u001b[38;5;124m\"\u001b[39m:\n\u001b[0;32m-> 7070\u001b[0m         \u001b[38;5;28;01mraise\u001b[39;00m \u001b[38;5;167;01mKeyError\u001b[39;00m(\u001b[38;5;124mf\u001b[39m\u001b[38;5;124m\"\u001b[39m\u001b[38;5;132;01m{\u001b[39;00mlabels[mask]\u001b[38;5;241m.\u001b[39mtolist()\u001b[38;5;132;01m}\u001b[39;00m\u001b[38;5;124m not found in axis\u001b[39m\u001b[38;5;124m\"\u001b[39m)\n\u001b[1;32m   7071\u001b[0m     indexer \u001b[38;5;241m=\u001b[39m indexer[\u001b[38;5;241m~\u001b[39mmask]\n\u001b[1;32m   7072\u001b[0m \u001b[38;5;28;01mreturn\u001b[39;00m \u001b[38;5;28mself\u001b[39m\u001b[38;5;241m.\u001b[39mdelete(indexer)\n",
      "\u001b[0;31mKeyError\u001b[0m: \"['Abstract', 'Word Count', 'Picture Count', 'Subject'] not found in axis\""
     ]
    }
   ],
   "source": [
    "#Published Date, Primary Category, All Categories missing, adding empty columns\n",
    "processed_df_d['Published Date'] = \"\"\n",
    "processed_df_d['Primary Category'] = \"\"\n",
    "processed_df_d['All Categories'] = \"\"\n",
    "\n",
    "#Drop the rest of the columns\n",
    "processed_df_d.drop(columns=['Abstract', 'Word Count',\n",
    "                             'Picture Count', 'Subject', 'Main Body'], inplace=True)\n",
    "\n",
    "processed_df_d['Word Count'] = processed_df_d['Processed Text'].apply(lambda n: len(n.split()))"
   ]
  },
  {
   "cell_type": "code",
   "execution_count": 96,
   "id": "27f85afc",
   "metadata": {},
   "outputs": [],
   "source": [
    "processed_df_d = processed_df_d.reindex(columns=['Title', 'Author', 'Published Date', 'Word Count',\n",
    "       'Most Frequent Word', 'Link', 'Label',\n",
    "       'Primary Category', 'All Categories', 'Processed Text'])"
   ]
  },
  {
   "cell_type": "markdown",
   "id": "1843d294",
   "metadata": {},
   "source": [
    "## Collective evolution dataset"
   ]
  },
  {
   "cell_type": "code",
   "execution_count": 113,
   "id": "ad3ef245",
   "metadata": {},
   "outputs": [],
   "source": [
    "# Get the blob (file) from the bucket\n",
    "file_name = 'collective_evolution.csv'\n",
    "blob = bucket.get_blob(file_name)\n",
    "\n",
    "# Read the CSV file into a DataFrame\n",
    "df_ce = pd.read_csv(io.BytesIO(blob.download_as_bytes()), sep=\",\")"
   ]
  },
  {
   "cell_type": "code",
   "execution_count": 114,
   "id": "d0f6e826",
   "metadata": {},
   "outputs": [],
   "source": [
    "#Dropping duplicates from the DF\n",
    "df_ce = df_ce.drop_duplicates()\n",
    "#Dropping the rows the rows in the 'Main Body' column that have NaN values\n",
    "df_ce = df_ce.dropna(subset=['Main Body'])"
   ]
  },
  {
   "cell_type": "code",
   "execution_count": 111,
   "id": "e3f98949",
   "metadata": {},
   "outputs": [
    {
     "name": "stdout",
     "output_type": "stream",
     "text": [
      "<class 'pandas.core.frame.DataFrame'>\n",
      "RangeIndex: 21 entries, 0 to 20\n",
      "Data columns (total 9 columns):\n",
      " #   Column               Non-Null Count  Dtype  \n",
      "---  ------               --------------  -----  \n",
      " 0   Title                21 non-null     object \n",
      " 1   Author               21 non-null     object \n",
      " 2   Label                21 non-null     int64  \n",
      " 3   Abstract             21 non-null     object \n",
      " 4   Main Body            21 non-null     object \n",
      " 5   Word Count           21 non-null     int64  \n",
      " 6   Picture Count        21 non-null     int64  \n",
      " 7   Subject              0 non-null      float64\n",
      " 8   Most Recurrent Word  21 non-null     object \n",
      "dtypes: float64(1), int64(3), object(5)\n",
      "memory usage: 1.6+ KB\n"
     ]
    },
    {
     "data": {
      "text/plain": [
       "Index(['Title', 'Author', 'Label', 'Abstract', 'Main Body', 'Word Count',\n",
       "       'Picture Count', 'Subject', 'Most Recurrent Word'],\n",
       "      dtype='object')"
      ]
     },
     "execution_count": 111,
     "metadata": {},
     "output_type": "execute_result"
    }
   ],
   "source": [
    "df_ce.info()\n",
    "df_ce.head(3)\n",
    "df_ce.keys()"
   ]
  },
  {
   "cell_type": "code",
   "execution_count": 115,
   "id": "a508ea82",
   "metadata": {},
   "outputs": [],
   "source": [
    "processed_df_ce = preprocessing_pipeline(df_ce, text_column='Main Body')"
   ]
  },
  {
   "cell_type": "code",
   "execution_count": 120,
   "id": "5e7e1904",
   "metadata": {},
   "outputs": [
    {
     "data": {
      "text/plain": [
       "Index(['Title', 'Author', 'Published Date', 'Word Count', 'Most Frequent Word',\n",
       "       'Link', 'Label', 'Primary Category', 'All Categories',\n",
       "       'Processed Text'],\n",
       "      dtype='object')"
      ]
     },
     "execution_count": 120,
     "metadata": {},
     "output_type": "execute_result"
    }
   ],
   "source": [
    "processed_df_ce.keys()"
   ]
  },
  {
   "cell_type": "code",
   "execution_count": 117,
   "id": "4a6d55c3",
   "metadata": {},
   "outputs": [],
   "source": [
    "# Most Reccurent Word rename\n",
    "processed_df_ce.rename(columns={'Most Recurrent Word': 'Most Frequent Word'}, inplace=True)\n",
    "\n",
    "# Published Date, Link, Primary Category, All Categories missing!\n",
    "processed_df_ce['Published Date'] = \"\"\n",
    "processed_df_ce['Primary Category'] = \"\"\n",
    "processed_df_ce['All Categories'] = \"\""
   ]
  },
  {
   "cell_type": "code",
   "execution_count": 119,
   "id": "e1bb40ea",
   "metadata": {},
   "outputs": [],
   "source": [
    "processed_df_ce.drop(columns=['Abstract', 'Word Count',\n",
    "                             'Picture Count', 'Subject', 'Main Body'], inplace=True)\n",
    "\n",
    "processed_df_ce['Word Count'] = processed_df_ce['Processed Text'].apply(lambda n: len(n.split()))\n",
    "\n",
    "processed_df_ce = processed_df_ce.reindex(columns=['Title', 'Author', 'Published Date', 'Word Count',\n",
    "       'Most Frequent Word', 'Link', 'Label',\n",
    "       'Primary Category', 'All Categories', 'Processed Text'])"
   ]
  },
  {
   "cell_type": "markdown",
   "id": "3c6a7934",
   "metadata": {},
   "source": [
    "## Arxiv Dataset"
   ]
  },
  {
   "cell_type": "code",
   "execution_count": 61,
   "id": "f1369db3",
   "metadata": {},
   "outputs": [],
   "source": [
    "# Get the blob (file) from the bucket\n",
    "file_name = 'arxiv.csv'\n",
    "blob = bucket.get_blob(file_name)\n",
    "\n",
    "# Read the CSV file into a DataFrame\n",
    "df_a = pd.read_csv(io.BytesIO(blob.download_as_bytes()), sep=\",\")"
   ]
  },
  {
   "cell_type": "code",
   "execution_count": 62,
   "id": "bc9bdaec",
   "metadata": {},
   "outputs": [],
   "source": [
    "#Dropping duplicates from the DF\n",
    "df_a = df_a.drop_duplicates()\n",
    "#Dropping the rows the rows in the 'Main Body' column that have NaN values\n",
    "df_a = df_a.dropna(subset=['Main Body'])"
   ]
  },
  {
   "cell_type": "code",
   "execution_count": 63,
   "id": "0ceea191",
   "metadata": {},
   "outputs": [
    {
     "name": "stdout",
     "output_type": "stream",
     "text": [
      "<class 'pandas.core.frame.DataFrame'>\n",
      "Index: 3422 entries, 0 to 3524\n",
      "Data columns (total 13 columns):\n",
      " #   Column             Non-Null Count  Dtype \n",
      "---  ------             --------------  ----- \n",
      " 0   arxiv-id           3422 non-null   object\n",
      " 1   Published          3422 non-null   object\n",
      " 2   Title              3422 non-null   object\n",
      " 3   Authors            3422 non-null   object\n",
      " 4   Journal reference  3422 non-null   object\n",
      " 5   Comments           3422 non-null   object\n",
      " 6   Primary Category   3422 non-null   object\n",
      " 7   All Categories     3422 non-null   object\n",
      " 8   Abstract           3422 non-null   object\n",
      " 9   Main Body          3422 non-null   object\n",
      " 10  Word Count         3422 non-null   int64 \n",
      " 11  PDF Link           3422 non-null   object\n",
      " 12  Label              3422 non-null   int64 \n",
      "dtypes: int64(2), object(11)\n",
      "memory usage: 374.3+ KB\n"
     ]
    },
    {
     "data": {
      "text/plain": [
       "Index(['arxiv-id', 'Published', 'Title', 'Authors', 'Journal reference',\n",
       "       'Comments', 'Primary Category', 'All Categories', 'Abstract',\n",
       "       'Main Body', 'Word Count', 'PDF Link', 'Label'],\n",
       "      dtype='object')"
      ]
     },
     "execution_count": 63,
     "metadata": {},
     "output_type": "execute_result"
    }
   ],
   "source": [
    "df_a.info()\n",
    "df_a.head(3)\n",
    "df_a.keys()"
   ]
  },
  {
   "cell_type": "code",
   "execution_count": 64,
   "id": "8d345bdd",
   "metadata": {},
   "outputs": [],
   "source": [
    "processed_df_a = preprocessing_pipeline(df_a, text_column='Main Body')"
   ]
  },
  {
   "cell_type": "code",
   "execution_count": 65,
   "id": "7a5b126b",
   "metadata": {},
   "outputs": [],
   "source": [
    "processed_df_a['word_count'] = processed_df_a['Processed Text'].apply(lambda n: len(n.split()))"
   ]
  },
  {
   "cell_type": "code",
   "execution_count": 66,
   "id": "d14187f9",
   "metadata": {},
   "outputs": [
    {
     "data": {
      "text/plain": [
       "<Axes: xlabel='word_count', ylabel='Count'>"
      ]
     },
     "execution_count": 66,
     "metadata": {},
     "output_type": "execute_result"
    },
    {
     "data": {
      "image/png": "[encoded data removed]",
      "text/plain": [
       "<Figure size 640x480 with 1 Axes>"
      ]
     },
     "metadata": {},
     "output_type": "display_data"
    }
   ],
   "source": [
    "sns.histplot(processed_df_a['word_count'], kde=True)"
   ]
  },
  {
   "cell_type": "code",
   "execution_count": 72,
   "id": "6f9adf5f",
   "metadata": {},
   "outputs": [],
   "source": [
    "# Authors Column rename and |\n",
    "#Renaming Authors\n",
    "processed_df_a['clean_authors'] = processed_df_a['Author'].str.replace(\"|\", \", \")\n",
    "\n",
    "# Publised, PDF Link rename\n",
    "processed_df_a.rename(columns={'Published': 'Published Date'}, inplace=True)\n",
    "processed_df_a.rename(columns={'PDF Link': 'Link'}, inplace=True)\n",
    "\n",
    "# Most Freq Word missing, adding an empty column\n",
    "processed_df_a['Most Frequent Word'] = \"\""
   ]
  },
  {
   "cell_type": "code",
   "execution_count": 126,
   "id": "93e19db9",
   "metadata": {},
   "outputs": [],
   "source": [
    "processed_df_a = processed_df_ce.reindex(columns=['Title', 'Author', 'Published Date', 'Word Count',\n",
    "       'Most Frequent Word', 'Link', 'Label',\n",
    "       'Primary Category', 'All Categories', 'Processed Text'])"
   ]
  },
  {
   "cell_type": "code",
   "execution_count": 127,
   "id": "03b7db99",
   "metadata": {},
   "outputs": [
    {
     "data": {
      "text/plain": [
       "Index(['Title', 'Author', 'Published Date', 'Word Count', 'Most Frequent Word',\n",
       "       'Link', 'Label', 'Primary Category', 'All Categories',\n",
       "       'Processed Text'],\n",
       "      dtype='object')"
      ]
     },
     "execution_count": 127,
     "metadata": {},
     "output_type": "execute_result"
    }
   ],
   "source": [
    "processed_df_a.keys()"
   ]
  },
  {
   "cell_type": "code",
   "execution_count": 125,
   "id": "83c1a4ec",
   "metadata": {},
   "outputs": [
    {
     "ename": "KeyError",
     "evalue": "\"['arxiv-id', 'Journal reference', 'Comments', 'Abstract', 'Main Body', 'word_count'] not found in axis\"",
     "output_type": "error",
     "traceback": [
      "\u001b[0;31m---------------------------------------------------------------------------\u001b[0m",
      "\u001b[0;31mKeyError\u001b[0m                                  Traceback (most recent call last)",
      "Cell \u001b[0;32mIn[125], line 1\u001b[0m\n\u001b[0;32m----> 1\u001b[0m \u001b[43mprocessed_df_a\u001b[49m\u001b[38;5;241;43m.\u001b[39;49m\u001b[43mdrop\u001b[49m\u001b[43m(\u001b[49m\u001b[43mcolumns\u001b[49m\u001b[38;5;241;43m=\u001b[39;49m\u001b[43m[\u001b[49m\u001b[38;5;124;43m'\u001b[39;49m\u001b[38;5;124;43marxiv-id\u001b[39;49m\u001b[38;5;124;43m'\u001b[39;49m\u001b[43m,\u001b[49m\u001b[43m \u001b[49m\u001b[38;5;124;43m'\u001b[39;49m\u001b[38;5;124;43mWord Count\u001b[39;49m\u001b[38;5;124;43m'\u001b[39;49m\u001b[43m,\u001b[49m\u001b[43m \u001b[49m\u001b[38;5;124;43m'\u001b[39;49m\u001b[38;5;124;43mJournal reference\u001b[39;49m\u001b[38;5;124;43m'\u001b[39;49m\u001b[43m,\u001b[49m\n\u001b[1;32m      2\u001b[0m \u001b[43m                             \u001b[49m\u001b[38;5;124;43m'\u001b[39;49m\u001b[38;5;124;43mComments\u001b[39;49m\u001b[38;5;124;43m'\u001b[39;49m\u001b[43m,\u001b[49m\u001b[43m \u001b[49m\u001b[38;5;124;43m'\u001b[39;49m\u001b[38;5;124;43mAbstract\u001b[39;49m\u001b[38;5;124;43m'\u001b[39;49m\u001b[43m,\u001b[49m\u001b[43m \u001b[49m\n\u001b[1;32m      3\u001b[0m \u001b[43m                             \u001b[49m\u001b[38;5;124;43m'\u001b[39;49m\u001b[38;5;124;43mMain Body\u001b[39;49m\u001b[38;5;124;43m'\u001b[39;49m\u001b[43m,\u001b[49m\u001b[43m \u001b[49m\u001b[38;5;124;43m'\u001b[39;49m\u001b[38;5;124;43mword_count\u001b[39;49m\u001b[38;5;124;43m'\u001b[39;49m\u001b[43m,\u001b[49m\u001b[43m \u001b[49m\u001b[38;5;124;43m'\u001b[39;49m\u001b[38;5;124;43mAuthor\u001b[39;49m\u001b[38;5;124;43m'\u001b[39;49m\u001b[43m]\u001b[49m\u001b[43m,\u001b[49m\u001b[43m \u001b[49m\u001b[43minplace\u001b[49m\u001b[38;5;241;43m=\u001b[39;49m\u001b[38;5;28;43;01mTrue\u001b[39;49;00m\u001b[43m)\u001b[49m\n\u001b[1;32m      5\u001b[0m processed_df_a[\u001b[38;5;124m'\u001b[39m\u001b[38;5;124mWord Count\u001b[39m\u001b[38;5;124m'\u001b[39m] \u001b[38;5;241m=\u001b[39m processed_df_a[\u001b[38;5;124m'\u001b[39m\u001b[38;5;124mProcessed Text\u001b[39m\u001b[38;5;124m'\u001b[39m]\u001b[38;5;241m.\u001b[39mapply(\u001b[38;5;28;01mlambda\u001b[39;00m n: \u001b[38;5;28mlen\u001b[39m(n\u001b[38;5;241m.\u001b[39msplit()))\n\u001b[1;32m      6\u001b[0m processed_df_a\u001b[38;5;241m.\u001b[39mrename(columns\u001b[38;5;241m=\u001b[39m{\u001b[38;5;124m'\u001b[39m\u001b[38;5;124mclean_authors\u001b[39m\u001b[38;5;124m'\u001b[39m: \u001b[38;5;124m'\u001b[39m\u001b[38;5;124mAuthor\u001b[39m\u001b[38;5;124m'\u001b[39m}, inplace\u001b[38;5;241m=\u001b[39m\u001b[38;5;28;01mTrue\u001b[39;00m)\n",
      "File \u001b[0;32m~/.pyenv/versions/3.10.6/envs/scientific_paper_classifier/lib/python3.10/site-packages/pandas/core/frame.py:5581\u001b[0m, in \u001b[0;36mDataFrame.drop\u001b[0;34m(self, labels, axis, index, columns, level, inplace, errors)\u001b[0m\n\u001b[1;32m   5433\u001b[0m \u001b[38;5;28;01mdef\u001b[39;00m \u001b[38;5;21mdrop\u001b[39m(\n\u001b[1;32m   5434\u001b[0m     \u001b[38;5;28mself\u001b[39m,\n\u001b[1;32m   5435\u001b[0m     labels: IndexLabel \u001b[38;5;241m|\u001b[39m \u001b[38;5;28;01mNone\u001b[39;00m \u001b[38;5;241m=\u001b[39m \u001b[38;5;28;01mNone\u001b[39;00m,\n\u001b[0;32m   (...)\u001b[0m\n\u001b[1;32m   5442\u001b[0m     errors: IgnoreRaise \u001b[38;5;241m=\u001b[39m \u001b[38;5;124m\"\u001b[39m\u001b[38;5;124mraise\u001b[39m\u001b[38;5;124m\"\u001b[39m,\n\u001b[1;32m   5443\u001b[0m ) \u001b[38;5;241m-\u001b[39m\u001b[38;5;241m>\u001b[39m DataFrame \u001b[38;5;241m|\u001b[39m \u001b[38;5;28;01mNone\u001b[39;00m:\n\u001b[1;32m   5444\u001b[0m \u001b[38;5;250m    \u001b[39m\u001b[38;5;124;03m\"\"\"\u001b[39;00m\n\u001b[1;32m   5445\u001b[0m \u001b[38;5;124;03m    Drop specified labels from rows or columns.\u001b[39;00m\n\u001b[1;32m   5446\u001b[0m \n\u001b[0;32m   (...)\u001b[0m\n\u001b[1;32m   5579\u001b[0m \u001b[38;5;124;03m            weight  1.0     0.8\u001b[39;00m\n\u001b[1;32m   5580\u001b[0m \u001b[38;5;124;03m    \"\"\"\u001b[39;00m\n\u001b[0;32m-> 5581\u001b[0m     \u001b[38;5;28;01mreturn\u001b[39;00m \u001b[38;5;28;43msuper\u001b[39;49m\u001b[43m(\u001b[49m\u001b[43m)\u001b[49m\u001b[38;5;241;43m.\u001b[39;49m\u001b[43mdrop\u001b[49m\u001b[43m(\u001b[49m\n\u001b[1;32m   5582\u001b[0m \u001b[43m        \u001b[49m\u001b[43mlabels\u001b[49m\u001b[38;5;241;43m=\u001b[39;49m\u001b[43mlabels\u001b[49m\u001b[43m,\u001b[49m\n\u001b[1;32m   5583\u001b[0m \u001b[43m        \u001b[49m\u001b[43maxis\u001b[49m\u001b[38;5;241;43m=\u001b[39;49m\u001b[43maxis\u001b[49m\u001b[43m,\u001b[49m\n\u001b[1;32m   5584\u001b[0m \u001b[43m        \u001b[49m\u001b[43mindex\u001b[49m\u001b[38;5;241;43m=\u001b[39;49m\u001b[43mindex\u001b[49m\u001b[43m,\u001b[49m\n\u001b[1;32m   5585\u001b[0m \u001b[43m        \u001b[49m\u001b[43mcolumns\u001b[49m\u001b[38;5;241;43m=\u001b[39;49m\u001b[43mcolumns\u001b[49m\u001b[43m,\u001b[49m\n\u001b[1;32m   5586\u001b[0m \u001b[43m        \u001b[49m\u001b[43mlevel\u001b[49m\u001b[38;5;241;43m=\u001b[39;49m\u001b[43mlevel\u001b[49m\u001b[43m,\u001b[49m\n\u001b[1;32m   5587\u001b[0m \u001b[43m        \u001b[49m\u001b[43minplace\u001b[49m\u001b[38;5;241;43m=\u001b[39;49m\u001b[43minplace\u001b[49m\u001b[43m,\u001b[49m\n\u001b[1;32m   5588\u001b[0m \u001b[43m        \u001b[49m\u001b[43merrors\u001b[49m\u001b[38;5;241;43m=\u001b[39;49m\u001b[43merrors\u001b[49m\u001b[43m,\u001b[49m\n\u001b[1;32m   5589\u001b[0m \u001b[43m    \u001b[49m\u001b[43m)\u001b[49m\n",
      "File \u001b[0;32m~/.pyenv/versions/3.10.6/envs/scientific_paper_classifier/lib/python3.10/site-packages/pandas/core/generic.py:4788\u001b[0m, in \u001b[0;36mNDFrame.drop\u001b[0;34m(self, labels, axis, index, columns, level, inplace, errors)\u001b[0m\n\u001b[1;32m   4786\u001b[0m \u001b[38;5;28;01mfor\u001b[39;00m axis, labels \u001b[38;5;129;01min\u001b[39;00m axes\u001b[38;5;241m.\u001b[39mitems():\n\u001b[1;32m   4787\u001b[0m     \u001b[38;5;28;01mif\u001b[39;00m labels \u001b[38;5;129;01mis\u001b[39;00m \u001b[38;5;129;01mnot\u001b[39;00m \u001b[38;5;28;01mNone\u001b[39;00m:\n\u001b[0;32m-> 4788\u001b[0m         obj \u001b[38;5;241m=\u001b[39m \u001b[43mobj\u001b[49m\u001b[38;5;241;43m.\u001b[39;49m\u001b[43m_drop_axis\u001b[49m\u001b[43m(\u001b[49m\u001b[43mlabels\u001b[49m\u001b[43m,\u001b[49m\u001b[43m \u001b[49m\u001b[43maxis\u001b[49m\u001b[43m,\u001b[49m\u001b[43m \u001b[49m\u001b[43mlevel\u001b[49m\u001b[38;5;241;43m=\u001b[39;49m\u001b[43mlevel\u001b[49m\u001b[43m,\u001b[49m\u001b[43m \u001b[49m\u001b[43merrors\u001b[49m\u001b[38;5;241;43m=\u001b[39;49m\u001b[43merrors\u001b[49m\u001b[43m)\u001b[49m\n\u001b[1;32m   4790\u001b[0m \u001b[38;5;28;01mif\u001b[39;00m inplace:\n\u001b[1;32m   4791\u001b[0m     \u001b[38;5;28mself\u001b[39m\u001b[38;5;241m.\u001b[39m_update_inplace(obj)\n",
      "File \u001b[0;32m~/.pyenv/versions/3.10.6/envs/scientific_paper_classifier/lib/python3.10/site-packages/pandas/core/generic.py:4830\u001b[0m, in \u001b[0;36mNDFrame._drop_axis\u001b[0;34m(self, labels, axis, level, errors, only_slice)\u001b[0m\n\u001b[1;32m   4828\u001b[0m         new_axis \u001b[38;5;241m=\u001b[39m axis\u001b[38;5;241m.\u001b[39mdrop(labels, level\u001b[38;5;241m=\u001b[39mlevel, errors\u001b[38;5;241m=\u001b[39merrors)\n\u001b[1;32m   4829\u001b[0m     \u001b[38;5;28;01melse\u001b[39;00m:\n\u001b[0;32m-> 4830\u001b[0m         new_axis \u001b[38;5;241m=\u001b[39m \u001b[43maxis\u001b[49m\u001b[38;5;241;43m.\u001b[39;49m\u001b[43mdrop\u001b[49m\u001b[43m(\u001b[49m\u001b[43mlabels\u001b[49m\u001b[43m,\u001b[49m\u001b[43m \u001b[49m\u001b[43merrors\u001b[49m\u001b[38;5;241;43m=\u001b[39;49m\u001b[43merrors\u001b[49m\u001b[43m)\u001b[49m\n\u001b[1;32m   4831\u001b[0m     indexer \u001b[38;5;241m=\u001b[39m axis\u001b[38;5;241m.\u001b[39mget_indexer(new_axis)\n\u001b[1;32m   4833\u001b[0m \u001b[38;5;66;03m# Case for non-unique axis\u001b[39;00m\n\u001b[1;32m   4834\u001b[0m \u001b[38;5;28;01melse\u001b[39;00m:\n",
      "File \u001b[0;32m~/.pyenv/versions/3.10.6/envs/scientific_paper_classifier/lib/python3.10/site-packages/pandas/core/indexes/base.py:7070\u001b[0m, in \u001b[0;36mIndex.drop\u001b[0;34m(self, labels, errors)\u001b[0m\n\u001b[1;32m   7068\u001b[0m \u001b[38;5;28;01mif\u001b[39;00m mask\u001b[38;5;241m.\u001b[39many():\n\u001b[1;32m   7069\u001b[0m     \u001b[38;5;28;01mif\u001b[39;00m errors \u001b[38;5;241m!=\u001b[39m \u001b[38;5;124m\"\u001b[39m\u001b[38;5;124mignore\u001b[39m\u001b[38;5;124m\"\u001b[39m:\n\u001b[0;32m-> 7070\u001b[0m         \u001b[38;5;28;01mraise\u001b[39;00m \u001b[38;5;167;01mKeyError\u001b[39;00m(\u001b[38;5;124mf\u001b[39m\u001b[38;5;124m\"\u001b[39m\u001b[38;5;132;01m{\u001b[39;00mlabels[mask]\u001b[38;5;241m.\u001b[39mtolist()\u001b[38;5;132;01m}\u001b[39;00m\u001b[38;5;124m not found in axis\u001b[39m\u001b[38;5;124m\"\u001b[39m)\n\u001b[1;32m   7071\u001b[0m     indexer \u001b[38;5;241m=\u001b[39m indexer[\u001b[38;5;241m~\u001b[39mmask]\n\u001b[1;32m   7072\u001b[0m \u001b[38;5;28;01mreturn\u001b[39;00m \u001b[38;5;28mself\u001b[39m\u001b[38;5;241m.\u001b[39mdelete(indexer)\n",
      "\u001b[0;31mKeyError\u001b[0m: \"['arxiv-id', 'Journal reference', 'Comments', 'Abstract', 'Main Body', 'word_count'] not found in axis\""
     ]
    }
   ],
   "source": [
    "processed_df_a.drop(columns=['arxiv-id', 'Word Count', 'Journal reference',\n",
    "                             'Comments', 'Abstract',\n",
    "                             'Main Body', 'word_count', 'Author'], inplace=True)\n",
    "\n",
    "processed_df_a['Word Count'] = processed_df_a['Processed Text'].apply(lambda n: len(n.split()))\n",
    "processed_df_a.rename(columns={'clean_authors': 'Author'}, inplace=True)"
   ]
  },
  {
   "cell_type": "markdown",
   "id": "04f6c6a9",
   "metadata": {},
   "source": [
    "Exporting to GCP"
   ]
  },
  {
   "cell_type": "code",
   "execution_count": 101,
   "id": "9d91832e",
   "metadata": {},
   "outputs": [],
   "source": [
    "# Create a blob (file) object\n",
    "file_name = 'david_cleaned.csv'\n",
    "blob = bucket.blob(file_name)\n",
    "\n",
    "# Convert the DataFrame to a CSV bytes object\n",
    "csv_buffer = io.BytesIO()\n",
    "processed_df_d.to_csv(csv_buffer, index=False)\n",
    "csv_buffer.seek(0)\n",
    "\n",
    "# Upload the CSV bytes object to GCS\n",
    "blob.upload_from_file(csv_buffer)"
   ]
  },
  {
   "cell_type": "code",
   "execution_count": 121,
   "id": "35ea54c2",
   "metadata": {},
   "outputs": [],
   "source": [
    "# Create a blob (file) object\n",
    "file_name = 'collective_evolution_cleaned.csv'\n",
    "blob = bucket.blob(file_name)\n",
    "\n",
    "# Convert the DataFrame to a CSV bytes object\n",
    "csv_buffer = io.BytesIO()\n",
    "processed_df_ce.to_csv(csv_buffer, index=False)\n",
    "csv_buffer.seek(0)\n",
    "\n",
    "# Upload the CSV bytes object to GCS\n",
    "blob.upload_from_file(csv_buffer)"
   ]
  },
  {
   "cell_type": "code",
   "execution_count": 128,
   "id": "92db4ecf",
   "metadata": {},
   "outputs": [],
   "source": [
    "# Create a blob (file) object\n",
    "file_name = 'arxiv_cleaned.csv'\n",
    "blob = bucket.blob(file_name)\n",
    "\n",
    "# Convert the DataFrame to a CSV bytes object\n",
    "csv_buffer = io.BytesIO()\n",
    "processed_df_d.to_csv(csv_buffer, index=False)\n",
    "csv_buffer.seek(0)\n",
    "\n",
    "# Upload the CSV bytes object to GCS\n",
    "blob.upload_from_file(csv_buffer)"
   ]
  }
 ],
 "metadata": {
  "kernelspec": {
   "display_name": "Python 3 (ipykernel)",
   "language": "python",
   "name": "python3"
  },
  "language_info": {
   "codemirror_mode": {
    "name": "ipython",
    "version": 3
   },
   "file_extension": ".py",
   "mimetype": "text/x-python",
   "name": "python",
   "nbconvert_exporter": "python",
   "pygments_lexer": "ipython3",
   "version": "3.10.6"
  }
 },
 "nbformat": 4,
 "nbformat_minor": 5
}
