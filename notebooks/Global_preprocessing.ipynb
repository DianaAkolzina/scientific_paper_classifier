{
 "cells": [
  {
   "cell_type": "code",
   "execution_count": 40,
   "id": "67121eb1-05e2-46fa-8213-f54b1297700b",
   "metadata": {},
   "outputs": [],
   "source": [
    "import pandas as pd\n",
    "import spacy\n",
    "from langdetect import detect, LangDetectException\n",
    "import string\n",
    "import re\n",
    "from collections import Counter\n",
    "from unidecode import unidecode\n",
    "\n",
    "# Load the English language model for Spacy\n",
    "nlp = spacy.load(\"en_core_web_sm\")\n",
    "\n",
    "\n",
    "def preprocess_text(text):\n",
    "    \"\"\"Preprocesses the given text by cleaning, lemmatizing, and removing very short words and non-standard characters.\"\"\"\n",
    "    text = text.lower().strip()\n",
    "    text = unidecode(text)\n",
    "    text = re.sub(r'<.*?>', '', text)  # Remove HTML tags\n",
    "    text = re.sub(r'[{}]'.format(re.escape(string.punctuation)), ' ', text)  # Replace punctuation with space\n",
    "    text = re.sub(r'\\s+', ' ', text)  # Remove extra spaces\n",
    "    text = re.sub(r'\\d', ' ', text)  # Remove digits\n",
    "\n",
    "    doc = nlp(text)\n",
    "    filtered_tokens = [\n",
    "        token.lemma_ for token in doc\n",
    "        if not token.is_stop and len(token.lemma_) > 2 and token.lemma_.isalpha()\n",
    "        and token.pos_ not in ['PRON', 'DET']\n",
    "    ]\n",
    "    return ' '.join(filtered_tokens)\n",
    "\n",
    "def detect_english(text):\n",
    "    \"\"\"Detects if the given text is English.\"\"\"\n",
    "    try:\n",
    "        return detect(text) == 'en'\n",
    "    except LangDetectException:\n",
    "        return False\n",
    "\n",
    "def filter_english_text(df, text_column):\n",
    "    \"\"\"Filters the DataFrame to only include rows where the text is English.\"\"\"\n",
    "    df['is_english'] = df[text_column].apply(detect_english)\n",
    "    filtered_df = df[df['is_english']].drop(columns=['is_english'])\n",
    "    return filtered_df\n",
    "\n",
    "def get_most_frequent_word(text):\n",
    "    \"\"\"Extracts the most frequent word from the text.\"\"\"\n",
    "    words = text.split()\n",
    "    if words:\n",
    "        return Counter(words).most_common(1)[0][0]\n",
    "    return None\n",
    "\n",
    "def get_most_frequent_bigram(text):\n",
    "    \"\"\"Extracts the most frequent two-word combination from the text.\"\"\"\n",
    "    words = text.split()\n",
    "    if len(words) > 1:\n",
    "        bigrams = zip(words[:-1], words[1:])\n",
    "        return ' '.join(Counter(bigrams).most_common(1)[0][0])\n",
    "    return None\n"
   ]
  },
  {
   "cell_type": "code",
   "execution_count": 8,
   "id": "6faefe37-ecec-4ac2-8979-2aae69513622",
   "metadata": {},
   "outputs": [
    {
     "data": {
      "text/plain": [
       "(                                               Title        Author  \\\n",
       " 0        Interview with Bruce by Mystic Pop Magazine  Bruce Lipton   \n",
       " 1                  Embracing the Immaterial Universe  Bruce Lipton   \n",
       " 2                Insight into Cellular Consciousness  Bruce Lipton   \n",
       " 3                                  Fractal Evolution  Bruce Lipton   \n",
       " 4  Chiropractic Philosophy and the New Science: A...  Bruce Lipton   \n",
       " \n",
       "   Published Date                                          Main Body  \\\n",
       " 0     2024-05-06  Devra: I’m really excited about our interview ...   \n",
       " 1     2024-04-29  For over four hundred years, Western civilizat...   \n",
       " 2     2024-04-22  Reprinted from Bridges, 2001 Vol 12(1):5 ISSEE...   \n",
       " 3     2024-04-15  Evolution by BITs and Pieces: An Introduction ...   \n",
       " 4     2024-04-08  Chiropractic Philosophy and the New Science: A...   \n",
       " \n",
       "    Word Count Most Frequent Word  Most Frequent Word Count  \\\n",
       " 0        3239                the                       220   \n",
       " 1        2380                the                       168   \n",
       " 2        2317                the                       188   \n",
       " 3        3214                the                       299   \n",
       " 4        2515                the                       166   \n",
       " \n",
       "                                                 Link  Label Primary Category  \\\n",
       " 0  https://www.brucelipton.com/interview-bruce-my...      1                    \n",
       " 1  https://www.brucelipton.com/embracing-the-imma...      1                    \n",
       " 2  https://www.brucelipton.com/insight-cellular-c...      1                    \n",
       " 3     https://www.brucelipton.com/fractal-evolution/      1                    \n",
       " 4  https://www.brucelipton.com/chiropractic-philo...      1                    \n",
       " \n",
       "   All Categories  \n",
       " 0                 \n",
       " 1                 \n",
       " 2                 \n",
       " 3                 \n",
       " 4                 ,\n",
       " Title                       object\n",
       " Author                      object\n",
       " Published Date              object\n",
       " Main Body                   object\n",
       " Word Count                   int64\n",
       " Most Frequent Word          object\n",
       " Most Frequent Word Count     int64\n",
       " Link                        object\n",
       " Label                        int64\n",
       " Primary Category            object\n",
       " All Categories              object\n",
       " dtype: object,\n",
       "         Published                                              Title  \\\n",
       " 0  April 25, 2024   Astrological Adventures: Surprising Turns in May   \n",
       " 1  April 25, 2024  Here’s Everything You Need to Know About May’s...   \n",
       " 2  April 17, 2024  Expect the Unexpected: The Jupiter Uranus Conj...   \n",
       " 3  March 28, 2024  Everything You Need to Know About April’s Full...   \n",
       " 4  March 28, 2024  April Astrology Forecast: A Cosmic Fusion of R...   \n",
       " \n",
       "         Authors     Comments Primary Category All Categories  \\\n",
       " 0  Patty Kamson  No comments        Astrology      Astrology   \n",
       " 1    Renee Watt  No comments        Astrology      Astrology   \n",
       " 2  Tamerri Ater  No comments        Astrology      Astrology   \n",
       " 3    Renee Watt  No comments        Astrology      Astrology   \n",
       " 4    Astro Krys  No comments        Astrology      Astrology   \n",
       " \n",
       "                                             Abstract  Word Count  \\\n",
       " 0  A Cosmic Dance of Change and Innovation Hold o...        1533   \n",
       " 1  Sagittarius energy is beloved for its upliftin...         506   \n",
       " 2  Astrology is the study of how the positions of...        1092   \n",
       " 3  Darkness, glamor, mystery, and romance comming...         511   \n",
       " 4  Welcome to April 2024, a month that promises a...        1347   \n",
       " \n",
       "   Most Frequent Word  Most Frequent Word Count  \\\n",
       " 0                the                        59   \n",
       " 1                the                        23   \n",
       " 2                the                        58   \n",
       " 3                 to                        21   \n",
       " 4                and                        55   \n",
       " \n",
       "                                            Main Body  Number of Images  \\\n",
       " 0  A Cosmic Dance of Change and Innovation Hold o...                 6   \n",
       " 1  Sagittarius energy is beloved for its upliftin...                 6   \n",
       " 2  Astrology is the study of how the positions of...                 6   \n",
       " 3  Darkness, glamor, mystery, and romance comming...                 6   \n",
       " 4  Welcome to April 2024, a month that promises a...                 6   \n",
       " \n",
       "                                                 Link  Label  \n",
       " 0  https://www.astrology.com/article/may-2024-ast...      1  \n",
       " 1  https://www.astrology.com/article/full-moon-ma...      1  \n",
       " 2  https://www.astrology.com/article/expect-the-u...      1  \n",
       " 3  https://www.astrology.com/article/full-moon-ap...      1  \n",
       " 4  https://www.astrology.com/article/april-2024-a...      1  ,\n",
       " Published                   object\n",
       " Title                       object\n",
       " Authors                     object\n",
       " Comments                    object\n",
       " Primary Category            object\n",
       " All Categories              object\n",
       " Abstract                    object\n",
       " Word Count                   int64\n",
       " Most Frequent Word          object\n",
       " Most Frequent Word Count     int64\n",
       " Main Body                   object\n",
       " Number of Images             int64\n",
       " Link                        object\n",
       " Label                        int64\n",
       " dtype: object)"
      ]
     },
     "execution_count": 8,
     "metadata": {},
     "output_type": "execute_result"
    }
   ],
   "source": [
    "#TODO get datasets from GCP and form dfs (datasets from cleaned data folder)\n"
   ]
  },
  {
   "cell_type": "code",
   "execution_count": null,
   "id": "fbf21eaa",
   "metadata": {},
   "outputs": [],
   "source": [
    "#TODO concat the dfs into one big df called combined_df for simplicity"
   ]
  },
  {
   "cell_type": "code",
   "execution_count": 42,
   "id": "b135dca5-da80-478b-8e5c-973291de42bf",
   "metadata": {},
   "outputs": [
    {
     "data": {
      "image/png": "[encoded data removed]",
      "text/plain": [
       "<Figure size 1000x600 with 1 Axes>"
      ]
     },
     "metadata": {},
     "output_type": "display_data"
    }
   ],
   "source": [
    "import matplotlib.pyplot as plt\n",
    "from collections import Counter\n",
    "def plot_word_count_distribution(df, column, title):\n",
    "    \"\"\"Plot the word count distribution of a text column.\"\"\"\n",
    "    word_counts = df[column].str.split().str.len()\n",
    "    plt.figure(figsize=(10, 6))\n",
    "    plt.hist(word_counts, bins=30, color='skyblue', edgecolor='black')\n",
    "    plt.title(f'Word Count Distribution in {title}')\n",
    "    plt.xlabel('Number of Words')\n",
    "    plt.ylabel('Frequency')\n",
    "    plt.grid(True)\n",
    "    plt.show()\n",
    "\n",
    "plot_word_count_distribution(combined_df, 'Main Body', 'Original Texts')"
   ]
  },
  {
   "cell_type": "code",
   "execution_count": 25,
   "id": "9d1d028b-130c-4f8f-bf86-6f572b9b48fd",
   "metadata": {},
   "outputs": [
    {
     "name": "stdout",
     "output_type": "stream",
     "text": [
      "Top 10 Most Frequent Words:\n",
      "the: 22297\n",
      "and: 12525\n",
      "to: 12248\n",
      "of: 11649\n",
      "in: 9440\n",
      "a: 8373\n",
      "is: 6015\n",
      "that: 5365\n",
      "you: 4668\n",
      "this: 4011\n"
     ]
    }
   ],
   "source": [
    "def clean_text(text):\n",
    "    \"\"\"Further clean the text by removing numbers and non-alphanumeric characters, and converting to lowercase.\"\"\"\n",
    "    if pd.isna(text):\n",
    "        return \"\"\n",
    "    text = re.sub(r'[^a-zA-Z\\s]', '', str(text))\n",
    "    text = text.lower()\n",
    "    return text\n",
    "\n",
    "combined_df['Cleaned Body'] = combined_df['Main Body'].apply(clean_text)\n",
    "\n",
    "all_cleaned_texts = ' '.join(combined_df['Cleaned Body'])\n",
    "top_words = get_top_words(all_cleaned_texts, 10)\n",
    "\n",
    "print(\"Top 10 Most Frequent Words:\")\n",
    "for word, count in top_words:\n",
    "    print(f\"{word}: {count}\")\n"
   ]
  },
  {
   "cell_type": "code",
   "execution_count": 38,
   "id": "eb31f12c-251a-4667-b761-0180544081e3",
   "metadata": {},
   "outputs": [],
   "source": [
    "def preprocessing_pipeline(df, text_column):\n",
    "    \"\"\"Applies text cleaning, English filtering, and updates most frequent words in a DataFrame.\"\"\"\n",
    "    df = df.dropna(subset=[text_column])\n",
    "    df = filter_english_text(df, text_column)\n",
    "\n",
    "    if not df.empty:\n",
    "        df['Processed Text'] = df[text_column].apply(preprocess_text)\n",
    "        df['Most Frequent Word'] = df['Processed Text'].apply(get_most_frequent_word)\n",
    "        df['Most Frequent Word Combination'] = df['Processed Text'].apply(get_most_frequent_bigram)\n",
    "\n",
    "    return df\n"
   ]
  },
  {
   "cell_type": "code",
   "execution_count": 41,
   "id": "d3b2a4c8-068e-4389-9f6d-90c0dcf00658",
   "metadata": {},
   "outputs": [
    {
     "name": "stderr",
     "output_type": "stream",
     "text": [
      "/tmp/ipykernel_836901/1117353213.py:39: SettingWithCopyWarning: \n",
      "A value is trying to be set on a copy of a slice from a DataFrame.\n",
      "Try using .loc[row_indexer,col_indexer] = value instead\n",
      "\n",
      "See the caveats in the documentation: https://pandas.pydata.org/pandas-docs/stable/user_guide/indexing.html#returning-a-view-versus-a-copy\n",
      "  df['is_english'] = df[text_column].apply(detect_english)\n"
     ]
    }
   ],
   "source": [
    "updated_df = preprocessing_pipeline(combined_df, 'Main Body')"
   ]
  },
  {
   "cell_type": "code",
   "execution_count": 44,
   "id": "2db54c79-79bc-4bcc-a5c7-4325f3cd0849",
   "metadata": {},
   "outputs": [
    {
     "data": {
      "image/png": "[encoded data removed]",
      "text/plain": [
       "<Figure size 1000x600 with 1 Axes>"
      ]
     },
     "metadata": {},
     "output_type": "display_data"
    }
   ],
   "source": [
    "plot_word_count_distribution(updated_df, 'Processed Text', 'Cleaned Texts')"
   ]
  },
  {
   "cell_type": "code",
   "execution_count": 46,
   "id": "d26a6180-39aa-481f-94e3-0790f0f5f64f",
   "metadata": {},
   "outputs": [
    {
     "name": "stdout",
     "output_type": "stream",
     "text": [
      "Top 10 Most Frequent Words:\n",
      "time: 1863\n",
      "retrograde: 1726\n",
      "mercury: 1647\n",
      "life: 1443\n",
      "new: 1382\n",
      "sign: 1097\n",
      "cell: 1077\n",
      "change: 1020\n",
      "energy: 982\n",
      "jupiter: 945\n"
     ]
    }
   ],
   "source": [
    "def clean_text(text):\n",
    "    \"\"\"Further clean the text by removing numbers and non-alphanumeric characters, and converting to lowercase.\"\"\"\n",
    "    if pd.isna(text):\n",
    "        return \"\"\n",
    "    text = re.sub(r'[^a-zA-Z\\s]', '', str(text))\n",
    "    text = text.lower()\n",
    "    return text\n",
    "\n",
    "\n",
    "all_cleaned_texts = ' '.join(updated_df['Processed Text'])\n",
    "top_words = get_top_words(all_cleaned_texts, 10)\n",
    "\n",
    "print(\"Top 10 Most Frequent Words:\")\n",
    "for word, count in top_words:\n",
    "    print(f\"{word}: {count}\")\n"
   ]
  },
  {
   "cell_type": "code",
   "execution_count": 32,
   "id": "717acc46-6081-42b5-bbe5-07a6acbee12f",
   "metadata": {},
   "outputs": [],
   "source": [
    "'''for the next step of embedding in the pipeline'''\n",
    "# from gensim.models import FastText\n",
    "# import nltk\n",
    "# import numpy as np\n",
    "# from sklearn.base import BaseEstimator, TransformerMixin\n",
    "\n",
    "# def tokenize_texts(text_list):\n",
    "#     return [nltk.word_tokenize(text) for text in text_list]\n",
    "\n",
    "# def create_fasttext_model(tokenized_texts, size=100, window=5, min_count=1, workers=4, sg=1):\n",
    "#     model = FastText(tokenized_texts, size=size, window=window, min_count=min_count, workers=workers, sg=sg)\n",
    "#     return model\n",
    "\n",
    "# def prepare_word_vectors(model):\n",
    "#     return {word: model.wv[word] for word in model.wv.vocab}\n",
    "\n",
    "# class MeanEmbeddingVectorizer(BaseEstimator, TransformerMixin):\n",
    "#     def __init__(self, word2vec):\n",
    "#         self.word2vec = word2vec\n",
    "#         self.dim = len(next(iter(word2vec.values())))\n",
    "\n",
    "#     def fit(self, X, y=None):\n",
    "#         return self\n",
    "\n",
    "#     def transform(self, X):\n",
    "#         return np.array([\n",
    "#             np.mean([self.word2vec.get(w, np.zeros(self.dim)) for w in words], axis=0)\n",
    "#             for words in X\n",
    "#         ])\n"
   ]
  },
  {
   "cell_type": "code",
   "execution_count": null,
   "id": "1171bebf-fb49-4138-9e0f-8f30bdce57ca",
   "metadata": {},
   "outputs": [],
   "source": []
  }
 ],
 "metadata": {
  "kernelspec": {
   "display_name": "Python 3.10.6 (pyenv)",
   "language": "python",
   "name": "pyenv-3.10.6"
  },
  "language_info": {
   "codemirror_mode": {
    "name": "ipython",
    "version": 3
   },
   "file_extension": ".py",
   "mimetype": "text/x-python",
   "name": "python",
   "nbconvert_exporter": "python",
   "pygments_lexer": "ipython3",
   "version": "3.10.6"
  }
 },
 "nbformat": 4,
 "nbformat_minor": 5
}
