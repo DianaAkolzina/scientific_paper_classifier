{
 "cells": [
  {
   "cell_type": "code",
   "execution_count": 6,
   "id": "4ac7436f",
   "metadata": {},
   "outputs": [],
   "source": [
    "import pandas as pd\n",
    "import spacy\n",
    "from langdetect import detect, LangDetectException\n",
    "import string\n",
    "import re\n",
    "from collections import Counter\n",
    "from unidecode import unidecode\n",
    "import io\n",
    "from google.cloud import storage\n",
    "from nltk.tokenize import word_tokenize\n",
    "from nltk.corpus import stopwords\n",
    "from nltk.stem import WordNetLemmatizer\n",
    "import seaborn as sns\n",
    "import os"
   ]
  },
  {
   "cell_type": "code",
   "execution_count": 7,
   "id": "2a12052e",
   "metadata": {},
   "outputs": [],
   "source": [
    "BUCKET_NAME = os.getenv(\"BUCKET_NAME\")\n",
    "GCP_PROJECT = os.getenv(\"GCP_PROJECT\")"
   ]
  },
  {
   "cell_type": "code",
   "execution_count": 8,
   "id": "67121eb1-05e2-46fa-8213-f54b1297700b",
   "metadata": {},
   "outputs": [],
   "source": [
    "# Load the English language model for Spacy\n",
    "nlp = spacy.load(\"en_core_web_sm\")\n",
    "\n",
    "\n",
    "def preprocess_text(text):\n",
    "    \"\"\"Preprocesses the given text by cleaning, lemmatizing, and removing very short words and non-standard characters.\"\"\"\n",
    "    text = text.lower().strip()\n",
    "    text = unidecode(text)\n",
    "    text = re.sub(r'<.*?>', '', text)  # Remove HTML tags\n",
    "    text = re.sub(r'[{}]'.format(re.escape(string.punctuation)), ' ', text)  # Replace punctuation with space\n",
    "    text = re.sub(r'\\s+', ' ', text)  # Remove extra spaces\n",
    "    text = re.sub(r'\\d', ' ', text)  # Remove digits\n",
    "\n",
    "    doc = nlp(text)\n",
    "    filtered_tokens = [\n",
    "        token.lemma_ for token in doc\n",
    "        if not token.is_stop and len(token.lemma_) > 2 and token.lemma_.isalpha()\n",
    "        and token.pos_ not in ['PRON', 'DET']\n",
    "    ]\n",
    "    return ' '.join(filtered_tokens)\n",
    "\n",
    "def detect_english(text):\n",
    "    \"\"\"Detects if the given text is English.\"\"\"\n",
    "    try:\n",
    "        return detect(text) == 'en'\n",
    "    except LangDetectException:\n",
    "        return False\n",
    "\n",
    "def filter_english_text(df, text_column):\n",
    "    \"\"\"Filters the DataFrame to only include rows where the text is English.\"\"\"\n",
    "    df['is_english'] = df[text_column].apply(detect_english)\n",
    "    filtered_df = df[df['is_english']].drop(columns=['is_english'])\n",
    "    return filtered_df\n",
    "\n",
    "def get_most_frequent_word(text):\n",
    "    \"\"\"Extracts the most frequent word from the text.\"\"\"\n",
    "    words = text.split()\n",
    "    if words:\n",
    "        return Counter(words).most_common(1)[0][0]\n",
    "    return None\n",
    "\n",
    "def get_most_frequent_bigram(text):\n",
    "    \"\"\"Extracts the most frequent two-word combination from the text.\"\"\"\n",
    "    words = text.split()\n",
    "    if len(words) > 1:\n",
    "        bigrams = zip(words[:-1], words[1:])\n",
    "        return ' '.join(Counter(bigrams).most_common(1)[0][0])\n",
    "    return None\n"
   ]
  },
  {
   "cell_type": "code",
   "execution_count": 9,
   "id": "6faefe37-ecec-4ac2-8979-2aae69513622",
   "metadata": {},
   "outputs": [],
   "source": [
    "def get_data_from_gcp(bucket_name, file_name):\n",
    "    # Create a storage client\n",
    "    storage_client = storage.Client()\n",
    "    # Get the bucket\n",
    "    bucket = storage_client.get_bucket(bucket_name)\n",
    "    # Get the blob (file) from the bucket\n",
    "    blob = bucket.get_blob(file_name)\n",
    "    # Read the CSV file into a DataFrame\n",
    "    df = pd.read_csv(io.BytesIO(blob.download_as_bytes()), sep=\",\")\n",
    "\n",
    "    return df"
   ]
  },
  {
   "cell_type": "code",
   "execution_count": 66,
   "id": "df0a8e93",
   "metadata": {},
   "outputs": [],
   "source": [
    "file_name_list = ['cleaned_data/arxiv_cleaned.csv', 'cleaned_data/collective_evolution_cleaned.csv'\\\n",
    "                ,'cleaned_data/david_cleaned.csv', 'cleaned_data/ftcheck_cleaned.csv'\\\n",
    "                , 'cleaned_data/isha_cleaned.csv', 'cleaned_data/naturalnews_cleaned.csv', 'cleaned_data/astro_lipton_cleaned.csv']"
   ]
  },
  {
   "cell_type": "code",
   "execution_count": 15,
   "id": "fbf21eaa",
   "metadata": {},
   "outputs": [],
   "source": [
    "#TODO concat the dfs into one big df called combined_df for simplicity\n",
    "\n",
    "df_arxiv = get_data_from_gcp(BUCKET_NAME, file_name_list[0])\n",
    "df_collective_evolution = get_data_from_gcp(BUCKET_NAME, file_name_list[1])\n",
    "df_david = get_data_from_gcp(BUCKET_NAME, file_name_list[2])\n",
    "df_factcheck = get_data_from_gcp(BUCKET_NAME, file_name_list[3])\n",
    "df_isha = get_data_from_gcp(BUCKET_NAME, file_name_list[4])\n",
    "df_naturalnews = get_data_from_gcp(BUCKET_NAME, file_name_list[5])"
   ]
  },
  {
   "cell_type": "code",
   "execution_count": 67,
   "id": "605247bf",
   "metadata": {},
   "outputs": [],
   "source": [
    "df_astro = get_data_from_gcp(BUCKET_NAME, file_name_list[6])"
   ]
  },
  {
   "cell_type": "code",
   "execution_count": 68,
   "id": "7c9b7fc9",
   "metadata": {},
   "outputs": [
    {
     "data": {
      "text/plain": [
       "Index(['Unnamed: 0', 'Title', 'Author', 'Published Date', 'Main Body',\n",
       "       'Word Count', 'Most Frequent Word', 'Most Frequent Word Count', 'Link',\n",
       "       'Label', 'Primary Category', 'All Categories', 'Cleaned Body',\n",
       "       'Processed Text', 'Most Frequent Word Combination'],\n",
       "      dtype='object')"
      ]
     },
     "execution_count": 68,
     "metadata": {},
     "output_type": "execute_result"
    }
   ],
   "source": [
    "df_astro.columns"
   ]
  },
  {
   "cell_type": "code",
   "execution_count": 69,
   "id": "69ebedde",
   "metadata": {},
   "outputs": [],
   "source": [
    "df_astro.drop(columns=['Unnamed: 0','Most Frequent Word Combination','Cleaned Body','Main Body','Most Frequent Word Count'], inplace=True)"
   ]
  },
  {
   "cell_type": "code",
   "execution_count": 71,
   "id": "23cc8f21",
   "metadata": {},
   "outputs": [],
   "source": [
    "df_astro = df_astro[['Title', 'Author', 'Published Date', 'Word Count', 'Most Frequent Word',\n",
    "       'Link', 'Label', 'Primary Category', 'All Categories',\n",
    "       'Processed Text']]"
   ]
  },
  {
   "cell_type": "code",
   "execution_count": 54,
   "id": "0de2fee8",
   "metadata": {},
   "outputs": [
    {
     "data": {
      "text/plain": [
       "Index(['Title', 'Published Date', 'Author', 'Main Category', 'All Categories',\n",
       "       'Main Body', 'Word Count', 'Link', 'Label', 'Processed Text'],\n",
       "      dtype='object')"
      ]
     },
     "execution_count": 54,
     "metadata": {},
     "output_type": "execute_result"
    }
   ],
   "source": [
    "df_naturalnews.columns"
   ]
  },
  {
   "cell_type": "code",
   "execution_count": 55,
   "id": "5d273b8d",
   "metadata": {},
   "outputs": [],
   "source": [
    "df_naturalnews.drop(columns=['Main Body'], inplace=True)\n",
    "df_naturalnews.rename(columns = {'Main Category':'Primary Category'}, inplace=True)\n",
    "df_naturalnews['Most Frequent Word']=''\n",
    "\n",
    "df_naturalnews.columns"
   ]
  },
  {
   "cell_type": "code",
   "execution_count": 60,
   "id": "5b3c4fdd",
   "metadata": {},
   "outputs": [],
   "source": [
    " df_naturalnews = df_naturalnews[['Title', 'Author', 'Published Date', 'Word Count', 'Most Frequent Word',\n",
    "        'Link', 'Label', 'Primary Category', 'All Categories',\n",
    "        'Processed Text']]"
   ]
  },
  {
   "cell_type": "code",
   "execution_count": 50,
   "id": "cc108deb",
   "metadata": {},
   "outputs": [
    {
     "data": {
      "image/png": "[encoded data removed]",
      "text/plain": [
       "<Figure size 640x480 with 1 Axes>"
      ]
     },
     "metadata": {},
     "output_type": "display_data"
    }
   ],
   "source": [
    "sns.histplot(df_naturalnews['Word Count'], kde=True);"
   ]
  },
  {
   "cell_type": "code",
   "execution_count": 72,
   "id": "4b07ca66",
   "metadata": {},
   "outputs": [
    {
     "data": {
      "text/plain": [
       "Index(['Title', 'Author', 'Published Date', 'Word Count', 'Most Frequent Word',\n",
       "       'Link', 'Label', 'Primary Category', 'All Categories',\n",
       "       'Processed Text'],\n",
       "      dtype='object')"
      ]
     },
     "execution_count": 72,
     "metadata": {},
     "output_type": "execute_result"
    }
   ],
   "source": [
    "final_df = pd.concat([df_arxiv, df_collective_evolution, df_david, df_isha, df_naturalnews, df_factcheck, df_astro], join = 'inner')\n",
    "final_df.columns"
   ]
  },
  {
   "cell_type": "code",
   "execution_count": 73,
   "id": "7f148e8b",
   "metadata": {},
   "outputs": [],
   "source": [
    "combined_df = final_df"
   ]
  },
  {
   "cell_type": "code",
   "execution_count": 44,
   "id": "b135dca5-da80-478b-8e5c-973291de42bf",
   "metadata": {},
   "outputs": [
    {
     "ename": "NameError",
     "evalue": "name 'combined_df' is not defined",
     "output_type": "error",
     "traceback": [
      "\u001b[0;31m---------------------------------------------------------------------------\u001b[0m",
      "\u001b[0;31mNameError\u001b[0m                                 Traceback (most recent call last)",
      "Cell \u001b[0;32mIn[44], line 14\u001b[0m\n\u001b[1;32m     11\u001b[0m     plt\u001b[38;5;241m.\u001b[39mgrid(\u001b[38;5;28;01mTrue\u001b[39;00m)\n\u001b[1;32m     12\u001b[0m     plt\u001b[38;5;241m.\u001b[39mshow()\n\u001b[0;32m---> 14\u001b[0m plot_word_count_distribution(\u001b[43mcombined_df\u001b[49m, \u001b[38;5;124m'\u001b[39m\u001b[38;5;124mMain Body\u001b[39m\u001b[38;5;124m'\u001b[39m, \u001b[38;5;124m'\u001b[39m\u001b[38;5;124mOriginal Texts\u001b[39m\u001b[38;5;124m'\u001b[39m)\n",
      "\u001b[0;31mNameError\u001b[0m: name 'combined_df' is not defined"
     ]
    }
   ],
   "source": [
    "import matplotlib.pyplot as plt\n",
    "from collections import Counter\n",
    "def plot_word_count_distribution(df, column, title):\n",
    "    \"\"\"Plot the word count distribution of a text column.\"\"\"\n",
    "    word_counts = df[column].str.split().str.len()\n",
    "    plt.figure(figsize=(10, 6))\n",
    "    plt.hist(word_counts, bins=30, color='skyblue', edgecolor='black')\n",
    "    plt.title(f'Word Count Distribution in {title}')\n",
    "    plt.xlabel('Number of Words')\n",
    "    plt.ylabel('Frequency')\n",
    "    plt.grid(True)\n",
    "    plt.show()\n",
    "\n",
    "plot_word_count_distribution(combined_df, 'Main Body', 'Original Texts')"
   ]
  },
  {
   "cell_type": "code",
   "execution_count": 45,
   "id": "9d1d028b-130c-4f8f-bf86-6f572b9b48fd",
   "metadata": {},
   "outputs": [
    {
     "ename": "NameError",
     "evalue": "name 'combined_df' is not defined",
     "output_type": "error",
     "traceback": [
      "\u001b[0;31m---------------------------------------------------------------------------\u001b[0m",
      "\u001b[0;31mNameError\u001b[0m                                 Traceback (most recent call last)",
      "Cell \u001b[0;32mIn[45], line 9\u001b[0m\n\u001b[1;32m      6\u001b[0m     text \u001b[38;5;241m=\u001b[39m text\u001b[38;5;241m.\u001b[39mlower()\n\u001b[1;32m      7\u001b[0m     \u001b[38;5;28;01mreturn\u001b[39;00m text\n\u001b[0;32m----> 9\u001b[0m combined_df[\u001b[38;5;124m'\u001b[39m\u001b[38;5;124mCleaned Body\u001b[39m\u001b[38;5;124m'\u001b[39m] \u001b[38;5;241m=\u001b[39m \u001b[43mcombined_df\u001b[49m[\u001b[38;5;124m'\u001b[39m\u001b[38;5;124mMain Body\u001b[39m\u001b[38;5;124m'\u001b[39m]\u001b[38;5;241m.\u001b[39mapply(clean_text)\n\u001b[1;32m     11\u001b[0m all_cleaned_texts \u001b[38;5;241m=\u001b[39m \u001b[38;5;124m'\u001b[39m\u001b[38;5;124m \u001b[39m\u001b[38;5;124m'\u001b[39m\u001b[38;5;241m.\u001b[39mjoin(combined_df[\u001b[38;5;124m'\u001b[39m\u001b[38;5;124mCleaned Body\u001b[39m\u001b[38;5;124m'\u001b[39m])\n\u001b[1;32m     12\u001b[0m top_words \u001b[38;5;241m=\u001b[39m get_top_words(all_cleaned_texts, \u001b[38;5;241m10\u001b[39m)\n",
      "\u001b[0;31mNameError\u001b[0m: name 'combined_df' is not defined"
     ]
    }
   ],
   "source": [
    "def clean_text(text):\n",
    "    \"\"\"Further clean the text by removing numbers and non-alphanumeric characters, and converting to lowercase.\"\"\"\n",
    "    if pd.isna(text):\n",
    "        return \"\"\n",
    "    text = re.sub(r'[^a-zA-Z\\s]', '', str(text))\n",
    "    text = text.lower()\n",
    "    return text\n",
    "\n",
    "combined_df['Cleaned Body'] = combined_df['Main Body'].apply(clean_text)\n",
    "\n",
    "all_cleaned_texts = ' '.join(combined_df['Cleaned Body'])\n",
    "top_words = get_top_words(all_cleaned_texts, 10)\n",
    "\n",
    "print(\"Top 10 Most Frequent Words:\")\n",
    "for word, count in top_words:\n",
    "    print(f\"{word}: {count}\")\n"
   ]
  },
  {
   "cell_type": "code",
   "execution_count": 47,
   "id": "eb31f12c-251a-4667-b761-0180544081e3",
   "metadata": {},
   "outputs": [],
   "source": [
    "def preprocessing_pipeline(df, text_column):\n",
    "    \"\"\"Applies text cleaning, English filtering, and updates most frequent words in a DataFrame.\"\"\"\n",
    "    df = df.dropna(subset=[text_column])\n",
    "    df = filter_english_text(df, text_column)\n",
    "\n",
    "    if not df.empty:\n",
    "        df['Processed Text'] = df[text_column].apply(preprocess_text)\n",
    "        df['Most Frequent Word'] = df['Processed Text'].apply(get_most_frequent_word)\n",
    "       # df['Most Frequent Word Combination'] = df['Processed Text'].apply(get_most_frequent_bigram)\n",
    "\n",
    "    return df\n"
   ]
  },
  {
   "cell_type": "code",
   "execution_count": 41,
   "id": "d3b2a4c8-068e-4389-9f6d-90c0dcf00658",
   "metadata": {},
   "outputs": [
    {
     "name": "stderr",
     "output_type": "stream",
     "text": [
      "/tmp/ipykernel_836901/1117353213.py:39: SettingWithCopyWarning: \n",
      "A value is trying to be set on a copy of a slice from a DataFrame.\n",
      "Try using .loc[row_indexer,col_indexer] = value instead\n",
      "\n",
      "See the caveats in the documentation: https://pandas.pydata.org/pandas-docs/stable/user_guide/indexing.html#returning-a-view-versus-a-copy\n",
      "  df['is_english'] = df[text_column].apply(detect_english)\n"
     ]
    }
   ],
   "source": [
    "updated_df = preprocessing_pipeline(combined_df, 'Main Body')"
   ]
  },
  {
   "cell_type": "code",
   "execution_count": 44,
   "id": "2db54c79-79bc-4bcc-a5c7-4325f3cd0849",
   "metadata": {},
   "outputs": [
    {
     "data": {
      "image/png": "[encoded data removed]",
      "text/plain": [
       "<Figure size 1000x600 with 1 Axes>"
      ]
     },
     "metadata": {},
     "output_type": "display_data"
    }
   ],
   "source": [
    "plot_word_count_distribution(updated_df, 'Processed Text', 'Cleaned Texts')"
   ]
  },
  {
   "cell_type": "code",
   "execution_count": 46,
   "id": "d26a6180-39aa-481f-94e3-0790f0f5f64f",
   "metadata": {},
   "outputs": [
    {
     "name": "stdout",
     "output_type": "stream",
     "text": [
      "Top 10 Most Frequent Words:\n",
      "time: 1863\n",
      "retrograde: 1726\n",
      "mercury: 1647\n",
      "life: 1443\n",
      "new: 1382\n",
      "sign: 1097\n",
      "cell: 1077\n",
      "change: 1020\n",
      "energy: 982\n",
      "jupiter: 945\n"
     ]
    }
   ],
   "source": [
    "def clean_text(text):\n",
    "    \"\"\"Further clean the text by removing numbers and non-alphanumeric characters, and converting to lowercase.\"\"\"\n",
    "    if pd.isna(text):\n",
    "        return \"\"\n",
    "    text = re.sub(r'[^a-zA-Z\\s]', '', str(text))\n",
    "    text = text.lower()\n",
    "    return text\n",
    "\n",
    "\n",
    "all_cleaned_texts = ' '.join(updated_df['Processed Text'])\n",
    "top_words = get_top_words(all_cleaned_texts, 10)\n",
    "\n",
    "print(\"Top 10 Most Frequent Words:\")\n",
    "for word, count in top_words:\n",
    "    print(f\"{word}: {count}\")\n"
   ]
  },
  {
   "cell_type": "code",
   "execution_count": 32,
   "id": "717acc46-6081-42b5-bbe5-07a6acbee12f",
   "metadata": {},
   "outputs": [],
   "source": [
    "'''for the next step of embedding in the pipeline'''\n",
    "# from gensim.models import FastText\n",
    "# import nltk\n",
    "# import numpy as np\n",
    "# from sklearn.base import BaseEstimator, TransformerMixin\n",
    "\n",
    "# def tokenize_texts(text_list):\n",
    "#     return [nltk.word_tokenize(text) for text in text_list]\n",
    "\n",
    "# def create_fasttext_model(tokenized_texts, size=100, window=5, min_count=1, workers=4, sg=1):\n",
    "#     model = FastText(tokenized_texts, size=size, window=window, min_count=min_count, workers=workers, sg=sg)\n",
    "#     return model\n",
    "\n",
    "# def prepare_word_vectors(model):\n",
    "#     return {word: model.wv[word] for word in model.wv.vocab}\n",
    "\n",
    "# class MeanEmbeddingVectorizer(BaseEstimator, TransformerMixin):\n",
    "#     def __init__(self, word2vec):\n",
    "#         self.word2vec = word2vec\n",
    "#         self.dim = len(next(iter(word2vec.values())))\n",
    "\n",
    "#     def fit(self, X, y=None):\n",
    "#         return self\n",
    "\n",
    "#     def transform(self, X):\n",
    "#         return np.array([\n",
    "#             np.mean([self.word2vec.get(w, np.zeros(self.dim)) for w in words], axis=0)\n",
    "#             for words in X\n",
    "#         ])\n"
   ]
  },
  {
   "cell_type": "code",
   "execution_count": null,
   "id": "1171bebf-fb49-4138-9e0f-8f30bdce57ca",
   "metadata": {},
   "outputs": [],
   "source": []
  }
 ],
 "metadata": {
  "kernelspec": {
   "display_name": "scientific_paper_classifier",
   "language": "python",
   "name": "python3"
  },
  "language_info": {
   "codemirror_mode": {
    "name": "ipython",
    "version": 3
   },
   "file_extension": ".py",
   "mimetype": "text/x-python",
   "name": "python",
   "nbconvert_exporter": "python",
   "pygments_lexer": "ipython3",
   "version": "3.10.6"
  }
 },
 "nbformat": 4,
 "nbformat_minor": 5
}
