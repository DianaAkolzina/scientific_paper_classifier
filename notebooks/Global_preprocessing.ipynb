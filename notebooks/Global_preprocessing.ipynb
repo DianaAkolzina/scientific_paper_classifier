{
 "cells": [
  {
   "cell_type": "code",
   "execution_count": 9,
   "id": "febad66d-0fac-4c6e-b5db-ce2e5af0fc16",
   "metadata": {},
   "outputs": [
    {
     "name": "stdout",
     "output_type": "stream",
     "text": [
      "\u001b[31mERROR: Could not find a version that satisfies the requirement keras.preprocessing.text (from versions: none)\u001b[0m\u001b[31m\n",
      "\u001b[0m\u001b[31mERROR: No matching distribution found for keras.preprocessing.text\u001b[0m\u001b[31m\n",
      "\u001b[0m\n",
      "\u001b[1m[\u001b[0m\u001b[34;49mnotice\u001b[0m\u001b[1;39;49m]\u001b[0m\u001b[39;49m A new release of pip available: \u001b[0m\u001b[31;49m22.2.1\u001b[0m\u001b[39;49m -> \u001b[0m\u001b[32;49m24.0\u001b[0m\n",
      "\u001b[1m[\u001b[0m\u001b[34;49mnotice\u001b[0m\u001b[1;39;49m]\u001b[0m\u001b[39;49m To update, run: \u001b[0m\u001b[32;49mpip install --upgrade pip\u001b[0m\n",
      "Note: you may need to restart the kernel to use updated packages.\n"
     ]
    }
   ],
   "source": [
    "%pip install keras.preprocessing.text"
   ]
  },
  {
   "cell_type": "code",
   "execution_count": 2,
   "id": "a7c96936",
   "metadata": {},
   "outputs": [],
   "source": [
    "import numpy as np\n",
    "from sklearn.feature_extraction.text import TfidfVectorizer\n",
    "from sklearn.svm import SVC\n",
    "from sklearn.model_selection import train_test_split\n",
    "from keras.preprocessing.sequence import pad_sequences\n",
    "from nltk.tokenize import word_tokenize"
   ]
  },
  {
   "cell_type": "code",
   "execution_count": 3,
   "id": "67121eb1-05e2-46fa-8213-f54b1297700b",
   "metadata": {},
   "outputs": [],
   "source": [
    "import pandas as pd\n",
    "import spacy\n",
    "from langdetect import detect, LangDetectException\n",
    "import string\n",
    "import re\n",
    "from collections import Counter\n",
    "from unidecode import unidecode\n",
    "import io\n",
    "from google.cloud import storage\n",
    "import os\n",
    "\n",
    "\n",
    "# Load the English language model for Spacy\n",
    "nlp = spacy.load(\"en_core_web_sm\")\n",
    "\n",
    "def filter_and_update_categories(df):\n",
    "\n",
    "    main_cat_counts = df['Main Category'].value_counts()\n",
    "    freq_nouns = Counter()\n",
    "\n",
    "    for index, row in df.iterrows():\n",
    "\n",
    "        doc = nlp(row['Processed Text'])\n",
    "        nouns = [token.text for token in doc if token.pos_ == 'NOUN']\n",
    "        freq_nouns.update(nouns)\n",
    "\n",
    "    df['Main Category'] = df['Main Category'].apply(\n",
    "        lambda x: freq_nouns.most_common(1)[0][0] if main_cat_counts[x] < 10 else x\n",
    "    )\n",
    "\n",
    "    all_cats = Counter([cat for sublist in df['All Categories'].str.split(',').dropna() for cat in sublist])\n",
    "    df['All Categories'] = df['All Categories'].str.split(',').apply(\n",
    "        lambda cats: [cat.strip() for cat in cats if all_cats[cat.strip()] >= 10] if cats else []\n",
    "    )\n",
    "\n",
    "\n",
    "    df['All Categories'] = df['All Categories'].apply(\n",
    "        lambda x: [word for word, count in freq_nouns.most_common(3)] if not x else x\n",
    "    )\n",
    "\n",
    "    return df\n",
    "\n",
    "def get_top_words(text, n=10):\n",
    "    \"\"\"Return the most common words in the text.\"\"\"\n",
    "    words = re.findall(r'\\w+', text)\n",
    "    most_common_words = Counter(words).most_common(n)\n",
    "    return most_common_words\n",
    "\n",
    "def standardize_dates(df, date_column):\n",
    "    \"\"\"Standardizes the dates in a DataFrame column to the format 'YYYY-MM-DD'.\"\"\"\n",
    "    df[date_column] = df[date_column].apply(lambda date: parser.parse(date).strftime('%Y-%m-%d'))\n",
    "    return df\n",
    "\n",
    "\n",
    "def preprocess_text(text):\n",
    "    \"\"\"Processes the given text by cleaning and normalizing it.\"\"\"\n",
    "    text = text.lower().strip()  # Convert text to lowercase and strip whitespaces\n",
    "    text = unidecode(text)  # Normalize text\n",
    "    text = re.sub(r'<.*?>', '', text)  # Remove HTML tags\n",
    "    text = re.sub(r'[{}]'.format(re.escape(string.punctuation)), ' ', text)  # Replace punctuation with space\n",
    "    text = re.sub(r'\\s+', ' ', text)  # Collapse multiple spaces into one\n",
    "    text = re.sub(r'\\d', ' ', text)  # Remove digits\n",
    "    return text\n",
    "\n",
    "def lemmatize_text(text):\n",
    "    \"\"\"Lemmatizes the given text, removing stopwords, very short words, and certain parts of speech.\"\"\"\n",
    "    doc = nlp(text)\n",
    "    filtered_tokens = [\n",
    "        token.lemma_ for token in doc\n",
    "        if not token.is_stop and len(token.lemma_) > 2 and token.lemma_.isalpha()\n",
    "        and token.pos_ not in ['PRON', 'DET']\n",
    "    ]\n",
    "    return ' '.join(filtered_tokens)\n",
    "\n",
    "\n",
    "def detect_english(text):\n",
    "    \"\"\"Detects if the given text is English.\"\"\"\n",
    "    try:\n",
    "        return detect(text) == 'en'\n",
    "    except LangDetectException:\n",
    "        return False\n",
    "\n",
    "def filter_english_text(df, text_column):\n",
    "    \"\"\"Filters the DataFrame to only include rows where the text is English.\"\"\"\n",
    "    df['is_english'] = df[text_column].apply(detect_english)\n",
    "    filtered_df = df[df['is_english']].drop(columns=['is_english'])\n",
    "    return filtered_df\n",
    "\n",
    "def get_most_frequent_word(text):\n",
    "    \"\"\"Extracts the most frequent word from the text.\"\"\"\n",
    "    words = text.split()\n",
    "    if words:\n",
    "        return Counter(words).most_common(1)[0][0]\n",
    "    return None\n",
    "\n",
    "def get_most_frequent_bigram(text):\n",
    "    \"\"\"Extracts the most frequent two-word combination from the text.\"\"\"\n",
    "    words = text.split()\n",
    "    if len(words) > 1:\n",
    "        bigrams = zip(words[:-1], words[1:])\n",
    "        return ' '.join(Counter(bigrams).most_common(1)[0][0])\n",
    "    return None\n"
   ]
  },
  {
   "cell_type": "code",
   "execution_count": 4,
   "id": "6faefe37-ecec-4ac2-8979-2aae69513622",
   "metadata": {},
   "outputs": [],
   "source": [
    "BUCKET_NAME = os.getenv(\"BUCKET_NAME\")\n",
    "\n",
    "def get_data_from_gcp(BUCKET_NAME, file_name):\n",
    "    # Create a storage client\n",
    "    storage_client = storage.Client()\n",
    "    # Get the bucket\n",
    "    bucket = storage_client.get_bucket(BUCKET_NAME)\n",
    "    # Get the blob (file) from the bucket\n",
    "    blob = bucket.get_blob(file_name)\n",
    "    # Read the CSV file into a DataFrame\n",
    "    df = pd.read_csv(io.BytesIO(blob.download_as_bytes()), sep=\",\")\n",
    "\n",
    "    return df"
   ]
  },
  {
   "cell_type": "code",
   "execution_count": 13,
   "id": "df0a8e93",
   "metadata": {},
   "outputs": [],
   "source": [
    "file_name_list = ['cleaned_data/arxiv_cleaned.csv', 'cleaned_data/collective_evolution_cleaned.csv'\\\n",
    "                ,'cleaned_data/david_cleaned.csv', 'cleaned_data/ftcheck_cleaned.csv'\\\n",
    "                , 'cleaned_data/isha_cleaned.csv', 'cleaned_data/naturalnews_cleaned.csv', 'cleaned_data/astro_lipton_cleaned.csv']"
   ]
  },
  {
   "cell_type": "code",
   "execution_count": 16,
   "id": "fbf21eaa",
   "metadata": {},
   "outputs": [],
   "source": [
    "#TODO concat the dfs into one big df called combined_df for simplicity\n",
    "\n",
    "df_arxiv = get_data_from_gcp(BUCKET_NAME, file_name_list[0])\n",
    "df_collective_evolution = get_data_from_gcp(BUCKET_NAME, file_name_list[1])\n",
    "df_david = get_data_from_gcp(BUCKET_NAME, file_name_list[2])\n",
    "df_factcheck = get_data_from_gcp(BUCKET_NAME, file_name_list[3])\n",
    "df_isha = get_data_from_gcp(BUCKET_NAME, file_name_list[4])\n",
    "df_naturalnews = get_data_from_gcp(BUCKET_NAME, file_name_list[5])"
   ]
  },
  {
   "cell_type": "code",
   "execution_count": 17,
   "id": "605247bf",
   "metadata": {},
   "outputs": [],
   "source": [
    "df_astro = get_data_from_gcp(BUCKET_NAME, file_name_list[6])"
   ]
  },
  {
   "cell_type": "code",
   "execution_count": 68,
   "id": "7c9b7fc9",
   "metadata": {},
   "outputs": [
    {
     "data": {
      "text/plain": [
       "Index(['Unnamed: 0', 'Title', 'Author', 'Published Date', 'Main Body',\n",
       "       'Word Count', 'Most Frequent Word', 'Most Frequent Word Count', 'Link',\n",
       "       'Label', 'Primary Category', 'All Categories', 'Cleaned Body',\n",
       "       'Processed Text', 'Most Frequent Word Combination'],\n",
       "      dtype='object')"
      ]
     },
     "execution_count": 68,
     "metadata": {},
     "output_type": "execute_result"
    }
   ],
   "source": [
    "df_astro.columns"
   ]
  },
  {
   "cell_type": "code",
   "execution_count": 18,
   "id": "69ebedde",
   "metadata": {},
   "outputs": [],
   "source": [
    "df_astro.drop(columns=['Unnamed: 0','Most Frequent Word Combination','Cleaned Body','Main Body','Most Frequent Word Count'], inplace=True)"
   ]
  },
  {
   "cell_type": "code",
   "execution_count": 19,
   "id": "23cc8f21",
   "metadata": {},
   "outputs": [],
   "source": [
    "df_astro = df_astro[['Title', 'Author', 'Published Date', 'Word Count', 'Most Frequent Word',\n",
    "       'Link', 'Label', 'Primary Category', 'All Categories',\n",
    "       'Processed Text']]"
   ]
  },
  {
   "cell_type": "code",
   "execution_count": 20,
   "id": "0de2fee8",
   "metadata": {},
   "outputs": [
    {
     "data": {
      "text/plain": [
       "Index(['Title', 'Published Date', 'Author', 'Main Category', 'All Categories',\n",
       "       'Main Body', 'Word Count', 'Link', 'Label', 'Processed Text'],\n",
       "      dtype='object')"
      ]
     },
     "execution_count": 20,
     "metadata": {},
     "output_type": "execute_result"
    }
   ],
   "source": [
    "df_naturalnews.columns"
   ]
  },
  {
   "cell_type": "code",
   "execution_count": 21,
   "id": "5d273b8d",
   "metadata": {},
   "outputs": [
    {
     "data": {
      "text/plain": [
       "Index(['Title', 'Published Date', 'Author', 'Primary Category',\n",
       "       'All Categories', 'Word Count', 'Link', 'Label', 'Processed Text',\n",
       "       'Most Frequent Word'],\n",
       "      dtype='object')"
      ]
     },
     "execution_count": 21,
     "metadata": {},
     "output_type": "execute_result"
    }
   ],
   "source": [
    "df_naturalnews.drop(columns=['Main Body'], inplace=True)\n",
    "df_naturalnews.rename(columns = {'Main Category':'Primary Category'}, inplace=True)\n",
    "df_naturalnews['Most Frequent Word']=''\n",
    "\n",
    "df_naturalnews.columns"
   ]
  },
  {
   "cell_type": "code",
   "execution_count": 22,
   "id": "5b3c4fdd",
   "metadata": {},
   "outputs": [],
   "source": [
    " df_naturalnews = df_naturalnews[['Title', 'Author', 'Published Date', 'Word Count', 'Most Frequent Word',\n",
    "        'Link', 'Label', 'Primary Category', 'All Categories',\n",
    "        'Processed Text']]"
   ]
  },
  {
   "cell_type": "code",
   "execution_count": 50,
   "id": "cc108deb",
   "metadata": {},
   "outputs": [
    {
     "data": {
      "image/png": "[encoded data removed]",
      "text/plain": [
       "<Figure size 640x480 with 1 Axes>"
      ]
     },
     "metadata": {},
     "output_type": "display_data"
    }
   ],
   "source": [
    "sns.histplot(df_naturalnews['Word Count'], kde=True);"
   ]
  },
  {
   "cell_type": "code",
   "execution_count": 23,
   "id": "4b07ca66",
   "metadata": {},
   "outputs": [
    {
     "data": {
      "text/plain": [
       "Index(['Title', 'Author', 'Published Date', 'Word Count', 'Most Frequent Word',\n",
       "       'Link', 'Label', 'Primary Category', 'All Categories',\n",
       "       'Processed Text'],\n",
       "      dtype='object')"
      ]
     },
     "execution_count": 23,
     "metadata": {},
     "output_type": "execute_result"
    }
   ],
   "source": [
    "final_df = pd.concat([df_arxiv, df_collective_evolution, df_david, df_isha, df_naturalnews, df_factcheck, df_astro], join = 'inner')\n",
    "final_df.columns"
   ]
  },
  {
   "cell_type": "code",
   "execution_count": 24,
   "id": "7f148e8b",
   "metadata": {},
   "outputs": [],
   "source": [
    "combined_df = final_df"
   ]
  },
  {
   "cell_type": "code",
   "execution_count": 44,
   "id": "b135dca5-da80-478b-8e5c-973291de42bf",
   "metadata": {},
   "outputs": [
    {
     "ename": "NameError",
     "evalue": "name 'combined_df' is not defined",
     "output_type": "error",
     "traceback": [
      "\u001b[0;31m---------------------------------------------------------------------------\u001b[0m",
      "\u001b[0;31mNameError\u001b[0m                                 Traceback (most recent call last)",
      "Cell \u001b[0;32mIn[44], line 14\u001b[0m\n\u001b[1;32m     11\u001b[0m     plt\u001b[38;5;241m.\u001b[39mgrid(\u001b[38;5;28;01mTrue\u001b[39;00m)\n\u001b[1;32m     12\u001b[0m     plt\u001b[38;5;241m.\u001b[39mshow()\n\u001b[0;32m---> 14\u001b[0m plot_word_count_distribution(\u001b[43mcombined_df\u001b[49m, \u001b[38;5;124m'\u001b[39m\u001b[38;5;124mMain Body\u001b[39m\u001b[38;5;124m'\u001b[39m, \u001b[38;5;124m'\u001b[39m\u001b[38;5;124mOriginal Texts\u001b[39m\u001b[38;5;124m'\u001b[39m)\n",
      "\u001b[0;31mNameError\u001b[0m: name 'combined_df' is not defined"
     ]
    }
   ],
   "source": [
    "import matplotlib.pyplot as plt\n",
    "from collections import Counter\n",
    "def plot_word_count_distribution(df, column, title):\n",
    "    \"\"\"Plot the word count distribution of a text column.\"\"\"\n",
    "    word_counts = df[column].str.split().str.len()\n",
    "    plt.figure(figsize=(10, 6))\n",
    "    plt.hist(word_counts, bins=30, color='skyblue', edgecolor='black')\n",
    "    plt.title(f'Word Count Distribution in {title}')\n",
    "    plt.xlabel('Number of Words')\n",
    "    plt.ylabel('Frequency')\n",
    "    plt.grid(True)\n",
    "    plt.show()\n",
    "\n",
    "plot_word_count_distribution(combined_df, 'Main Body', 'Original Texts')"
   ]
  },
  {
   "cell_type": "code",
   "execution_count": null,
   "id": "9d1d028b-130c-4f8f-bf86-6f572b9b48fd",
   "metadata": {},
   "outputs": [],
   "source": [
    "\n",
    "def clean_text(text):\n",
    "    \"\"\"Further clean the text by removing numbers and non-alphanumeric characters, and converting to lowercase.\"\"\"\n",
    "    if pd.isna(text):\n",
    "        return \"\"\n",
    "    text = re.sub(r'[^a-zA-Z\\s]', '', str(text))\n",
    "    text = text.lower()\n",
    "    return text\n",
    "\n",
    "combined_df['Cleaned Body'] = combined_df['Main Body'].apply(clean_text)\n",
    "\n",
    "all_cleaned_texts = ' '.join(combined_df['Cleaned Body'])\n",
    "top_words = get_top_words(all_cleaned_texts, 10)\n",
    "\n",
    "print(\"Top 10 Most Frequent Words:\")\n",
    "for word, count in top_words:\n",
    "    print(f\"{word}: {count}\")\n"
   ]
  },
  {
   "cell_type": "code",
   "execution_count": null,
   "id": "eb31f12c-251a-4667-b761-0180544081e3",
   "metadata": {},
   "outputs": [],
   "source": [
    "def preprocessing_pipeline(df, text_column):\n",
    "    \"\"\"Applies text cleaning, English filtering, and updates most frequent words in a DataFrame.\"\"\"\n",
    "    df = df.dropna(subset=[text_column])\n",
    "    df = filter_english_text(df, text_column)\n",
    "    # df = standardize_dates(df, date_column)\n",
    "\n",
    "    if not df.empty:\n",
    "        df['Processed Text'] = df[text_column].apply(preprocess_text)\n",
    "        df = filter_and_update_categories(df)\n",
    "        df = lemmatize_text(df)\n",
    "        df['Most Frequent Word'] = df['Processed Text'].apply(get_most_frequent_word)\n",
    "       # df['Most Frequent Word Combination'] = df['Processed Text'].apply(get_most_frequent_bigram)\n",
    "\n",
    "    return df\n"
   ]
  },
  {
   "cell_type": "code",
   "execution_count": null,
   "id": "d3b2a4c8-068e-4389-9f6d-90c0dcf00658",
   "metadata": {},
   "outputs": [],
   "source": [
    "updated_df = preprocessing_pipeline(combined_df, 'Main Body')"
   ]
  },
  {
   "cell_type": "code",
   "execution_count": null,
   "id": "2db54c79-79bc-4bcc-a5c7-4325f3cd0849",
   "metadata": {},
   "outputs": [],
   "source": [
    "plot_word_count_distribution(updated_df, 'Processed Text', 'Cleaned Texts')"
   ]
  },
  {
   "cell_type": "code",
   "execution_count": null,
   "id": "d26a6180-39aa-481f-94e3-0790f0f5f64f",
   "metadata": {},
   "outputs": [],
   "source": [
    "def clean_text(text):\n",
    "    \"\"\"Further clean the text by removing numbers and non-alphanumeric characters, and converting to lowercase.\"\"\"\n",
    "    if pd.isna(text):\n",
    "        return \"\"\n",
    "    text = re.sub(r'[^a-zA-Z\\s]', '', str(text))\n",
    "    text = text.lower()\n",
    "    return text\n",
    "\n",
    "\n",
    "all_cleaned_texts = ' '.join(updated_df['Processed Text'])\n",
    "top_words = get_top_words(all_cleaned_texts, 10)\n",
    "\n",
    "print(\"Top 10 Most Frequent Words:\")\n",
    "for word, count in top_words:\n",
    "    print(f\"{word}: {count}\")\n"
   ]
  },
  {
   "cell_type": "code",
   "execution_count": null,
   "id": "717acc46-6081-42b5-bbe5-07a6acbee12f",
   "metadata": {},
   "outputs": [],
   "source": [
    "'''for the next step of embedding in the pipeline'''\n",
    "# from gensim.models import FastText\n",
    "# import nltk\n",
    "# import numpy as np\n",
    "# from sklearn.base import BaseEstimator, TransformerMixin\n",
    "\n",
    "# def tokenize_texts(text_list):\n",
    "#     return [nltk.word_tokenize(text) for text in text_list]\n",
    "\n",
    "# def create_fasttext_model(tokenized_texts, size=100, window=5, min_count=1, workers=4, sg=1):\n",
    "#     model = FastText(tokenized_texts, size=size, window=window, min_count=min_count, workers=workers, sg=sg)\n",
    "#     return model\n",
    "\n",
    "# def prepare_word_vectors(model):\n",
    "#     return {word: model.wv[word] for word in model.wv.vocab}\n",
    "\n",
    "# class MeanEmbeddingVectorizer(BaseEstimator, TransformerMixin):\n",
    "#     def __init__(self, word2vec):\n",
    "#         self.word2vec = word2vec\n",
    "#         self.dim = len(next(iter(word2vec.values())))\n",
    "\n",
    "#     def fit(self, X, y=None):\n",
    "#         return self\n",
    "\n",
    "#     def transform(self, X):\n",
    "#         return np.array([\n",
    "#             np.mean([self.word2vec.get(w, np.zeros(self.dim)) for w in words], axis=0)\n",
    "#             for words in X\n",
    "#         ])\n"
   ]
  },
  {
   "cell_type": "code",
   "execution_count": 15,
   "id": "1171bebf-fb49-4138-9e0f-8f30bdce57ca",
   "metadata": {},
   "outputs": [],
   "source": [
    "BUCKET_NAME = \"scientific_paper_classifier-bucket\"\n",
    "\n",
    "data = get_data_from_gcp(BUCKET_NAME, 'cleaned_data/Updated_df_3000.csv')"
   ]
  },
  {
   "cell_type": "code",
   "execution_count": 16,
   "id": "4ab4e338",
   "metadata": {},
   "outputs": [
    {
     "data": {
      "text/plain": [
       "<Axes: ylabel='Count'>"
      ]
     },
     "execution_count": 16,
     "metadata": {},
     "output_type": "execute_result"
    },
    {
     "data": {
      "image/png": "[encoded data removed]",
      "text/plain": [
       "<Figure size 640x480 with 1 Axes>"
      ]
     },
     "metadata": {},
     "output_type": "display_data"
    }
   ],
   "source": [
    "import seaborn as sns\n",
    "sns.histplot(data[data['Word Count'] < 20000])"
   ]
  },
  {
   "cell_type": "code",
   "execution_count": 17,
   "id": "f2145d36",
   "metadata": {},
   "outputs": [],
   "source": [
    "X = data['Processed Text']\n",
    "y = data['Label']\n"
   ]
  },
  {
   "cell_type": "code",
   "execution_count": 18,
   "id": "5c6106a5",
   "metadata": {},
   "outputs": [],
   "source": [
    "tfidf = TfidfVectorizer()\n",
    "X_tfidf = tfidf.fit_transform(X)  # Fit and transform the text data\n"
   ]
  },
  {
   "cell_type": "code",
   "execution_count": 21,
   "id": "d4bc504e-3575-41c2-8af1-bd7854f3f8ae",
   "metadata": {},
   "outputs": [
    {
     "data": {
      "text/plain": [
       "<2999x72080 sparse matrix of type '<class 'numpy.float64'>'\n",
       "\twith 767273 stored elements in Compressed Sparse Row format>"
      ]
     },
     "execution_count": 21,
     "metadata": {},
     "output_type": "execute_result"
    }
   ],
   "source": [
    "X_tfidf"
   ]
  },
  {
   "cell_type": "code",
   "execution_count": 24,
   "id": "04d75d70-dfb1-4758-8b3e-928ae8711289",
   "metadata": {},
   "outputs": [
    {
     "name": "stdout",
     "output_type": "stream",
     "text": [
      "Shape of TF-IDF Matrix: (2999, 72080)\n"
     ]
    }
   ],
   "source": [
    "print(\"Shape of TF-IDF Matrix:\", X_tfidf.shape)"
   ]
  },
  {
   "cell_type": "code",
   "execution_count": 25,
   "id": "4165708b-d202-4035-9e01-aca4ccf5e2e1",
   "metadata": {},
   "outputs": [
    {
     "name": "stdout",
     "output_type": "stream",
     "text": [
      "Type of TF-IDF Matrix: <class 'scipy.sparse._csr.csr_matrix'>\n"
     ]
    }
   ],
   "source": [
    "print(\"Type of TF-IDF Matrix:\", type(X_tfidf))"
   ]
  },
  {
   "cell_type": "code",
   "execution_count": 23,
   "id": "448cd190",
   "metadata": {},
   "outputs": [
    {
     "name": "stdout",
     "output_type": "stream",
     "text": [
      "SVM Accuracy: 0.98\n"
     ]
    }
   ],
   "source": [
    "# Split the data into training and testing sets\n",
    "X_train, X_test, y_train, y_test = train_test_split(X_tfidf, y, test_size=0.2, random_state=42)\n",
    "\n",
    "# Train the SVM model\n",
    "svm = SVC()\n",
    "svm.fit(X_train, y_train)\n",
    "\n",
    "# Evaluate the model on the test set\n",
    "accuracy = svm.score(X_test, y_test)\n",
    "print(f'SVM Accuracy: {accuracy:.2f}')"
   ]
  },
  {
   "cell_type": "code",
   "execution_count": 7,
   "id": "7d754419",
   "metadata": {},
   "outputs": [],
   "source": [
    "from sklearn.metrics import confusion_matrix, classification_report\n",
    "from sklearn.metrics import precision_score, recall_score, f1_score"
   ]
  },
  {
   "cell_type": "code",
   "execution_count": 27,
   "id": "3e04f1cc-5aa4-4ff8-887b-d7ac85871626",
   "metadata": {},
   "outputs": [],
   "source": [
    "y_pred = svm.predict(X_test)"
   ]
  },
  {
   "cell_type": "code",
   "execution_count": 28,
   "id": "b17aac8d-3c24-406d-a009-fd4c2fa9bc85",
   "metadata": {},
   "outputs": [
    {
     "name": "stdout",
     "output_type": "stream",
     "text": [
      "Confusion Matrix:\n",
      "[[124  13]\n",
      " [  0 463]]\n"
     ]
    }
   ],
   "source": [
    "cm = confusion_matrix(y_test, y_pred)\n",
    "print(\"Confusion Matrix:\")\n",
    "print(cm)"
   ]
  },
  {
   "cell_type": "code",
   "execution_count": 30,
   "id": "c09aa437-e4b0-4643-a0bb-32011acbddda",
   "metadata": {},
   "outputs": [
    {
     "name": "stdout",
     "output_type": "stream",
     "text": [
      "Precision: 0.97893\n",
      "Recall: 0.97833\n",
      "F1 Score: 0.97794\n"
     ]
    }
   ],
   "source": [
    "precision = precision_score(y_test, y_pred, average='weighted')\n",
    "recall = recall_score(y_test, y_pred, average='weighted')\n",
    "f1 = f1_score(y_test, y_pred, average='weighted')\n",
    "\n",
    "print(f\"Precision: {precision:.5f}\")\n",
    "print(f\"Recall: {recall:.5f}\")\n",
    "print(f\"F1 Score: {f1:.5f}\")\n"
   ]
  },
  {
   "cell_type": "code",
   "execution_count": 31,
   "id": "591ed128-6d4a-49c7-9944-10c132f7c64b",
   "metadata": {},
   "outputs": [
    {
     "name": "stdout",
     "output_type": "stream",
     "text": [
      "Classification Report:\n",
      "              precision    recall  f1-score   support\n",
      "\n",
      "           0       1.00      0.91      0.95       137\n",
      "           1       0.97      1.00      0.99       463\n",
      "\n",
      "    accuracy                           0.98       600\n",
      "   macro avg       0.99      0.95      0.97       600\n",
      "weighted avg       0.98      0.98      0.98       600\n",
      "\n"
     ]
    }
   ],
   "source": [
    "print(\"Classification Report:\")\n",
    "print(classification_report(y_test, y_pred))\n"
   ]
  },
  {
   "cell_type": "code",
   "execution_count": 32,
   "id": "820ad3c0-2ca3-40cc-b43f-62d1b021c064",
   "metadata": {},
   "outputs": [
    {
     "name": "stdout",
     "output_type": "stream",
     "text": [
      "Label distribution in the test set:\n",
      "{0: 137, 1: 463}\n"
     ]
    }
   ],
   "source": [
    "unique, counts = np.unique(y_test, return_counts=True)\n",
    "print(\"Label distribution in the test set:\")\n",
    "print(dict(zip(unique, counts)))\n"
   ]
  },
  {
   "cell_type": "code",
   "execution_count": 33,
   "id": "ac521d02-9163-4db2-a35a-794b3f30e205",
   "metadata": {},
   "outputs": [
    {
     "name": "stdout",
     "output_type": "stream",
     "text": [
      "Label distribution in the train set:\n",
      "{0: 503, 1: 1896}\n"
     ]
    }
   ],
   "source": [
    "unique, counts = np.unique(y_train, return_counts=True)\n",
    "print(\"Label distribution in the train set:\")\n",
    "print(dict(zip(unique, counts)))\n"
   ]
  },
  {
   "cell_type": "markdown",
   "id": "4fad5be9",
   "metadata": {},
   "source": [
    "## Cheking on a larger dataset"
   ]
  },
  {
   "cell_type": "code",
   "execution_count": 6,
   "id": "0228d165-fb34-4228-b5a6-7947f780b6a0",
   "metadata": {},
   "outputs": [],
   "source": [
    "BUCKET_NAME = \"scientific_paper_classifier-bucket\"\n",
    "\n",
    "data = get_data_from_gcp(BUCKET_NAME, 'Updated_df_30000.csv')"
   ]
  },
  {
   "cell_type": "code",
   "execution_count": 8,
   "id": "0effe721",
   "metadata": {},
   "outputs": [
    {
     "name": "stdout",
     "output_type": "stream",
     "text": [
      "Shape of TF-IDF Matrix: (13976, 163912)\n",
      "Type of TF-IDF Matrix: <class 'scipy.sparse._csr.csr_matrix'>\n",
      "SVM Accuracy: 0.99\n"
     ]
    }
   ],
   "source": [
    "X = data['Processed Text']\n",
    "y = data['Label']\n",
    "\n",
    "tfidf = TfidfVectorizer()\n",
    "X_tfidf = tfidf.fit_transform(X)\n",
    "\n",
    "print(\"Shape of TF-IDF Matrix:\", X_tfidf.shape)\n",
    "print(\"Type of TF-IDF Matrix:\", type(X_tfidf))\n",
    "\n",
    "X_train, X_test, y_train, y_test = train_test_split(X_tfidf, y, test_size=0.2, random_state=42)\n",
    "\n",
    "svm = SVC()\n",
    "svm.fit(X_train, y_train)\n",
    "\n",
    "accuracy = svm.score(X_test, y_test)\n",
    "print(f'SVM Accuracy: {accuracy:.2f}')"
   ]
  },
  {
   "cell_type": "code",
   "execution_count": 9,
   "id": "3a85c0d8",
   "metadata": {},
   "outputs": [
    {
     "name": "stdout",
     "output_type": "stream",
     "text": [
      "Confusion Matrix:\n",
      "[[ 577   12]\n",
      " [   2 2205]]\n"
     ]
    }
   ],
   "source": [
    "y_pred = svm.predict(X_test)\n",
    "\n",
    "cm = confusion_matrix(y_test, y_pred)\n",
    "print(\"Confusion Matrix:\")\n",
    "print(cm)"
   ]
  },
  {
   "cell_type": "code",
   "execution_count": 10,
   "id": "3f1b4569",
   "metadata": {},
   "outputs": [
    {
     "name": "stdout",
     "output_type": "stream",
     "text": [
      "Precision: 0.99500\n",
      "Recall: 0.99499\n",
      "F1 Score: 0.99498\n"
     ]
    }
   ],
   "source": [
    "precision = precision_score(y_test, y_pred, average='weighted')\n",
    "recall = recall_score(y_test, y_pred, average='weighted')\n",
    "f1 = f1_score(y_test, y_pred, average='weighted')\n",
    "\n",
    "print(f\"Precision: {precision:.5f}\")\n",
    "print(f\"Recall: {recall:.5f}\")\n",
    "print(f\"F1 Score: {f1:.5f}\")"
   ]
  },
  {
   "cell_type": "code",
   "execution_count": 11,
   "id": "2b06e1b6",
   "metadata": {},
   "outputs": [
    {
     "name": "stdout",
     "output_type": "stream",
     "text": [
      "Classification Report:\n",
      "              precision    recall  f1-score   support\n",
      "\n",
      "           0       1.00      0.98      0.99       589\n",
      "           1       0.99      1.00      1.00      2207\n",
      "\n",
      "    accuracy                           0.99      2796\n",
      "   macro avg       1.00      0.99      0.99      2796\n",
      "weighted avg       0.99      0.99      0.99      2796\n",
      "\n"
     ]
    }
   ],
   "source": [
    "print(\"Classification Report:\")\n",
    "print(classification_report(y_test, y_pred))"
   ]
  },
  {
   "cell_type": "code",
   "execution_count": 12,
   "id": "2ee40ef5",
   "metadata": {},
   "outputs": [
    {
     "name": "stdout",
     "output_type": "stream",
     "text": [
      "Label distribution in the test set:\n",
      "{0: 589, 1: 2207}\n"
     ]
    }
   ],
   "source": [
    "unique, counts = np.unique(y_test, return_counts=True)\n",
    "print(\"Label distribution in the test set:\")\n",
    "print(dict(zip(unique, counts)))"
   ]
  },
  {
   "cell_type": "code",
   "execution_count": 13,
   "id": "a1543624",
   "metadata": {},
   "outputs": [
    {
     "name": "stdout",
     "output_type": "stream",
     "text": [
      "Label distribution in the train set:\n",
      "{0: 2462, 1: 8718}\n"
     ]
    }
   ],
   "source": [
    "unique, counts = np.unique(y_train, return_counts=True)\n",
    "print(\"Label distribution in the train set:\")\n",
    "print(dict(zip(unique, counts)))"
   ]
  },
  {
   "cell_type": "code",
   "execution_count": null,
   "id": "1a0ea96b",
   "metadata": {},
   "outputs": [],
   "source": []
  }
 ],
 "metadata": {
  "kernelspec": {
   "display_name": "scientific_paper_classifier",
   "language": "python",
   "name": "python3"
  },
  "language_info": {
   "codemirror_mode": {
    "name": "ipython",
    "version": 3
   },
   "file_extension": ".py",
   "mimetype": "text/x-python",
   "name": "python",
   "nbconvert_exporter": "python",
   "pygments_lexer": "ipython3",
   "version": "3.10.6"
  }
 },
 "nbformat": 4,
 "nbformat_minor": 5
}
