{
 "cells": [
  {
   "cell_type": "markdown",
   "metadata": {},
   "source": [
    "## General info on the SciBERT model\n",
    "\n",
    "### 1) **Loading the model**: Source is [HuggingFace](\"https://huggingface.co/allenai/scibert_scivocab_uncased\").  \n",
    "\n",
    "**IMport**:"
   ]
  },
  {
   "cell_type": "markdown",
   "metadata": {
    "vscode": {
     "languageId": "plaintext"
    }
   },
   "source": [
    "# Load model directly\n",
    "SciBERT was developed by teh Allen Institute for AI according to GitHub.\n",
    "They offer 3 versions of tejh SciBERT model o Tensorsflow, HuggingFace\n",
    "\n",
    "    scibert-scivocab-uncased \n",
    "    scibert-scivocab-cased\n",
    "    scibert-basevocab-uncased\n",
    "    scibert-basevocab-cased\n",
    "\n",
    "[Link SSciBERT's Scivocab uncased](\"https://s3-us-west-2.amazonaws.com/ai2-s2-research/scibert/tensorflow_models/scibert_scivocab_uncased.tar.gz\")  \n",
    "\n",
    "[Link BERT's Basevocab uncased](\"https://s3-us-west-2.amazonaws.com/ai2-s2-research/scibert/tensorflow_models/scibert_basevocab_uncased.tar.gz\")\n",
    "\n",
    "Explanation:  \n",
    "* **Cased Model** = preserves the original casing of words in the text. For example, proper nouns and the beginnings of sentences are capitalized, while the rest of the words are in lowercase. This means that \"Hello\" and \"hello\" would be treated differently in a cased model.  \n",
    "\n",
    "* **Uncased Model** = converts all text to lowercase before processing it. This means that \"Hello\" and \"hello\" would be treated as the same word in an uncased model.  "
   ]
  },
  {
   "cell_type": "markdown",
   "metadata": {},
   "source": [
    "\n",
    "\n"
   ]
  },
  {
   "cell_type": "markdown",
   "metadata": {},
   "source": [
    "## Data Cleaning"
   ]
  },
  {
   "cell_type": "markdown",
   "metadata": {
    "vscode": {
     "languageId": "plaintext"
    }
   },
   "source": [
    "As discussed / applied with baseline model.\n",
    "Steps to consider:\n",
    "\n",
    "strip  \n",
    "replace  \n",
    "duplicates  \n",
    "split  \n",
    "lowercase  \n",
    "removing numbers  \n",
    "Removing punctuation and symbols  \n",
    "Removing stoppwords  \n",
    "Missing data  \n",
    "Noisy text  \n",
    "Text length?  \n",
    "Removing HTML Tags and Special Characters  \n"
   ]
  },
  {
   "cell_type": "markdown",
   "metadata": {},
   "source": [
    "## Preprocessing"
   ]
  },
  {
   "cell_type": "markdown",
   "metadata": {},
   "source": [
    "### Lemmatizing\n"
   ]
  },
  {
   "cell_type": "markdown",
   "metadata": {},
   "source": []
  },
  {
   "cell_type": "markdown",
   "metadata": {},
   "source": [
    "### Tokenization\n",
    "\n",
    "Done with the pre-trained SciBERT [Source](\"https://github.com/allenai/scibert\")\n"
   ]
  },
  {
   "cell_type": "code",
   "execution_count": null,
   "metadata": {
    "vscode": {
     "languageId": "plaintext"
    }
   },
   "outputs": [],
   "source": [
    "from transformers import *\n",
    "\n",
    "tokenizer = AutoTokenizer.from_pretrained('allenai/scibert_scivocab_uncased')\n",
    "model = AutoModel.from_pretrained('allenai/scibert_scivocab_uncased')\n",
    "\n",
    "tokenizer = AutoTokenizer.from_pretrained('allenai/scibert_scivocab_cased')\n",
    "model = AutoModel.from_pretrained('allenai/scibert_scivocab_cased')"
   ]
  },
  {
   "cell_type": "code",
   "execution_count": null,
   "metadata": {
    "vscode": {
     "languageId": "plaintext"
    }
   },
   "outputs": [],
   "source": []
  },
  {
   "cell_type": "markdown",
   "metadata": {},
   "source": [
    "### Padding"
   ]
  },
  {
   "cell_type": "code",
   "execution_count": null,
   "metadata": {
    "vscode": {
     "languageId": "plaintext"
    }
   },
   "outputs": [],
   "source": []
  }
 ],
 "metadata": {
  "language_info": {
   "name": "python"
  }
 },
 "nbformat": 4,
 "nbformat_minor": 2
}
