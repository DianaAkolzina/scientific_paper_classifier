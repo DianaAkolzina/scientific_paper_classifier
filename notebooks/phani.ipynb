{
 "cells": [
  {
   "cell_type": "code",
   "execution_count": 2,
   "metadata": {},
   "outputs": [],
   "source": [
    "import pandas as pd"
   ]
  },
  {
   "cell_type": "code",
   "execution_count": 9,
   "metadata": {},
   "outputs": [
    {
     "name": "stderr",
     "output_type": "stream",
     "text": [
      "[nltk_data] Downloading package stopwords to /home/phani/nltk_data...\n",
      "[nltk_data]   Package stopwords is already up-to-date!\n",
      "[nltk_data] Downloading package punkt to /home/phani/nltk_data...\n",
      "[nltk_data]   Package punkt is already up-to-date!\n",
      "[nltk_data] Downloading package wordnet to /home/phani/nltk_data...\n",
      "[nltk_data]   Package wordnet is already up-to-date!\n",
      "[nltk_data] Downloading package omw-1.4 to /home/phani/nltk_data...\n",
      "[nltk_data]   Package omw-1.4 is already up-to-date!\n"
     ]
    },
    {
     "data": {
      "text/plain": [
       "True"
      ]
     },
     "execution_count": 9,
     "metadata": {},
     "output_type": "execute_result"
    }
   ],
   "source": [
    "import nltk\n",
    "\n",
    "nltk.download('stopwords')\n",
    "nltk.download('punkt')\n",
    "nltk.download('wordnet')\n",
    "nltk.download('omw-1.4')"
   ]
  },
  {
   "cell_type": "code",
   "execution_count": 4,
   "metadata": {},
   "outputs": [],
   "source": [
    "data = pd.read_csv(\"../raw_data/factcheck.csv\")"
   ]
  },
  {
   "cell_type": "code",
   "execution_count": 24,
   "metadata": {},
   "outputs": [],
   "source": [
    "df = data"
   ]
  },
  {
   "cell_type": "code",
   "execution_count": 6,
   "metadata": {},
   "outputs": [
    {
     "data": {
      "text/html": [
       "<div>\n",
       "<style scoped>\n",
       "    .dataframe tbody tr th:only-of-type {\n",
       "        vertical-align: middle;\n",
       "    }\n",
       "\n",
       "    .dataframe tbody tr th {\n",
       "        vertical-align: top;\n",
       "    }\n",
       "\n",
       "    .dataframe thead th {\n",
       "        text-align: right;\n",
       "    }\n",
       "</style>\n",
       "<table border=\"1\" class=\"dataframe\">\n",
       "  <thead>\n",
       "    <tr style=\"text-align: right;\">\n",
       "      <th></th>\n",
       "      <th>Unnamed: 0</th>\n",
       "      <th>Title</th>\n",
       "      <th>Author</th>\n",
       "      <th>Label</th>\n",
       "      <th>Abstract</th>\n",
       "      <th>Main Body</th>\n",
       "      <th>Word Count</th>\n",
       "      <th>Picture Count</th>\n",
       "      <th>Subject</th>\n",
       "      <th>Most Recurrent Word</th>\n",
       "      <th>Topic</th>\n",
       "    </tr>\n",
       "  </thead>\n",
       "  <tbody>\n",
       "    <tr>\n",
       "      <th>0</th>\n",
       "      <td>0</td>\n",
       "      <td>Threads Post Distorts Trump’s Remarks on Iron ...</td>\n",
       "      <td>Alan Jaffe</td>\n",
       "      <td>0</td>\n",
       "      <td>este artículo estará disponible en españolen e...</td>\n",
       "      <td>Este artículo estará disponible en españolen E...</td>\n",
       "      <td>644</td>\n",
       "      <td>16</td>\n",
       "      <td>threads-post-distorts-trumps-remarks-on-iron-d...</td>\n",
       "      <td>dome</td>\n",
       "      <td>Donald Trump</td>\n",
       "    </tr>\n",
       "    <tr>\n",
       "      <th>1</th>\n",
       "      <td>1</td>\n",
       "      <td>Trump’s Bogus Attack on FBI Crime Statistics</td>\n",
       "      <td>Robert Farley</td>\n",
       "      <td>0</td>\n",
       "      <td>este artículo estará disponible en españolen e...</td>\n",
       "      <td>Este artículo estará disponible en españolen E...</td>\n",
       "      <td>1867</td>\n",
       "      <td>18</td>\n",
       "      <td>trumps-bogus-attack-on-fbi-crime-statistics</td>\n",
       "      <td>crime</td>\n",
       "      <td>Donald Trump</td>\n",
       "    </tr>\n",
       "    <tr>\n",
       "      <th>2</th>\n",
       "      <td>2</td>\n",
       "      <td>Trump’s Partisan Spin on TikTok</td>\n",
       "      <td>Robert Farley</td>\n",
       "      <td>0</td>\n",
       "      <td>este artículo estará disponible en españolen e...</td>\n",
       "      <td>Este artículo estará disponible en españolen E...</td>\n",
       "      <td>920</td>\n",
       "      <td>17</td>\n",
       "      <td>trumps-partisan-spin-on-tiktok</td>\n",
       "      <td>tiktok</td>\n",
       "      <td>Donald Trump</td>\n",
       "    </tr>\n",
       "    <tr>\n",
       "      <th>3</th>\n",
       "      <td>3</td>\n",
       "      <td>FactChecking Biden’s Swing-State Stops in Penn...</td>\n",
       "      <td>D'Angelo Gore</td>\n",
       "      <td>0</td>\n",
       "      <td>traducido porel tiempo latinowhile former pres...</td>\n",
       "      <td>Traducido porEl Tiempo Latino.While former Pre...</td>\n",
       "      <td>1542</td>\n",
       "      <td>18</td>\n",
       "      <td>factchecking-bidens-swing-state-stops-in-penns...</td>\n",
       "      <td>trump</td>\n",
       "      <td>Donald Trump</td>\n",
       "    </tr>\n",
       "    <tr>\n",
       "      <th>4</th>\n",
       "      <td>4</td>\n",
       "      <td>Trump’s Unfounded ‘Colossal’ Tax Hike Warning</td>\n",
       "      <td>Robert Farley</td>\n",
       "      <td>0</td>\n",
       "      <td>este artículo estará disponible en españolen e...</td>\n",
       "      <td>Este artículo estará disponible en españolen E...</td>\n",
       "      <td>873</td>\n",
       "      <td>18</td>\n",
       "      <td>trumps-unfounded-colossal-tax-hike-warning</td>\n",
       "      <td>tax</td>\n",
       "      <td>Donald Trump</td>\n",
       "    </tr>\n",
       "  </tbody>\n",
       "</table>\n",
       "</div>"
      ],
      "text/plain": [
       "   Unnamed: 0                                              Title  \\\n",
       "0           0  Threads Post Distorts Trump’s Remarks on Iron ...   \n",
       "1           1       Trump’s Bogus Attack on FBI Crime Statistics   \n",
       "2           2                    Trump’s Partisan Spin on TikTok   \n",
       "3           3  FactChecking Biden’s Swing-State Stops in Penn...   \n",
       "4           4      Trump’s Unfounded ‘Colossal’ Tax Hike Warning   \n",
       "\n",
       "          Author  Label                                           Abstract  \\\n",
       "0     Alan Jaffe      0  este artículo estará disponible en españolen e...   \n",
       "1  Robert Farley      0  este artículo estará disponible en españolen e...   \n",
       "2  Robert Farley      0  este artículo estará disponible en españolen e...   \n",
       "3  D'Angelo Gore      0  traducido porel tiempo latinowhile former pres...   \n",
       "4  Robert Farley      0  este artículo estará disponible en españolen e...   \n",
       "\n",
       "                                           Main Body  Word Count  \\\n",
       "0  Este artículo estará disponible en españolen E...         644   \n",
       "1  Este artículo estará disponible en españolen E...        1867   \n",
       "2  Este artículo estará disponible en españolen E...         920   \n",
       "3  Traducido porEl Tiempo Latino.While former Pre...        1542   \n",
       "4  Este artículo estará disponible en españolen E...         873   \n",
       "\n",
       "   Picture Count                                            Subject  \\\n",
       "0             16  threads-post-distorts-trumps-remarks-on-iron-d...   \n",
       "1             18        trumps-bogus-attack-on-fbi-crime-statistics   \n",
       "2             17                     trumps-partisan-spin-on-tiktok   \n",
       "3             18  factchecking-bidens-swing-state-stops-in-penns...   \n",
       "4             18         trumps-unfounded-colossal-tax-hike-warning   \n",
       "\n",
       "  Most Recurrent Word         Topic  \n",
       "0                dome  Donald Trump  \n",
       "1               crime  Donald Trump  \n",
       "2              tiktok  Donald Trump  \n",
       "3               trump  Donald Trump  \n",
       "4                 tax  Donald Trump  "
      ]
     },
     "execution_count": 6,
     "metadata": {},
     "output_type": "execute_result"
    }
   ],
   "source": [
    "df.head()"
   ]
  },
  {
   "cell_type": "code",
   "execution_count": 7,
   "metadata": {},
   "outputs": [
    {
     "data": {
      "text/plain": [
       "3062"
      ]
     },
     "execution_count": 7,
     "metadata": {},
     "output_type": "execute_result"
    }
   ],
   "source": [
    "len(df)"
   ]
  },
  {
   "cell_type": "code",
   "execution_count": 8,
   "metadata": {
    "collapsed": true
   },
   "outputs": [
    {
     "data": {
      "text/plain": [
       "\"Este artículo estará disponible en españolen El Tiempo Latino.Quick TakeAt a campaign rally in Michigan, former President Donald Trump promised to build an Iron Dome missile defense system for the U.S. that would serve as “a shield around our country.” A post on Threads falsely claimed Trump said the system would be used to “‘defend us’ from Canada.”Full StoryOn a day off from hiscriminal trialin New York City, former President Donald Trump traveled to the swing states of Wisconsin and Michigan on May 1 forcampaign ralliesin support of his effort to regain the White House.A postshared on Threads on May 1shows a clip from Trump’s rally that day in Freeland, Michigan, and the Thread user claims, “Donald Trump wants to build an ‘iron dome’ at the border of our country to ‘defend us’ from Canada. Yes, Canada.”In the22-second videoin the Threads post, Trump says, “In my next term, we will build a great Iron Dome very much like Israel has, but even better. I’m saying, why don’t we have that? We should have that too. We have a lot of hostile people out there. We have a lot of bad actors out there. We’re going to build the greatest dome of them all.”But Trump does not mention Canada in the short video on Threads. And a YouTubevideo of his entire remarksin Michigan shows he didn’t cite any need to “‘defend us’ from Canada.” Nor did he identify who he meant by “hostile people” or “bad actors.”As he did in Michigan, Trump has advocated for an Iron Dome system for the U.S. inother recent speechesas well. But never as a defense against Canada.Defense Against Short-Range AttackTrump’s references are to amissile defense systemfirst used by Israel in 2011 to shoot down short-range rockets fired from Gaza. The Iron Dome, along with the Arrow 3 system — an Israeli air defense system that can intercept ballistic missiles — successfully downed nearly all the 300 drones and missiles launched at Israel by Iran on April 14.The U.S. Army acquired two Iron Dome batteries from Israel in 2020, but they “have subsequently been returned to Israel as part of US security assistance efforts to our Israeli partners,” a Pentagon spokesperson told us in a May 2 email.The Pentagon spokesperson referred us to U.S. weapons manufacturer Raytheon for information on thecapabilities of the Iron Dome system.Raytheon works withRafael Advanced Defense Systems,an Israeli company, on the Iron Dome, which Raytheon describes as “the world’s most-used system, intercepting more than 1,500 incoming targets with a success rate exceeding 90 percent since being fielded in 2011.”The system “detects, assesses and intercepts a variety of shorter-range targets such as rockets, artillery and mortars,” Raytheon’s website explains. “Iron Dome’s Tamir missile knocks down incoming threats launched from ranges of 4-70 km,” or 2.4 to 43.5 miles.“Ten Iron Dome batteries protect the citizens and infrastructure of Israel, with each battery comprising three to four stationary launchers, 20 Tamir missiles and a battlefield radar. Each of the batteries can defend up to nearly 60 square miles, and are strategically placed around cities to intercept threats headed toward populated areas,” the Raytheon site also says.But “against the normal threats to U.S. security, the Iron Dome is not a useful system,”Stephen Biddle,adjunct senior fellow for defense policy at the Council on Foreign Relations, told us in a phone interview. “Iron Dome is designed to deal with short-range threats, especially unguided rockets,” not long-range ballistic missiles that could be fired from adversaries like China or Russia.The Congressional Research Serviceexplainsthat “a ballistic missile leaves the atmosphere and follows an unpowered trajectory or flight path before reentering the atmosphere toward a predetermined target. Ballistic missiles have an effective range from a few hundred kilometers (km) to more than 10,000 km,” or 6,200 miles.“If the North Koreans launched intercontinental ballistic missiles at the U.S., an Iron Dome would not be able to intercept reentry vehicles,” explained Biddle, who is also a professor of international and public affairs at Columbia University. Reentry vehicles are the parts of intercontinental ballistic missiles carrying warheads back into earth’s atmosphere before striking a target.‘A More Sophisticated Version’At the May 1 rally in Michigan, Trump touted the security and economic benefits of an Iron Dome system.After the remarks quoted in the Threads clip about building “the greatest [Iron] Dome of them all,” the YouTube video of Trump’s full remarks show that he then said: “We’re going to have it all made right here in America. Some of it’s going to be made right here in Michigan. State-of-the-art missile defense shield that will be entirely built in America and will create jobs, jobs, jobs, and we’re going to have the greatest Dome of them all. … We’re going to have a more sophisticated version. We have the technology. We have the genius. We’re going to have a more, we’re going to build a great Iron Dome. We’re going to have a shield around our country and it’s made here, and it’s going to be a great day.”Defense experts areskepticalthat a missile defense system can “shield” the entire U.S., as Trump suggests. But Trump did not say such a system was needed to “defend us” from our neighbor to the north.Editor’s note:FactCheck.orgis one of several organizationsworking with Facebookto debunk misinformation shared on social media. Our previous stories can be foundhere. Facebook hasno controlover our editorial content.SourcesBiddle, Stephen.Adjunct senior fellow for defense policy, Council on Foreign Relations. Phone interview with FactCheck.org. 2 May 2024.Congressional Research Service.“Defense Primer: Ballistic Missile Defense.”Updated 30 Jan 2024.Fowler, Stephen.“Away from his New York trial, Donald Trump’s campaign rallies are business as usual.”NPR. 1 May 2024.Rafael Advance Defence Systems Ltd.“Our Story.”Accessed 2 May 2024.Raytheon/RTX.“Iron Dome System and SkyHunter Missile.”Rtx.com. Accessed 2 May 2024.Reiss, Adam, et al.“Key witnesses in Trump’s criminal trial describe how the hush money deals came together.”NBC News. 30 Apr 2024.Seitz-Wald, Alex.“Trump has long promised a ‘beautiful’ wall. Now he’s pledging ‘the greatest dome ever.'”NBC News. 23 Jan 2024.U.S. Department of Defense. Email from Pentagon spokesperson to FactCheck.org. 2 May 2024.Vinograd, Cassandra and Matthew Mpoke Bigg.“What Weapons Did Israel Use to Block Iran’s Attack?”New York Times. 14 Apr 2024.\""
      ]
     },
     "execution_count": 8,
     "metadata": {},
     "output_type": "execute_result"
    }
   ],
   "source": [
    "df['Main Body'][0]"
   ]
  },
  {
   "cell_type": "code",
   "execution_count": 11,
   "metadata": {},
   "outputs": [
    {
     "data": {
      "text/html": [
       "<div>\n",
       "<style scoped>\n",
       "    .dataframe tbody tr th:only-of-type {\n",
       "        vertical-align: middle;\n",
       "    }\n",
       "\n",
       "    .dataframe tbody tr th {\n",
       "        vertical-align: top;\n",
       "    }\n",
       "\n",
       "    .dataframe thead th {\n",
       "        text-align: right;\n",
       "    }\n",
       "</style>\n",
       "<table border=\"1\" class=\"dataframe\">\n",
       "  <thead>\n",
       "    <tr style=\"text-align: right;\">\n",
       "      <th></th>\n",
       "      <th>Unnamed: 0</th>\n",
       "      <th>Title</th>\n",
       "      <th>Author</th>\n",
       "      <th>Label</th>\n",
       "      <th>Abstract</th>\n",
       "      <th>Main Body</th>\n",
       "      <th>Word Count</th>\n",
       "      <th>Picture Count</th>\n",
       "      <th>Subject</th>\n",
       "      <th>Most Recurrent Word</th>\n",
       "      <th>Topic</th>\n",
       "    </tr>\n",
       "  </thead>\n",
       "  <tbody>\n",
       "  </tbody>\n",
       "</table>\n",
       "</div>"
      ],
      "text/plain": [
       "Empty DataFrame\n",
       "Columns: [Unnamed: 0, Title, Author, Label, Abstract, Main Body, Word Count, Picture Count, Subject, Most Recurrent Word, Topic]\n",
       "Index: []"
      ]
     },
     "execution_count": 11,
     "metadata": {},
     "output_type": "execute_result"
    }
   ],
   "source": [
    "df[df.duplicated()]"
   ]
  },
  {
   "cell_type": "code",
   "execution_count": 16,
   "metadata": {},
   "outputs": [
    {
     "name": "stdout",
     "output_type": "stream",
     "text": [
      "<class 'pandas.core.frame.DataFrame'>\n",
      "RangeIndex: 3062 entries, 0 to 3061\n",
      "Data columns (total 11 columns):\n",
      " #   Column               Non-Null Count  Dtype \n",
      "---  ------               --------------  ----- \n",
      " 0   Unnamed: 0           3062 non-null   int64 \n",
      " 1   Title                3062 non-null   object\n",
      " 2   Author               3062 non-null   object\n",
      " 3   Label                3062 non-null   int64 \n",
      " 4   Abstract             3061 non-null   object\n",
      " 5   Main Body            3061 non-null   object\n",
      " 6   Word Count           3062 non-null   int64 \n",
      " 7   Picture Count        3062 non-null   int64 \n",
      " 8   Subject              3062 non-null   object\n",
      " 9   Most Recurrent Word  3062 non-null   object\n",
      " 10  Topic                3062 non-null   object\n",
      "dtypes: int64(4), object(7)\n",
      "memory usage: 263.3+ KB\n"
     ]
    }
   ],
   "source": [
    "df.info()"
   ]
  },
  {
   "cell_type": "code",
   "execution_count": 26,
   "metadata": {},
   "outputs": [
    {
     "data": {
      "text/plain": [
       "Unnamed: 0             0\n",
       "Title                  0\n",
       "Author                 0\n",
       "Label                  0\n",
       "Abstract               1\n",
       "Main Body              1\n",
       "Word Count             0\n",
       "Picture Count          0\n",
       "Subject                0\n",
       "Most Recurrent Word    0\n",
       "Topic                  0\n",
       "dtype: int64"
      ]
     },
     "execution_count": 26,
     "metadata": {},
     "output_type": "execute_result"
    }
   ],
   "source": [
    "df.isna().sum()"
   ]
  },
  {
   "cell_type": "code",
   "execution_count": 19,
   "metadata": {},
   "outputs": [
    {
     "data": {
      "text/html": [
       "<div>\n",
       "<style scoped>\n",
       "    .dataframe tbody tr th:only-of-type {\n",
       "        vertical-align: middle;\n",
       "    }\n",
       "\n",
       "    .dataframe tbody tr th {\n",
       "        vertical-align: top;\n",
       "    }\n",
       "\n",
       "    .dataframe thead th {\n",
       "        text-align: right;\n",
       "    }\n",
       "</style>\n",
       "<table border=\"1\" class=\"dataframe\">\n",
       "  <thead>\n",
       "    <tr style=\"text-align: right;\">\n",
       "      <th></th>\n",
       "      <th>Unnamed: 0</th>\n",
       "      <th>Title</th>\n",
       "      <th>Author</th>\n",
       "      <th>Label</th>\n",
       "      <th>Abstract</th>\n",
       "      <th>Main Body</th>\n",
       "      <th>Word Count</th>\n",
       "      <th>Picture Count</th>\n",
       "      <th>Subject</th>\n",
       "      <th>Most Recurrent Word</th>\n",
       "      <th>Topic</th>\n",
       "    </tr>\n",
       "  </thead>\n",
       "  <tbody>\n",
       "    <tr>\n",
       "      <th>2589</th>\n",
       "      <td>2589</td>\n",
       "      <td>Wind Energy, Stock Market, VA</td>\n",
       "      <td>FactCheck.org</td>\n",
       "      <td>0</td>\n",
       "      <td>NaN</td>\n",
       "      <td>NaN</td>\n",
       "      <td>0</td>\n",
       "      <td>16</td>\n",
       "      <td>wind-energy-stock-market-va</td>\n",
       "      <td>None</td>\n",
       "      <td>FactCheck Quiz</td>\n",
       "    </tr>\n",
       "  </tbody>\n",
       "</table>\n",
       "</div>"
      ],
      "text/plain": [
       "      Unnamed: 0                          Title         Author  Label  \\\n",
       "2589        2589  Wind Energy, Stock Market, VA  FactCheck.org      0   \n",
       "\n",
       "     Abstract Main Body  Word Count  Picture Count  \\\n",
       "2589      NaN       NaN           0             16   \n",
       "\n",
       "                          Subject Most Recurrent Word           Topic  \n",
       "2589  wind-energy-stock-market-va                None  FactCheck Quiz  "
      ]
     },
     "execution_count": 19,
     "metadata": {},
     "output_type": "execute_result"
    }
   ],
   "source": [
    "df.loc[df['Main Body'].isna()]"
   ]
  },
  {
   "cell_type": "code",
   "execution_count": 27,
   "metadata": {},
   "outputs": [],
   "source": [
    "df = df.loc[df['Unnamed: 0']!=2589]"
   ]
  },
  {
   "cell_type": "code",
   "execution_count": 28,
   "metadata": {},
   "outputs": [
    {
     "name": "stdout",
     "output_type": "stream",
     "text": [
      "<class 'pandas.core.frame.DataFrame'>\n",
      "Int64Index: 3061 entries, 0 to 3061\n",
      "Data columns (total 11 columns):\n",
      " #   Column               Non-Null Count  Dtype \n",
      "---  ------               --------------  ----- \n",
      " 0   Unnamed: 0           3061 non-null   int64 \n",
      " 1   Title                3061 non-null   object\n",
      " 2   Author               3061 non-null   object\n",
      " 3   Label                3061 non-null   int64 \n",
      " 4   Abstract             3061 non-null   object\n",
      " 5   Main Body            3061 non-null   object\n",
      " 6   Word Count           3061 non-null   int64 \n",
      " 7   Picture Count        3061 non-null   int64 \n",
      " 8   Subject              3061 non-null   object\n",
      " 9   Most Recurrent Word  3061 non-null   object\n",
      " 10  Topic                3061 non-null   object\n",
      "dtypes: int64(4), object(7)\n",
      "memory usage: 287.0+ KB\n"
     ]
    }
   ],
   "source": [
    "df.info()"
   ]
  },
  {
   "cell_type": "code",
   "execution_count": 33,
   "metadata": {},
   "outputs": [],
   "source": [
    "import string\n",
    "import re\n",
    "from unidecode import unidecode\n",
    "from nltk.corpus import stopwords \n",
    "from nltk import word_tokenize\n",
    "from nltk.stem import WordNetLemmatizer\n",
    "\n",
    "stop_words = set(stopwords.words('portuguese'))\n",
    "\n",
    "def preprocessing(sentence):\n",
    "    sentence = sentence.lower().strip()\n",
    "    sentence = unidecode(sentence)\n",
    "    \n",
    "    sentence = \"\".join(char for char in sentence if not char.isdigit())\n",
    "    \n",
    "    for punc in string.punctuation:\n",
    "        sentence = sentence.replace(punc, \"\")\n",
    "    \n",
    "    sentence =sentence.strip()\n",
    "    word_tokens = word_tokenize(sentence)\n",
    "    \n",
    "    stop_words = set(stopwords.words('english'))\n",
    "    text_no_stopwords = [word for word in word_tokens if not word in stop_words]\n",
    "    \n",
    "    verb_lemmatize = [WordNetLemmatizer().lemmatize(word, pos='v') for word in text_no_stopwords]\n",
    "    \n",
    "    return \" \".join(word for word in verb_lemmatize)"
   ]
  },
  {
   "cell_type": "code",
   "execution_count": 34,
   "metadata": {
    "scrolled": true
   },
   "outputs": [
    {
     "name": "stderr",
     "output_type": "stream",
     "text": [
      "/tmp/ipykernel_261365/2882905372.py:1: SettingWithCopyWarning: \n",
      "A value is trying to be set on a copy of a slice from a DataFrame.\n",
      "Try using .loc[row_indexer,col_indexer] = value instead\n",
      "\n",
      "See the caveats in the documentation: https://pandas.pydata.org/pandas-docs/stable/user_guide/indexing.html#returning-a-view-versus-a-copy\n",
      "  df['clean_body'] = df['Main Body'].apply(preprocessing)\n"
     ]
    }
   ],
   "source": [
    "df['clean_body'] = df['Main Body'].apply(preprocessing)"
   ]
  },
  {
   "cell_type": "code",
   "execution_count": 36,
   "metadata": {
    "collapsed": true
   },
   "outputs": [
    {
     "data": {
      "text/plain": [
       "'este articulo estara disponible en espanolen el tiempo latinoquick takeat campaign rally michigan former president donald trump promise build iron dome missile defense system us would serve shield around country post thread falsely claim trump say system would use defend us canadafull storyon day hiscriminal trialin new york city former president donald trump travel swing state wisconsin michigan may forcampaign ralliesin support effort regain white housea postshared thread may show clip trump rally day freeland michigan thread user claim donald trump want build iron dome border country defend us canada yes canadain thesecond videoin thread post trump say next term build great iron dome much like israel even better im say dont lot hostile people lot bad actors go build greatest dome allbut trump mention canada short video thread youtubevideo entire remarksin michigan show didnt cite need defend us canada identify mean hostile people bad actorsas michigan trump advocate iron dome system us inother recent speechesas well never defense canadadefense shortrange attacktrumps reference amissile defense systemfirst use israel shoot shortrange rocket fire gaza iron dome along arrow system israeli air defense system intercept ballistic missiles successfully down nearly drone missiles launch israel iran april us army acquire two iron dome batteries israel subsequently return israel part us security assistance efforts israeli partner pentagon spokesperson tell us may emailthe pentagon spokesperson refer us us weapons manufacturer raytheon information thecapabilities iron dome systemraytheon work withrafael advance defense systemsan israeli company iron dome raytheon describe worlds mostused system intercept incoming target success rate exceed percent since field system detect assess intercept variety shorterrange target rocket artillery mortar raytheons website explain iron domes tamir missile knock incoming threats launch range km milesten iron dome batteries protect citizens infrastructure israel battery comprise three four stationary launchers tamir missiles battlefield radar batteries defend nearly square miles strategically place around cities intercept threats head toward populate areas raytheon site also saysbut normal threats us security iron dome useful systemstephen biddleadjunct senior fellow defense policy council foreign relations tell us phone interview iron dome design deal shortrange threats especially unguided rocket longrange ballistic missiles could fire adversaries like china russiathe congressional research serviceexplainsthat ballistic missile leave atmosphere follow unpowered trajectory flight path reentering atmosphere toward predetermine target ballistic missiles effective range hundred kilometers km km milesif north koreans launch intercontinental ballistic missiles us iron dome would able intercept reentry vehicles explain biddle also professor international public affairs columbia university reentry vehicles part intercontinental ballistic missiles carry warheads back earth atmosphere strike targeta sophisticate versionat may rally michigan trump tout security economic benefit iron dome systemafter remark quote thread clip build greatest iron dome youtube video trump full remark show say go make right america go make right michigan stateoftheart missile defense shield entirely build america create job job job go greatest dome go sophisticate version technology genius go go build great iron dome go shield around country make go great daydefense experts areskepticalthat missile defense system shield entire us trump suggest trump say system need defend us neighbor northeditors notefactcheckorgis one several organizationsworking facebookto debunk misinformation share social media previous stories foundhere facebook hasno controlover editorial contentsourcesbiddle stephenadjunct senior fellow defense policy council foreign relations phone interview factcheckorg may congressional research servicedefense primer ballistic missile defenseupdated jan fowler stephenaway new york trial donald trump campaign rally business usualnpr may rafael advance defence systems ltdour storyaccessed may raytheonrtxiron dome system skyhunter missilertxcom access may reiss adam et alkey witness trump criminal trial describe hush money deal come togethernbc news apr seitzwald alextrump long promise beautiful wall hes pledge greatest dome evernbc news jan us department defense email pentagon spokesperson factcheckorg may vinograd cassandra matthew mpoke biggwhat weapons israel use block irans attacknew york time apr'"
      ]
     },
     "execution_count": 36,
     "metadata": {},
     "output_type": "execute_result"
    }
   ],
   "source": [
    "df['clean_body'][0]"
   ]
  },
  {
   "cell_type": "code",
   "execution_count": 45,
   "metadata": {
    "collapsed": true
   },
   "outputs": [
    {
     "name": "stderr",
     "output_type": "stream",
     "text": [
      "/tmp/ipykernel_261365/2122884058.py:1: SettingWithCopyWarning: \n",
      "A value is trying to be set on a copy of a slice from a DataFrame.\n",
      "Try using .loc[row_indexer,col_indexer] = value instead\n",
      "\n",
      "See the caveats in the documentation: https://pandas.pydata.org/pandas-docs/stable/user_guide/indexing.html#returning-a-view-versus-a-copy\n",
      "  df['word_count'] = df['clean_body'].apply(lambda n: len(n.split()))\n"
     ]
    }
   ],
   "source": [
    "df['word_count'] = df['clean_body'].apply(lambda n: len(n.split()))"
   ]
  },
  {
   "cell_type": "code",
   "execution_count": 46,
   "metadata": {},
   "outputs": [
    {
     "data": {
      "text/html": [
       "<div>\n",
       "<style scoped>\n",
       "    .dataframe tbody tr th:only-of-type {\n",
       "        vertical-align: middle;\n",
       "    }\n",
       "\n",
       "    .dataframe tbody tr th {\n",
       "        vertical-align: top;\n",
       "    }\n",
       "\n",
       "    .dataframe thead th {\n",
       "        text-align: right;\n",
       "    }\n",
       "</style>\n",
       "<table border=\"1\" class=\"dataframe\">\n",
       "  <thead>\n",
       "    <tr style=\"text-align: right;\">\n",
       "      <th></th>\n",
       "      <th>Unnamed: 0</th>\n",
       "      <th>Title</th>\n",
       "      <th>Author</th>\n",
       "      <th>Label</th>\n",
       "      <th>Abstract</th>\n",
       "      <th>Main Body</th>\n",
       "      <th>Word Count</th>\n",
       "      <th>Picture Count</th>\n",
       "      <th>Subject</th>\n",
       "      <th>Most Recurrent Word</th>\n",
       "      <th>Topic</th>\n",
       "      <th>clean_body</th>\n",
       "      <th>word_count</th>\n",
       "    </tr>\n",
       "  </thead>\n",
       "  <tbody>\n",
       "    <tr>\n",
       "      <th>0</th>\n",
       "      <td>0</td>\n",
       "      <td>Threads Post Distorts Trump’s Remarks on Iron ...</td>\n",
       "      <td>Alan Jaffe</td>\n",
       "      <td>0</td>\n",
       "      <td>este artículo estará disponible en españolen e...</td>\n",
       "      <td>Este artículo estará disponible en españolen E...</td>\n",
       "      <td>644</td>\n",
       "      <td>16</td>\n",
       "      <td>threads-post-distorts-trumps-remarks-on-iron-d...</td>\n",
       "      <td>dome</td>\n",
       "      <td>Donald Trump</td>\n",
       "      <td>este articulo estara disponible en espanolen e...</td>\n",
       "      <td>616</td>\n",
       "    </tr>\n",
       "    <tr>\n",
       "      <th>1</th>\n",
       "      <td>1</td>\n",
       "      <td>Trump’s Bogus Attack on FBI Crime Statistics</td>\n",
       "      <td>Robert Farley</td>\n",
       "      <td>0</td>\n",
       "      <td>este artículo estará disponible en españolen e...</td>\n",
       "      <td>Este artículo estará disponible en españolen E...</td>\n",
       "      <td>1867</td>\n",
       "      <td>18</td>\n",
       "      <td>trumps-bogus-attack-on-fbi-crime-statistics</td>\n",
       "      <td>crime</td>\n",
       "      <td>Donald Trump</td>\n",
       "      <td>este articulo estara disponible en espanolen e...</td>\n",
       "      <td>1773</td>\n",
       "    </tr>\n",
       "    <tr>\n",
       "      <th>2</th>\n",
       "      <td>2</td>\n",
       "      <td>Trump’s Partisan Spin on TikTok</td>\n",
       "      <td>Robert Farley</td>\n",
       "      <td>0</td>\n",
       "      <td>este artículo estará disponible en españolen e...</td>\n",
       "      <td>Este artículo estará disponible en españolen E...</td>\n",
       "      <td>920</td>\n",
       "      <td>17</td>\n",
       "      <td>trumps-partisan-spin-on-tiktok</td>\n",
       "      <td>tiktok</td>\n",
       "      <td>Donald Trump</td>\n",
       "      <td>este articulo estara disponible en espanolen e...</td>\n",
       "      <td>880</td>\n",
       "    </tr>\n",
       "    <tr>\n",
       "      <th>3</th>\n",
       "      <td>3</td>\n",
       "      <td>FactChecking Biden’s Swing-State Stops in Penn...</td>\n",
       "      <td>D'Angelo Gore</td>\n",
       "      <td>0</td>\n",
       "      <td>traducido porel tiempo latinowhile former pres...</td>\n",
       "      <td>Traducido porEl Tiempo Latino.While former Pre...</td>\n",
       "      <td>1542</td>\n",
       "      <td>18</td>\n",
       "      <td>factchecking-bidens-swing-state-stops-in-penns...</td>\n",
       "      <td>trump</td>\n",
       "      <td>Donald Trump</td>\n",
       "      <td>traducido porel tiempo latinowhile former pres...</td>\n",
       "      <td>1421</td>\n",
       "    </tr>\n",
       "    <tr>\n",
       "      <th>4</th>\n",
       "      <td>4</td>\n",
       "      <td>Trump’s Unfounded ‘Colossal’ Tax Hike Warning</td>\n",
       "      <td>Robert Farley</td>\n",
       "      <td>0</td>\n",
       "      <td>este artículo estará disponible en españolen e...</td>\n",
       "      <td>Este artículo estará disponible en españolen E...</td>\n",
       "      <td>873</td>\n",
       "      <td>18</td>\n",
       "      <td>trumps-unfounded-colossal-tax-hike-warning</td>\n",
       "      <td>tax</td>\n",
       "      <td>Donald Trump</td>\n",
       "      <td>este articulo estara disponible en espanolen e...</td>\n",
       "      <td>814</td>\n",
       "    </tr>\n",
       "  </tbody>\n",
       "</table>\n",
       "</div>"
      ],
      "text/plain": [
       "   Unnamed: 0                                              Title  \\\n",
       "0           0  Threads Post Distorts Trump’s Remarks on Iron ...   \n",
       "1           1       Trump’s Bogus Attack on FBI Crime Statistics   \n",
       "2           2                    Trump’s Partisan Spin on TikTok   \n",
       "3           3  FactChecking Biden’s Swing-State Stops in Penn...   \n",
       "4           4      Trump’s Unfounded ‘Colossal’ Tax Hike Warning   \n",
       "\n",
       "          Author  Label                                           Abstract  \\\n",
       "0     Alan Jaffe      0  este artículo estará disponible en españolen e...   \n",
       "1  Robert Farley      0  este artículo estará disponible en españolen e...   \n",
       "2  Robert Farley      0  este artículo estará disponible en españolen e...   \n",
       "3  D'Angelo Gore      0  traducido porel tiempo latinowhile former pres...   \n",
       "4  Robert Farley      0  este artículo estará disponible en españolen e...   \n",
       "\n",
       "                                           Main Body  Word Count  \\\n",
       "0  Este artículo estará disponible en españolen E...         644   \n",
       "1  Este artículo estará disponible en españolen E...        1867   \n",
       "2  Este artículo estará disponible en españolen E...         920   \n",
       "3  Traducido porEl Tiempo Latino.While former Pre...        1542   \n",
       "4  Este artículo estará disponible en españolen E...         873   \n",
       "\n",
       "   Picture Count                                            Subject  \\\n",
       "0             16  threads-post-distorts-trumps-remarks-on-iron-d...   \n",
       "1             18        trumps-bogus-attack-on-fbi-crime-statistics   \n",
       "2             17                     trumps-partisan-spin-on-tiktok   \n",
       "3             18  factchecking-bidens-swing-state-stops-in-penns...   \n",
       "4             18         trumps-unfounded-colossal-tax-hike-warning   \n",
       "\n",
       "  Most Recurrent Word         Topic  \\\n",
       "0                dome  Donald Trump   \n",
       "1               crime  Donald Trump   \n",
       "2              tiktok  Donald Trump   \n",
       "3               trump  Donald Trump   \n",
       "4                 tax  Donald Trump   \n",
       "\n",
       "                                          clean_body  word_count  \n",
       "0  este articulo estara disponible en espanolen e...         616  \n",
       "1  este articulo estara disponible en espanolen e...        1773  \n",
       "2  este articulo estara disponible en espanolen e...         880  \n",
       "3  traducido porel tiempo latinowhile former pres...        1421  \n",
       "4  este articulo estara disponible en espanolen e...         814  "
      ]
     },
     "execution_count": 46,
     "metadata": {},
     "output_type": "execute_result"
    }
   ],
   "source": [
    "df.head()"
   ]
  },
  {
   "cell_type": "code",
   "execution_count": 47,
   "metadata": {},
   "outputs": [],
   "source": [
    "import seaborn as sns"
   ]
  },
  {
   "cell_type": "code",
   "execution_count": 49,
   "metadata": {},
   "outputs": [
    {
     "data": {
      "image/png": "[encoded data removed]",
      "text/plain": [
       "<Figure size 640x480 with 1 Axes>"
      ]
     },
     "metadata": {},
     "output_type": "display_data"
    }
   ],
   "source": [
    "sns.histplot(df['word_count'],kde=True);"
   ]
  },
  {
   "cell_type": "code",
   "execution_count": null,
   "metadata": {},
   "outputs": [],
   "source": []
  }
 ],
 "metadata": {
  "kernelspec": {
   "display_name": "Python 3 (ipykernel)",
   "language": "python",
   "name": "python3"
  },
  "language_info": {
   "codemirror_mode": {
    "name": "ipython",
    "version": 3
   },
   "file_extension": ".py",
   "mimetype": "text/x-python",
   "name": "python",
   "nbconvert_exporter": "python",
   "pygments_lexer": "ipython3",
   "version": "3.10.6"
  },
  "toc": {
   "base_numbering": 1,
   "nav_menu": {},
   "number_sections": true,
   "sideBar": true,
   "skip_h1_title": false,
   "title_cell": "Table of Contents",
   "title_sidebar": "Contents",
   "toc_cell": false,
   "toc_position": {},
   "toc_section_display": true,
   "toc_window_display": false
  }
 },
 "nbformat": 4,
 "nbformat_minor": 2
}
