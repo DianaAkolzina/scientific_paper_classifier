{
 "cells": [
  {
   "cell_type": "markdown",
   "id": "da7eb406-e7df-4f4d-b228-74e91d81f23b",
   "metadata": {},
   "source": [
    "## Nevena's notebook"
   ]
  },
  {
   "cell_type": "markdown",
   "id": "de18aa41-4c07-45ee-9c5c-cc9956f8316a",
   "metadata": {},
   "source": [
    "1. Missing values, which types\n",
    "2. Systematic errors, how to make text cleaner\n",
    "3. Cleaning steps:\n",
    "- remove punctuation\n",
    "- lowercase\n",
    "- remove articles & pronouns\n",
    "- deleting words with less than 3 letters\n",
    "4. How many words should be kept? Find the perfect amount\n",
    "5. Which columns to keep and which to throw out?"
   ]
  },
  {
   "cell_type": "code",
   "execution_count": 82,
   "id": "5a98be51",
   "metadata": {},
   "outputs": [],
   "source": [
    "from google.cloud import storage\n",
    "import os\n",
    "from dotenv import load_dotenv\n",
    "import pandas as pd\n",
    "import io\n",
    "from unidecode import unidecode\n",
    "import string\n",
    "from nltk.tokenize import word_tokenize\n",
    "from nltk.corpus import stopwords\n",
    "from nltk.stem import WordNetLemmatizer\n",
    "import seaborn as sns\n",
    "\n",
    "# Specify the bucket name\n",
    "BUCKET_NAME = os.getenv(\"BUCKET_NAME\")\n",
    "GCP_PROJECT = os.getenv(\"GCP_PROJECT\")"
   ]
  },
  {
   "cell_type": "code",
   "execution_count": 83,
   "id": "75dbbc88-ecf9-4ae8-8c89-61b2c6c95611",
   "metadata": {},
   "outputs": [],
   "source": [
    "# Create a storage client\n",
    "storage_client = storage.Client()\n",
    "\n",
    "# Get the bucket\n",
    "bucket = storage_client.get_bucket(BUCKET_NAME)\n",
    "\n",
    "# Get the blob (file) from the bucket\n",
    "file_name = 'arxiv.csv'\n",
    "blob = bucket.get_blob(file_name)\n",
    "\n",
    "# Read the CSV file into a DataFrame\n",
    "df = pd.read_csv(io.BytesIO(blob.download_as_bytes()), sep=\",\")"
   ]
  },
  {
   "cell_type": "code",
   "execution_count": 84,
   "id": "bc315a28",
   "metadata": {},
   "outputs": [
    {
     "data": {
      "text/html": [
       "<div>\n",
       "<style scoped>\n",
       "    .dataframe tbody tr th:only-of-type {\n",
       "        vertical-align: middle;\n",
       "    }\n",
       "\n",
       "    .dataframe tbody tr th {\n",
       "        vertical-align: top;\n",
       "    }\n",
       "\n",
       "    .dataframe thead th {\n",
       "        text-align: right;\n",
       "    }\n",
       "</style>\n",
       "<table border=\"1\" class=\"dataframe\">\n",
       "  <thead>\n",
       "    <tr style=\"text-align: right;\">\n",
       "      <th></th>\n",
       "      <th>arxiv-id</th>\n",
       "      <th>Published</th>\n",
       "      <th>Title</th>\n",
       "      <th>Authors</th>\n",
       "      <th>Journal reference</th>\n",
       "      <th>Comments</th>\n",
       "      <th>Primary Category</th>\n",
       "      <th>All Categories</th>\n",
       "      <th>Abstract</th>\n",
       "      <th>Main Body</th>\n",
       "      <th>Word Count</th>\n",
       "      <th>PDF Link</th>\n",
       "      <th>Label</th>\n",
       "    </tr>\n",
       "  </thead>\n",
       "  <tbody>\n",
       "    <tr>\n",
       "      <th>0</th>\n",
       "      <td>2306.12956v1</td>\n",
       "      <td>2023-06-22T15:15:44Z</td>\n",
       "      <td>Pauli blocking effects on pair creation in str...</td>\n",
       "      <td>Mikalai Prakapenia|Gregory Vereshchagin</td>\n",
       "      <td>Phys Rev D 108 013002 (2023)</td>\n",
       "      <td>Accepted for publication in Physical Review D</td>\n",
       "      <td>physics.plasm-ph</td>\n",
       "      <td>physics.plasm-ph|astro-ph.CO|astro-ph.HE</td>\n",
       "      <td>The process of electron-positron pair creation...</td>\n",
       "      <td>Pauli blocking effects on pair creation in str...</td>\n",
       "      <td>4153</td>\n",
       "      <td>http://arxiv.org/pdf/2306.12956v1</td>\n",
       "      <td>0</td>\n",
       "    </tr>\n",
       "    <tr>\n",
       "      <th>1</th>\n",
       "      <td>2111.04524v1</td>\n",
       "      <td>2021-11-08T14:15:50Z</td>\n",
       "      <td>Beyond Participation: A Review of Co-Creation ...</td>\n",
       "      <td>Juliane Jarke|Gabriela Molina León|Irina Zakha...</td>\n",
       "      <td>No journal ref found</td>\n",
       "      <td>ZeMKI Working Paper No 39 ZeMKI - Centre for M...</td>\n",
       "      <td>cs.HC</td>\n",
       "      <td>cs.HC|cs.CY</td>\n",
       "      <td>New methods and technologies for engaging futu...</td>\n",
       "      <td>ZeMKI Working PaperNo 39\\nISSN 23672277\\nJulia...</td>\n",
       "      <td>10945</td>\n",
       "      <td>http://arxiv.org/pdf/2111.04524v1</td>\n",
       "      <td>0</td>\n",
       "    </tr>\n",
       "    <tr>\n",
       "      <th>2</th>\n",
       "      <td>1511.07709v2</td>\n",
       "      <td>2015-11-24T14:05:15Z</td>\n",
       "      <td>Multi-pair states in electron-positron pair cr...</td>\n",
       "      <td>Anton Wöllert|Heiko Bauke|Christoph H Keitel</td>\n",
       "      <td>Physics Letters B vol 760 pages 552-557 (2016)</td>\n",
       "      <td>No comment found</td>\n",
       "      <td>quant-ph</td>\n",
       "      <td>quant-ph</td>\n",
       "      <td>Ultra strong electromagnetic fields can lead t...</td>\n",
       "      <td>Multipair states in electronpositron pair crea...</td>\n",
       "      <td>2312</td>\n",
       "      <td>http://arxiv.org/pdf/1511.07709v2</td>\n",
       "      <td>0</td>\n",
       "    </tr>\n",
       "  </tbody>\n",
       "</table>\n",
       "</div>"
      ],
      "text/plain": [
       "       arxiv-id             Published  \\\n",
       "0  2306.12956v1  2023-06-22T15:15:44Z   \n",
       "1  2111.04524v1  2021-11-08T14:15:50Z   \n",
       "2  1511.07709v2  2015-11-24T14:05:15Z   \n",
       "\n",
       "                                               Title  \\\n",
       "0  Pauli blocking effects on pair creation in str...   \n",
       "1  Beyond Participation: A Review of Co-Creation ...   \n",
       "2  Multi-pair states in electron-positron pair cr...   \n",
       "\n",
       "                                             Authors  \\\n",
       "0            Mikalai Prakapenia|Gregory Vereshchagin   \n",
       "1  Juliane Jarke|Gabriela Molina León|Irina Zakha...   \n",
       "2       Anton Wöllert|Heiko Bauke|Christoph H Keitel   \n",
       "\n",
       "                                Journal reference  \\\n",
       "0                    Phys Rev D 108 013002 (2023)   \n",
       "1                            No journal ref found   \n",
       "2  Physics Letters B vol 760 pages 552-557 (2016)   \n",
       "\n",
       "                                            Comments  Primary Category  \\\n",
       "0      Accepted for publication in Physical Review D  physics.plasm-ph   \n",
       "1  ZeMKI Working Paper No 39 ZeMKI - Centre for M...             cs.HC   \n",
       "2                                   No comment found          quant-ph   \n",
       "\n",
       "                             All Categories  \\\n",
       "0  physics.plasm-ph|astro-ph.CO|astro-ph.HE   \n",
       "1                               cs.HC|cs.CY   \n",
       "2                                  quant-ph   \n",
       "\n",
       "                                            Abstract  \\\n",
       "0  The process of electron-positron pair creation...   \n",
       "1  New methods and technologies for engaging futu...   \n",
       "2  Ultra strong electromagnetic fields can lead t...   \n",
       "\n",
       "                                           Main Body  Word Count  \\\n",
       "0  Pauli blocking effects on pair creation in str...        4153   \n",
       "1  ZeMKI Working PaperNo 39\\nISSN 23672277\\nJulia...       10945   \n",
       "2  Multipair states in electronpositron pair crea...        2312   \n",
       "\n",
       "                            PDF Link  Label  \n",
       "0  http://arxiv.org/pdf/2306.12956v1      0  \n",
       "1  http://arxiv.org/pdf/2111.04524v1      0  \n",
       "2  http://arxiv.org/pdf/1511.07709v2      0  "
      ]
     },
     "execution_count": 84,
     "metadata": {},
     "output_type": "execute_result"
    }
   ],
   "source": [
    "df.head(3)"
   ]
  },
  {
   "cell_type": "code",
   "execution_count": 85,
   "id": "c6d7c4c9",
   "metadata": {},
   "outputs": [],
   "source": [
    "df.isna().sum()\n",
    "df = df.dropna()"
   ]
  },
  {
   "cell_type": "code",
   "execution_count": 86,
   "id": "2d5aa3ce",
   "metadata": {},
   "outputs": [
    {
     "name": "stdout",
     "output_type": "stream",
     "text": [
      "<class 'pandas.core.frame.DataFrame'>\n",
      "Index: 3524 entries, 0 to 3524\n",
      "Data columns (total 13 columns):\n",
      " #   Column             Non-Null Count  Dtype \n",
      "---  ------             --------------  ----- \n",
      " 0   arxiv-id           3524 non-null   object\n",
      " 1   Published          3524 non-null   object\n",
      " 2   Title              3524 non-null   object\n",
      " 3   Authors            3524 non-null   object\n",
      " 4   Journal reference  3524 non-null   object\n",
      " 5   Comments           3524 non-null   object\n",
      " 6   Primary Category   3524 non-null   object\n",
      " 7   All Categories     3524 non-null   object\n",
      " 8   Abstract           3524 non-null   object\n",
      " 9   Main Body          3524 non-null   object\n",
      " 10  Word Count         3524 non-null   int64 \n",
      " 11  PDF Link           3524 non-null   object\n",
      " 12  Label              3524 non-null   int64 \n",
      "dtypes: int64(2), object(11)\n",
      "memory usage: 385.4+ KB\n"
     ]
    }
   ],
   "source": [
    "df.info()"
   ]
  },
  {
   "cell_type": "code",
   "execution_count": 87,
   "id": "2e1d70ec",
   "metadata": {},
   "outputs": [],
   "source": [
    "df = df.drop_duplicates()"
   ]
  },
  {
   "cell_type": "code",
   "execution_count": 88,
   "id": "d1abe3e1",
   "metadata": {},
   "outputs": [],
   "source": [
    "#Creating a preprocessing function\n",
    "def preprocessing(sentence):\n",
    "    sentence = sentence.lower().strip()\n",
    "    sentence = unidecode(sentence)\n",
    "    sentence = \"\".join(char for char in sentence if not char.isdigit())\n",
    "\n",
    "    #Removing all the words less than 2 chars long\n",
    "    sentence = sentence.str.replace(r'\\b\\w{1,2}\\b', '', regex=True)\n",
    "\n",
    "    for punc in string.punctuation:\n",
    "        sentence = sentence.replace(punc, \"\")\n",
    "\n",
    "    sentence = sentence.strip()\n",
    "\n",
    "    word_tokens = word_tokenize(sentence)\n",
    "\n",
    "    stop_words = set(stopwords.words('english'))\n",
    "    text_without_sw = [word for word in word_tokens if not word in stop_words]\n",
    "\n",
    "    verb_lemmatize = [WordNetLemmatizer().lemmatize(word, pos='v') for word in text_without_sw]\n",
    "\n",
    "    return \" \".join(word for word in verb_lemmatize)"
   ]
  },
  {
   "cell_type": "code",
   "execution_count": 89,
   "id": "a90c2934",
   "metadata": {},
   "outputs": [],
   "source": [
    "df['Main Body'].dtype\n",
    "df['Main Body'] = df['Main Body'].astype(str)"
   ]
  },
  {
   "cell_type": "code",
   "execution_count": 90,
   "id": "257cd826",
   "metadata": {},
   "outputs": [],
   "source": [
    "#Adding new cleaned columns to the DF\n",
    "df['clean_body'] = df['Main Body'].apply(preprocessing)\n",
    "df['word_count'] = df['clean_body'].apply(lambda n: len(n.split()))\n",
    "df['clean_authors'] = df['Authors'].str.replace(\"|\", \", \")"
   ]
  },
  {
   "cell_type": "code",
   "execution_count": 91,
   "id": "cf56f4f5",
   "metadata": {},
   "outputs": [],
   "source": [
    "#Setting the same column name like for the Authors\n",
    "df.rename(columns={'Authors': 'Author'}, inplace=True)"
   ]
  },
  {
   "cell_type": "code",
   "execution_count": 92,
   "id": "53e5b715",
   "metadata": {},
   "outputs": [
    {
     "data": {
      "text/plain": [
       "Index(['arxiv-id', 'Published', 'Title', 'Author', 'Journal reference',\n",
       "       'Comments', 'Primary Category', 'All Categories', 'Abstract',\n",
       "       'Main Body', 'Word Count', 'PDF Link', 'Label', 'clean_body',\n",
       "       'word_count', 'clean_authors'],\n",
       "      dtype='object')"
      ]
     },
     "execution_count": 92,
     "metadata": {},
     "output_type": "execute_result"
    }
   ],
   "source": [
    "df.keys()"
   ]
  },
  {
   "cell_type": "code",
   "execution_count": 93,
   "id": "0e7b868e",
   "metadata": {},
   "outputs": [
    {
     "data": {
      "text/plain": [
       "0        2546\n",
       "1        6625\n",
       "2        1710\n",
       "3        7958\n",
       "4        4756\n",
       "        ...  \n",
       "3518     2280\n",
       "3519    14251\n",
       "3521     5898\n",
       "3522      832\n",
       "3524    10343\n",
       "Name: word_count, Length: 3422, dtype: int64"
      ]
     },
     "execution_count": 93,
     "metadata": {},
     "output_type": "execute_result"
    }
   ],
   "source": [
    "df['word_count']"
   ]
  },
  {
   "cell_type": "code",
   "execution_count": 94,
   "id": "1c6d1806",
   "metadata": {},
   "outputs": [
    {
     "data": {
      "text/plain": [
       "'pauli block effect pair creation strong electric field mikalai prakapenia gregory vereshchagin department theoretical physics astrophysics belarusian state university nezalezhnasci av minsk belarus icranetminsk institute physics national academy sciences belarus nezalezhnasci av minsk belarus icranet piazza della repubblica pescara italy icra dipartimento di fisica sapienza universita di roma piazzale aldo moro rome italy inaf istituto di astrofisica e planetologia spaziali via del fosso del cavaliere rome italy date june process electronpositron pair creation oscillation uniform electric field study take account pauli exclusion principle generally find pair creation suppress hencecoherentoscillationsoccuronlongertimescales consideringpaircreationinalreadyexisting electronpositron plasma find dynamics depend pair distribution function consider fermidirac distribution pair find small temperatures pair creation suppress small chemical potentials increase heat lead enhancement pair creation introduction actionwithphotonsshowedthatplasmathermaliza tion occur much longer timescales oscillations see also quantum electrodynamics predict creation pair production strong electric field also electronpositron pair strong electric field vac discuss context early universe particular uumasanonperturbativeprocesswiththefieldstrength inflation role gravitational field exceed critical value e mce c process pair creation consider vm e electron mass charge course one key directions efforts spectivelycisthespeedoflightandisreducedplancks verification laboratory experiment constant itwaspredictedmorethanninetyyearsago recently quantum vlasov equations right invention positron paul dirac derive nonequilibrium quantum field theory far process observe laboratory de backreaction electronpositron pair onto rapidly os spitestrongeffortsinincreasingelectricfieldstrengthin cillating electric field study use quantum particular focus ultraintense optical laser beam vlasovequationsconfirmingthatonlyforundercriti see eg due copious amount pair create calfieldthebackreactioncanbesafelyneglected theva electric field believe process pair lidity locally constant field approximation discuss creation consider fix background account back reaction newly create parti recentlypauliblockingeffectsinthermalizationofrel cles external field mandatory problem ativistic plasma study far sys study process electronpositron pair cre tematic analysis influence quantum degeneracy ation oscillations induce back reaction pair creation plasma oscillations carry homogeneous time dependent electric field long previous work include effect pauli history review see comparison solu block work close gap tions quantum vlasov equations classical kinetic paper organize follow section vlasovboltzmannequationsperformedinshowed frameworkispresented boltzmannvlasovequationsfor classical description surprisingly good agree pair together maxwell equation electric field ment full quantum treatment even field section main result vacuum initial state strengthse e itwasalsoshownthatforlargelyover c report section nonvacuum initial state con criticalfieldsquantumtreatmentleadstononmarkovian sidered role inverse schwinger process em kinetic equations numerical solutions phasized conclusions follow last section equations obtain show critical field memory effect become important finally effect quantum statistics analyze show important quantum interference oc ii framework curs ahydrodynamicapproachdevelopedin follow allow establish plasma oscillate two main assumptions work firstly frequency comparable plasma frequency followingtheresultsinweassumethatclassicalki study problem boltzmannvlasov equa netic equations provide good approximation quantum tions describe addition pair creation also inter dynamics pair create overcritical electric field nuj hpmsalpscisyhp vvixra secondly assume pair creation rate compute useful introduce dimensionless quantities forvacuumstatedoesnotchangewhenelectronpositron tm p pm e eem rewrite eqs pair present dimensionless form section present kinetic description base f f ontherelativisticboltzmannmaxwellequationwiththe e sourcetermaccountingforpaircreationinstrongelectric p field modify include pauli block effect cid cid pp cidcid inwhatfo llowsthesystemofunitscisadopted fe ln exp e dp e fine structure constant uniform electric field et consider prob lem axial symmetry introduce cylindrical co e cid dp p ee ordinate momentum space p p php e f f p p e p axisparalleltoelectricfielde particleenergyisthen cid dp cid cid pp cidcid p p p ln exp pdp p e particle evolution describe oneparticle elec tronpositron distribution function ftp p cid normalize particle density n cid dp f energy p p p dp pp dp dp p phase space element density electrons positrons energy per par ticle define follow r cid dpppf equationsandaresolvednumericallyusingthe finite difference scheme goal define grid ncid dp pf sinceforthisworkthereisnodiffer p p p space follow p grid logarith encebetweenelectronsandpositronsapartfromtheop miccontainingnodescoveringtheinterval positedirectionofaccelerationbytheelectricfieldinthe thep gridisuniformcontainingnodescoveringthe followingfordefinitenesswedenotef thepositrondistri interval replacingmomentumderivatives butionfunction particlecollisionsareneglectedasthey byfinitedifferencesintheboltzmannequationweuse occuronmuchlargertimescalesthanwhatisconsidered upwinding scheme positive negative value inthisworkleadingeventuallytoplasmathermalization electric field e finite grid boltzmann equation transform system ordinary dif collisionless boltzmann equation govern evolution ferential equations time variable integral ftp p see eg rhs equation transform finite sum use implicit gear method solve system f f ee sep p ordinary differential equations p source term schwinger process iii vacuum initial state fee lncid expcid pp mcidcid dp explore process pair creation overcritical ee electric field different initial condition electric fieldandpairs firstwefocusonovercriticalelectricfield withthefactorfbeingthepauliblockingaccount vacuum initial state turn initial state ing electrons positrons electronpositron pair distribute accord time evolution electric field define fermidirac statistics overcritical electric field maxwellequation de j j containingconduc dt cond pol fig demonstrate effect pauli block tive current j generate motion pair cond pair creation process compare time evolu polarization current j generate pair creation pol tion ofdimensionless quantities electricfield e ee process currents define follow c positron number density n nm average energy cid dp p per particle two case pauli block j e f cond p p account solid curve neglect cid dp dash curve case plasma oscillations de j eee ps velop due backreaction pair electric current pol p induce due charge particle acceleration elec factor include account electrons tric field particles overshoot thank inertia positrons maxwell equation become andchangethedirectionofthefield thisprocessrepeats de cid dp p ee damp oscillations due creation new pair e f clear pauli block take account dt p p e rate pair creation strongly suppress con cid dp cid cid pp mcidcid sequently oscillation frequency smaller particle fln exp pdp p qe average energy higher imply oscillations e nt rpair nt rein table result pairless initial state dampedonalongertimescale wealsoillustrateinfig phase space evolution select initial electric field strengths compare upper lower figure different initial electric field find pair producedwithzeroparallelmomentumandwithorthog onal momentum value p e pair create accelerate direction parallel electric field hence distribute parallel momentum p rather uniformly degree degeneracyisdifferentthelargerelectricfieldthehigher compare leave right columns fig find electric field vanish particles gainingpositivep whileafterthismomentparticlesare direct towards negative p process particle motion electric field continue create new pair par ticle density higher negative p positive p right column next study pair creation process function initial electric field e dimensionless energy den sity electric field r ea pair e r r vacuum initial state en pair ergy conservation give r r r amount e pair ein energy transfer pair determine r r r r intableiwesummarizesome pair ein e ein characteristic quantities pair creation process vacuum depend initial electric field e time moment electric field vanish first time nt positron density average energy moment time moment f increase value nt positron density average energy moment r r pair ein relative fraction energy transfer pair moment main result increase ini tial electric field frequency oscillations pair density monotonically increase average energy per particle first decrease start e c crease see e e distribution c function pair overcome value mo mentt andwedonotreportthequantitiesatt pauli block operate way f reach average energy per particle moment mono tonically increase particles occupy orthogonal momentum space n ce e fig time evolution electric field e positron number density n average energy per particle e e c pauliblockingfactorincludedonsolidcurveandexcludedon dash curve iv nonvacuum initial state present result simulations non vacuum initial state statistical factor f equations play crucial role interaction electric field pair initial condition f pair creation electric field lead increase particle number density damp os cillations effect well describe literature see eg contrary f statistical factor come negative imply negative source term equation also opposite sign polarization current equation condition verse schwinger process namely pair annihilation ex ternal electric field takesplace quantumelectrodynam log dnn fig positron distribution function f first oscil lation two time moments electric field equal zero leave column electric field acquire local minimum rightcolumn upperrowcorrespondtoe e lower c row correspond e e c icspredictsthattherateoftheinverseschwingerprocess fig relative change pair number oscillation periodsdependingoninitialelectricfieldstrengthandplasma isequaltotherateofthedirectone thiseffectisclearly temperature wealsoindicateenergydensityofelectricfield absentinvacuumandtoourknowledgeitisnotdiscussed pair black line correspond equality r r literature far pair e chemical potential zero interest effect quantum degen eracy explore influence particle distribution phase space dynamics pair electric field pair dominate region schwinger process electronpositron pair initial state assume suppress plasma keep oscillate relativistic obey fermidirac statistics cid plasma frequency initial condi p pair cid cid cid cid tionsareintheelectricfielddominatedregionblackline pu f e fig field accelerate particles much stronger aselectricfielddragsparticlesoutfromtheregionp tm dimensionless temperature u thephasespaceopensupandpaircreationbecomespos umisdimensionlesschemicalpotential notethatequi sible librium distribution relativistic temperature ingeneralbothtemperatureandchemicalpotentialin u correspond f fully degenerate nonzero interest influence distribution correspond f ofparticledistributionfunctionontheschwingerprocess weconsidertwotypesofinitialconditions thosewiththe energy density number nonvacuum initial state f density first choice correspond point diagram fig different parameters section consider initial distribution func distribution function second choice allow tion pair f first treat case exploration role heat fact number distribution u fig show rel density keep constant temperature increase ative number pair produce three oscillations theaverageenergy perparticle increase ondiagram depend initial electric field pair temperature fig represent shift right dynamics case qualitatively similar fig show relative number pair case vacuum initial state discuss initial number density nm different fig itisclearthatinelectricenergydominationregion initial energy density rm blue curve aboveblacklinepairproductionisefficient conversely rm orange curve evolve initial electric pair energy domination region black line field e e pair initial distributions show c pair production suppress expect inset pair creation small case pm f nn ni log dnn fig time evolution pair number density initial electric field e e two different initial pair state c blue utorange utinseta correspond initial distribution function clearly increase initial condition higher energy density demonstrate effect heat ini tiallypresentplasmaontothepaircreationprocess resultisthatdespitetheenergydensityofpairsincreases duetoheatingandhenceinitialconditionsshiftontothe pairdominatedregioninfig disfavoringpaircreation fig absolute value relative change pair theeffectoftheopeningupofthephasespaceduetothe number oscillation periods depend initial elec change distribution function prevail pair cre tric field strength plasma chemical potential also ation become enhance indicate energy density electric field pair black line correspond equality r r red line correspond pair e transition pair creation line pair annihi lation line convenience plot fermi b nonvacuum initial state f momentum p instead chemical potential tempera f ture zero inthissectionweconsiderinitialdistributionfunction pair fig show abso lute value change relative number pair three oscillations depend initial electric field pairchemicalpotentialorequivalentlyfermimomentum p contrast previous case f f statistical factor equations become negative imply particle annihilation external electric field time evolution number density pair increase red line decrease naivelyonecouldexpectthatpairannihilationwould result amplification electric field process op posite pair creation field depletion show fig however direct analogy process diminish number pair hence rest mass energy lead increase energy den sity electric field increase internal energy pair electric field accelerate particles redistribute momentum space possibility use inverse schwinger process enhance electric field fig present distribution function fig distribution function electronpositron pair oscillationswithe e andinitialdistributionwith fp p oscillations note different scale c u momentumaxes itisevidentthatpairannihilationleads todepletionofthedistributionfunctiononlyforsmallp source term significant larger p source term negligible source term largest absolute value red line fig impose limit effect pair annihilation energy density electric field exceed much energy density pair word effect enhance increase initial electric field thisleadsalsotoincreaseofthefermimomentuminini tial distribution function thus reduce part distribution affect pair annihilation e e c n nd ni fig relativechangeofpairnumberafteroscillationsas functionofelectricfieldstrengthwheninitialelectricfielden ergyequalsinitialpairenergy bluecurvecorrespondtofully degenerate pair orange curve correspond u pm f nn ni first case correspond f lead pair creation second case represent initial condi tions f lead pair annihilation case show saturation large electric field initial condition represent fig locate black line fig fig present time evolution pair number density e e initial pair number c density n three different initial pair state u r u r u r inset fig illustrate distribution function fortheseinitialconditions ascanbeseenonlythecase smallest chemical potential correspond f pair create two case pair annihilate time v conclusions ourmainresultinthisworkisthedemonstrationhow quantum exclusion principle suppress pair creation overcritical uniform electric field turn modi fies back reaction dynamics study electron positron pair creation oscillations initial vac uum state well electronpositron plasma ini tially present two case distinguish theenergyinelectricfielddominatesthatinpairsoscilla tionsareinducedwhichleadstoopeningupofthephase spaceandconsequentprolificpaircreation intheop posite case pair dominate energetically elec tric field plasma oscillations occur much higher frequency since electric field unable displace significantly momentum space consequence pair creation remain strongly suppress also consider effect inverse schwinger process namely annihilation pair external electric field statistical factor become negative de spite naive expectation pair annihilation could lead toamplificationofelectricfieldwefoundthatthisisnot thecaseevenforthelimitingcaseofcompletelydegener eat initial distribution function despite number pair may significantly decrease backreaction pair electric field lead transformation rest mass energy internal energy energy electric field wefoundthatplasmaheatingleadstoenhancementof fig time evolution pair number density initial pair creation effect may relevant astrophys electricfielde e andthreedifferentinitialpairstates c blue u orange u green ical model quark star neutron star strong utinseta thecorrespondinginitialdistribu electric field surface tion function paper submit publication learn similar work publish fig show change relative num use different formalism author publication ber pair three oscillations function initial reach similar conclusions result consis electric field two case initial energy tent however appear look density pair pair zero chemical potential evidence inverse schwinger process relativistic temperature orange curve fully degen acknowledgements work support within erate pair zero temperature blue curve clearly thejointbrffricranetfundingprogrammeun der grant ficr grateful schwinger process also appreciate comment alexander fedotov discussions inverse anonymous referee allow improve paper j schwinger gauge invariance vacuum polar pair plasma generate strong electric field physics ization phys rev june letter b march fsauter uberdasverhalteneineselektronsimhomo g gatoff k kerman matsui fluxtube genenelektrischenfeldnachderrelativistischentheorie model ultrarelativistic heavyion collisions electro diracs zeits phys june hydrodynamics quarkgluon plasma phys rev p dirac quantum theory electron july royal society london proceed series abenedettirruffiniandgvvereshchagin phase space evolution pair create strong electric field p dirac quantise singularities electro physics letter january magneticfield royalsocietyoflondonproceedingsse jcrblochvamizernyavprozorkevichcd ries roberts schmidt smolyansky v di piazza c muller k z hatsagortsyan vinnik pair creation back reactions damp c h keitel extremely highintensity laser interactions phys rev december fundamental quantum systems review modern agaksenovrruffiniandgvvereshchaginther physics july malization nonequilibrium electronpositronphoton afedotovaildertonfkarbsteinbkingdseipt plasmas phys rev lett september h taya g torgrimsson advance qed intense background field arxiv eprints page evgorbaraimomotoosobolandsivilchin arxiv february skii kinetic approach schwinger effect r ruffini gv vereshchagin ss xue electron flation phys rev december positron pair physics astrophysics physics antonio ferreiro jose navarrosalas silvia pla port role gravity pair creation induce electric afedotovaildertonfkarbsteinbkingdseipt field phys rev august h taya g torgrimsson advance qed christian kohlfurst naser ahmadiniaz johannes oer intense background field physics report tel ralf schutzhold sauterschwinger effect april collidinglaserpulses physrevlett yklugerjmeisenbergbsvetitskyfcooperand december e mottola pair production strong electric field gregor fauth jurgen berges antonino di piazza phys rev lett october collisional strongfield qed kinetic equations first yklugerjmeisenbergbsvetitskyfcooperand principles phys rev august emottola fermionpairproductioninastrongelectric r z jiang c gong z l li j li backre field phys rev june action effect plasma oscillation pair production kluger e mottola j eisenberg quantum forrapidlyoscillatingelectricfields arxiv eprintspage vlasov equation markov limit phys rev arxiv january december adolfo huet sing pyo kim christian schubert schmidt blaschke g ropke smolyansky vlasovequationforschwingerpairproductioninatime v prozorkevich v toneev quantum ki dependent electric field phys rev netic equation particle production schwinger december mechanism international journal modern physics e g sevostyanov aleksandrov g plunien january v shabaev total yield electronpositron pair schmidt blaschke g ropke v prozorkevich produce vacuum strong electromagnetic field smolyansky v toneev nonmarkovian validityofthelocallyconstantfieldapproximationphys effect strongfield pair creation phys rev rev october may maprakapeniaiasiutsouandgvvereshchagin yusuke nishida full count statistics schwinger thermalization electronpositron plasma quan pair production annihilation phys rev tumdegeneracy physicslettersajan l august uary ivan aleksandrov denis g sevostyanov maprakapeniaandgvvereshchaginpauliblocking vladimir shabaev particle production strong effect thermalization relativistic plasma physics electromagneticfieldsandlocalapproximations sym letter september metry november gregory vereshchagin mikalai prakapenia kinet r ruffini g v vereshchagin ss xue vac ics degenerate electronpositron plasmas universe uum polarization plasma oscillations phys lett september november vvusovbarequarkmattersurfacesofstrangestars benedetti wb han r ruffini g v ee emission phys rev lett jan vereshchagin frequency oscillations uary riccardo belvedere daniela pugliese jorge rueda tions nuclear physics june remoruffiniandsheshengxue neutronstarequilib gert brodin haidar alnaseri jens zamanian greger riumconfigurationswithinafullyrelativistictheorywith torgrimsson bengt eliasson plasma dynamics strongweakelectromagneticandgravitationalinterac schwinger limit beyond phys rev e march'"
      ]
     },
     "execution_count": 94,
     "metadata": {},
     "output_type": "execute_result"
    }
   ],
   "source": [
    "df.clean_body[0]"
   ]
  },
  {
   "cell_type": "code",
   "execution_count": 95,
   "id": "a3553309",
   "metadata": {},
   "outputs": [
    {
     "data": {
      "image/png": "[encoded data removed]",
      "text/plain": [
       "<Figure size 640x480 with 1 Axes>"
      ]
     },
     "metadata": {},
     "output_type": "display_data"
    }
   ],
   "source": [
    "sns.histplot(df['word_count'], kde=True)"
   ]
  },
  {
   "cell_type": "code",
   "execution_count": 96,
   "id": "71ae8b48",
   "metadata": {},
   "outputs": [
    {
     "data": {
      "text/html": [
       "<div>\n",
       "<style scoped>\n",
       "    .dataframe tbody tr th:only-of-type {\n",
       "        vertical-align: middle;\n",
       "    }\n",
       "\n",
       "    .dataframe tbody tr th {\n",
       "        vertical-align: top;\n",
       "    }\n",
       "\n",
       "    .dataframe thead th {\n",
       "        text-align: right;\n",
       "    }\n",
       "</style>\n",
       "<table border=\"1\" class=\"dataframe\">\n",
       "  <thead>\n",
       "    <tr style=\"text-align: right;\">\n",
       "      <th></th>\n",
       "      <th>arxiv-id</th>\n",
       "      <th>Published</th>\n",
       "      <th>Title</th>\n",
       "      <th>Author</th>\n",
       "      <th>Journal reference</th>\n",
       "      <th>Comments</th>\n",
       "      <th>Primary Category</th>\n",
       "      <th>All Categories</th>\n",
       "      <th>Abstract</th>\n",
       "      <th>Main Body</th>\n",
       "      <th>Word Count</th>\n",
       "      <th>PDF Link</th>\n",
       "      <th>Label</th>\n",
       "      <th>clean_body</th>\n",
       "      <th>word_count</th>\n",
       "      <th>clean_authors</th>\n",
       "    </tr>\n",
       "  </thead>\n",
       "  <tbody>\n",
       "    <tr>\n",
       "      <th>0</th>\n",
       "      <td>2306.12956v1</td>\n",
       "      <td>2023-06-22T15:15:44Z</td>\n",
       "      <td>Pauli blocking effects on pair creation in str...</td>\n",
       "      <td>Mikalai Prakapenia|Gregory Vereshchagin</td>\n",
       "      <td>Phys Rev D 108 013002 (2023)</td>\n",
       "      <td>Accepted for publication in Physical Review D</td>\n",
       "      <td>physics.plasm-ph</td>\n",
       "      <td>physics.plasm-ph|astro-ph.CO|astro-ph.HE</td>\n",
       "      <td>The process of electron-positron pair creation...</td>\n",
       "      <td>Pauli blocking effects on pair creation in str...</td>\n",
       "      <td>4153</td>\n",
       "      <td>http://arxiv.org/pdf/2306.12956v1</td>\n",
       "      <td>0</td>\n",
       "      <td>pauli block effect pair creation strong electr...</td>\n",
       "      <td>2546</td>\n",
       "      <td>Mikalai Prakapenia, Gregory Vereshchagin</td>\n",
       "    </tr>\n",
       "    <tr>\n",
       "      <th>1</th>\n",
       "      <td>2111.04524v1</td>\n",
       "      <td>2021-11-08T14:15:50Z</td>\n",
       "      <td>Beyond Participation: A Review of Co-Creation ...</td>\n",
       "      <td>Juliane Jarke|Gabriela Molina León|Irina Zakha...</td>\n",
       "      <td>No journal ref found</td>\n",
       "      <td>ZeMKI Working Paper No 39 ZeMKI - Centre for M...</td>\n",
       "      <td>cs.HC</td>\n",
       "      <td>cs.HC|cs.CY</td>\n",
       "      <td>New methods and technologies for engaging futu...</td>\n",
       "      <td>ZeMKI Working PaperNo 39\\nISSN 23672277\\nJulia...</td>\n",
       "      <td>10945</td>\n",
       "      <td>http://arxiv.org/pdf/2111.04524v1</td>\n",
       "      <td>0</td>\n",
       "      <td>zemki work paperno issn juliane jarke gabriela...</td>\n",
       "      <td>6625</td>\n",
       "      <td>Juliane Jarke, Gabriela Molina León, Irina Zak...</td>\n",
       "    </tr>\n",
       "    <tr>\n",
       "      <th>2</th>\n",
       "      <td>1511.07709v2</td>\n",
       "      <td>2015-11-24T14:05:15Z</td>\n",
       "      <td>Multi-pair states in electron-positron pair cr...</td>\n",
       "      <td>Anton Wöllert|Heiko Bauke|Christoph H Keitel</td>\n",
       "      <td>Physics Letters B vol 760 pages 552-557 (2016)</td>\n",
       "      <td>No comment found</td>\n",
       "      <td>quant-ph</td>\n",
       "      <td>quant-ph</td>\n",
       "      <td>Ultra strong electromagnetic fields can lead t...</td>\n",
       "      <td>Multipair states in electronpositron pair crea...</td>\n",
       "      <td>2312</td>\n",
       "      <td>http://arxiv.org/pdf/1511.07709v2</td>\n",
       "      <td>0</td>\n",
       "      <td>multipair state electronpositron pair creation...</td>\n",
       "      <td>1710</td>\n",
       "      <td>Anton Wöllert, Heiko Bauke, Christoph H Keitel</td>\n",
       "    </tr>\n",
       "    <tr>\n",
       "      <th>3</th>\n",
       "      <td>physics/0511116v1</td>\n",
       "      <td>2005-11-13T23:24:08Z</td>\n",
       "      <td>Universe creation on a computer</td>\n",
       "      <td>Gordon McCabe</td>\n",
       "      <td>StudHistPhilosModPhys36:591-6252005</td>\n",
       "      <td>No comment found</td>\n",
       "      <td>physics.gen-ph</td>\n",
       "      <td>physics.gen-ph</td>\n",
       "      <td>The purpose of this paper is to provide an acc...</td>\n",
       "      <td>5002\\nvoN\\n31\\nhpnegscisyhp\\n1v6111150scisyhpv...</td>\n",
       "      <td>14478</td>\n",
       "      <td>http://arxiv.org/pdf/physics/0511116v1</td>\n",
       "      <td>0</td>\n",
       "      <td>von hpnegscisyhp vscisyhpvixra universe creati...</td>\n",
       "      <td>7958</td>\n",
       "      <td>Gordon McCabe</td>\n",
       "    </tr>\n",
       "    <tr>\n",
       "      <th>4</th>\n",
       "      <td>2304.10462v3</td>\n",
       "      <td>2023-04-20T17:08:04Z</td>\n",
       "      <td>Creation and annihilation operators for 2D non...</td>\n",
       "      <td>Nicetu Tibau Vidal|Lucia Vilchez-Estevez</td>\n",
       "      <td>No journal ref found</td>\n",
       "      <td>9+5 pages 18 figures</td>\n",
       "      <td>quant-ph</td>\n",
       "      <td>quant-ph|cond-mat.str-el</td>\n",
       "      <td>We define creation and annihilation operators ...</td>\n",
       "      <td>Creation and annihilation operators for 2D non...</td>\n",
       "      <td>8409</td>\n",
       "      <td>http://arxiv.org/pdf/2304.10462v3</td>\n",
       "      <td>0</td>\n",
       "      <td>creation annihilation operators nonabelian any...</td>\n",
       "      <td>4756</td>\n",
       "      <td>Nicetu Tibau Vidal, Lucia Vilchez-Estevez</td>\n",
       "    </tr>\n",
       "  </tbody>\n",
       "</table>\n",
       "</div>"
      ],
      "text/plain": [
       "            arxiv-id             Published  \\\n",
       "0       2306.12956v1  2023-06-22T15:15:44Z   \n",
       "1       2111.04524v1  2021-11-08T14:15:50Z   \n",
       "2       1511.07709v2  2015-11-24T14:05:15Z   \n",
       "3  physics/0511116v1  2005-11-13T23:24:08Z   \n",
       "4       2304.10462v3  2023-04-20T17:08:04Z   \n",
       "\n",
       "                                               Title  \\\n",
       "0  Pauli blocking effects on pair creation in str...   \n",
       "1  Beyond Participation: A Review of Co-Creation ...   \n",
       "2  Multi-pair states in electron-positron pair cr...   \n",
       "3                    Universe creation on a computer   \n",
       "4  Creation and annihilation operators for 2D non...   \n",
       "\n",
       "                                              Author  \\\n",
       "0            Mikalai Prakapenia|Gregory Vereshchagin   \n",
       "1  Juliane Jarke|Gabriela Molina León|Irina Zakha...   \n",
       "2       Anton Wöllert|Heiko Bauke|Christoph H Keitel   \n",
       "3                                      Gordon McCabe   \n",
       "4           Nicetu Tibau Vidal|Lucia Vilchez-Estevez   \n",
       "\n",
       "                                Journal reference  \\\n",
       "0                    Phys Rev D 108 013002 (2023)   \n",
       "1                            No journal ref found   \n",
       "2  Physics Letters B vol 760 pages 552-557 (2016)   \n",
       "3             StudHistPhilosModPhys36:591-6252005   \n",
       "4                            No journal ref found   \n",
       "\n",
       "                                            Comments  Primary Category  \\\n",
       "0      Accepted for publication in Physical Review D  physics.plasm-ph   \n",
       "1  ZeMKI Working Paper No 39 ZeMKI - Centre for M...             cs.HC   \n",
       "2                                   No comment found          quant-ph   \n",
       "3                                   No comment found    physics.gen-ph   \n",
       "4                               9+5 pages 18 figures          quant-ph   \n",
       "\n",
       "                             All Categories  \\\n",
       "0  physics.plasm-ph|astro-ph.CO|astro-ph.HE   \n",
       "1                               cs.HC|cs.CY   \n",
       "2                                  quant-ph   \n",
       "3                            physics.gen-ph   \n",
       "4                  quant-ph|cond-mat.str-el   \n",
       "\n",
       "                                            Abstract  \\\n",
       "0  The process of electron-positron pair creation...   \n",
       "1  New methods and technologies for engaging futu...   \n",
       "2  Ultra strong electromagnetic fields can lead t...   \n",
       "3  The purpose of this paper is to provide an acc...   \n",
       "4  We define creation and annihilation operators ...   \n",
       "\n",
       "                                           Main Body  Word Count  \\\n",
       "0  Pauli blocking effects on pair creation in str...        4153   \n",
       "1  ZeMKI Working PaperNo 39\\nISSN 23672277\\nJulia...       10945   \n",
       "2  Multipair states in electronpositron pair crea...        2312   \n",
       "3  5002\\nvoN\\n31\\nhpnegscisyhp\\n1v6111150scisyhpv...       14478   \n",
       "4  Creation and annihilation operators for 2D non...        8409   \n",
       "\n",
       "                                 PDF Link  Label  \\\n",
       "0       http://arxiv.org/pdf/2306.12956v1      0   \n",
       "1       http://arxiv.org/pdf/2111.04524v1      0   \n",
       "2       http://arxiv.org/pdf/1511.07709v2      0   \n",
       "3  http://arxiv.org/pdf/physics/0511116v1      0   \n",
       "4       http://arxiv.org/pdf/2304.10462v3      0   \n",
       "\n",
       "                                          clean_body  word_count  \\\n",
       "0  pauli block effect pair creation strong electr...        2546   \n",
       "1  zemki work paperno issn juliane jarke gabriela...        6625   \n",
       "2  multipair state electronpositron pair creation...        1710   \n",
       "3  von hpnegscisyhp vscisyhpvixra universe creati...        7958   \n",
       "4  creation annihilation operators nonabelian any...        4756   \n",
       "\n",
       "                                       clean_authors  \n",
       "0           Mikalai Prakapenia, Gregory Vereshchagin  \n",
       "1  Juliane Jarke, Gabriela Molina León, Irina Zak...  \n",
       "2     Anton Wöllert, Heiko Bauke, Christoph H Keitel  \n",
       "3                                      Gordon McCabe  \n",
       "4          Nicetu Tibau Vidal, Lucia Vilchez-Estevez  "
      ]
     },
     "execution_count": 96,
     "metadata": {},
     "output_type": "execute_result"
    }
   ],
   "source": [
    "# How many words is optimal? 1500? in this case maybe 5000?\n",
    "df.head()"
   ]
  },
  {
   "cell_type": "code",
   "execution_count": 102,
   "id": "1240dc62",
   "metadata": {},
   "outputs": [
    {
     "data": {
      "text/plain": [
       "array(['physics.plasm-ph', 'cs.HC', 'quant-ph', 'physics.gen-ph',\n",
       "       'hep-ph', 'hep-th', 'hep-lat', 'gr-qc', 'cond-mat.stat-mech',\n",
       "       'cs.GT', 'astro-ph', 'math.AG', 'physics.soc-ph', 'nucl-th',\n",
       "       'math.AP', 'cs.CL', 'astro-ph.HE', 'math-ph', 'q-alg', 'math.CT',\n",
       "       'cs.SI', 'cond-mat.quant-gas', 'astro-ph.CO', 'cs.OH', 'math.CO',\n",
       "       'cs.CY', 'physics.bio-ph', 'q-bio.MN', 'cs.CR', 'econ.GN', 'cs.GR',\n",
       "       'cond-mat.supr-con', 'nlin.SI', 'math.NT', 'physics.atom-ph',\n",
       "       'math.RT', 'cond-mat.mes-hall', 'physics.optics', 'cs.LG',\n",
       "       'cond-mat.str-el', 'math.OC', 'cond-mat', 'cond-mat.soft',\n",
       "       'q-fin.EC', 'cs.DL', 'chao-dyn', 'math.GM', 'q-fin.GN', 'cs.IR',\n",
       "       'physics.class-ph', 'math.RA', 'physics.ed-ph', 'cs.AI', 'cs.CV',\n",
       "       'cs.SE', 'cs.LO', 'cond-mat.mtrl-sci', 'cs.SD', 'cs.NI', 'hep-ex',\n",
       "       'physics.hist-ph', 'physics.pop-ph', 'astro-ph.SR', 'astro-ph.IM',\n",
       "       'q-fin.ST', 'math.QA', 'physics.chem-ph', 'cond-mat.other',\n",
       "       'physics.comp-ph', 'physics.flu-dyn', 'physics.ins-det',\n",
       "       'physics.app-ph', 'physics.acc-ph', 'q-bio.BM', 'physics.ao-ph',\n",
       "       'nucl-ex', 'math.NA', 'cs.CG', 'cond-mat.dis-nn', 'nlin.PS',\n",
       "       'math.PR', 'astro-ph.EP', 'physics.geo-ph', 'math.FA', 'math.AT',\n",
       "       'cs.AR', 'q-bio.QM', 'math.MG', 'cs.DC', 'math.DS', 'astro-ph.GA',\n",
       "       'cs.RO', 'q-bio.PE', 'q-bio.OT', 'q-bio.NC', 'eess.IV', 'eess.AS',\n",
       "       'cs.IT', 'physics.med-ph', 'math.CA', 'q-bio.TO',\n",
       "       'physics.space-ph', 'math.GT', 'math.SG', 'patt-sol', 'supr-con',\n",
       "       'math.DG', 'stat.OT', 'stat.ME', 'stat.AP', 'cs.DB', 'stat.ML',\n",
       "       'adap-org', 'math.ST', 'q-bio.CB', 'stat.CO', 'q-bio.SC',\n",
       "       'q-bio.GN', 'econ.TH', 'eess.SP', 'cs.CE', 'cs.NE',\n",
       "       'physics.data-an', 'math.GR', 'cs.DS', 'cs.NA', 'cs.MM', 'econ.EM',\n",
       "       'math.LO', 'q-fin.PR', 'eess.SY', 'nlin.AO', 'math.AC', 'nlin.CD',\n",
       "       'q-fin.MF', 'math.CV', 'math.HO', 'math.OA', 'math.SP', 'cs.PL',\n",
       "       'cs.MA', 'cs.CC', 'q-fin.RM', 'comp-gas'], dtype=object)"
      ]
     },
     "execution_count": 102,
     "metadata": {},
     "output_type": "execute_result"
    }
   ],
   "source": [
    "df['Primary Category'].unique()"
   ]
  },
  {
   "cell_type": "code",
   "execution_count": null,
   "id": "21b9397e",
   "metadata": {},
   "outputs": [],
   "source": []
  }
 ],
 "metadata": {
  "kernelspec": {
   "display_name": "Python 3 (ipykernel)",
   "language": "python",
   "name": "python3"
  },
  "language_info": {
   "codemirror_mode": {
    "name": "ipython",
    "version": 3
   },
   "file_extension": ".py",
   "mimetype": "text/x-python",
   "name": "python",
   "nbconvert_exporter": "python",
   "pygments_lexer": "ipython3",
   "version": "3.10.6"
  }
 },
 "nbformat": 4,
 "nbformat_minor": 5
}
