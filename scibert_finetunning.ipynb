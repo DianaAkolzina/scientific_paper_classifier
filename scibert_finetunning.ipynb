{
  "nbformat": 4,
  "nbformat_minor": 0,
  "metadata": {
    "colab": {
      "provenance": [],
      "gpuType": "A100",
      "mount_file_id": "1fL4utBjpEsjxfcc5_diKe1df8u98oHn6",
      "authorship_tag": "ABX9TyPQy5iSTSy19n/V9QwVBibS",
      "include_colab_link": true
    },
    "kernelspec": {
      "name": "python3",
      "display_name": "Python 3"
    },
    "language_info": {
      "name": "python"
    },
    "accelerator": "GPU",
    "widgets": {
      "application/vnd.jupyter.widget-state+json": {
        "6fdce86ca97d4e33aa97068889ead9af": {
          "model_module": "@jupyter-widgets/controls",
          "model_name": "HBoxModel",
          "model_module_version": "1.5.0",
          "state": {
            "_dom_classes": [],
            "_model_module": "@jupyter-widgets/controls",
            "_model_module_version": "1.5.0",
            "_model_name": "HBoxModel",
            "_view_count": null,
            "_view_module": "@jupyter-widgets/controls",
            "_view_module_version": "1.5.0",
            "_view_name": "HBoxView",
            "box_style": "",
            "children": [
              "IPY_MODEL_93b3e1755f0a4d8bb281a57e3bb1c758",
              "IPY_MODEL_ba883f6d68374956beebe8e7a09bbd6a",
              "IPY_MODEL_37056925d0f544019c0f9d0d79ca78d5"
            ],
            "layout": "IPY_MODEL_99a59b15fcd344a99f1bffadef49c616"
          }
        },
        "93b3e1755f0a4d8bb281a57e3bb1c758": {
          "model_module": "@jupyter-widgets/controls",
          "model_name": "HTMLModel",
          "model_module_version": "1.5.0",
          "state": {
            "_dom_classes": [],
            "_model_module": "@jupyter-widgets/controls",
            "_model_module_version": "1.5.0",
            "_model_name": "HTMLModel",
            "_view_count": null,
            "_view_module": "@jupyter-widgets/controls",
            "_view_module_version": "1.5.0",
            "_view_name": "HTMLView",
            "description": "",
            "description_tooltip": null,
            "layout": "IPY_MODEL_951d14ab1eb54ebeb708287d14fd73fc",
            "placeholder": "​",
            "style": "IPY_MODEL_996c4322359a4f748ae6b5f37f919734",
            "value": "pytorch_model.bin: 100%"
          }
        },
        "ba883f6d68374956beebe8e7a09bbd6a": {
          "model_module": "@jupyter-widgets/controls",
          "model_name": "FloatProgressModel",
          "model_module_version": "1.5.0",
          "state": {
            "_dom_classes": [],
            "_model_module": "@jupyter-widgets/controls",
            "_model_module_version": "1.5.0",
            "_model_name": "FloatProgressModel",
            "_view_count": null,
            "_view_module": "@jupyter-widgets/controls",
            "_view_module_version": "1.5.0",
            "_view_name": "ProgressView",
            "bar_style": "success",
            "description": "",
            "description_tooltip": null,
            "layout": "IPY_MODEL_2770821036014135b5188bac0f9cb717",
            "max": 442221694,
            "min": 0,
            "orientation": "horizontal",
            "style": "IPY_MODEL_228d82324ead4faca3a8f78b24792998",
            "value": 442221694
          }
        },
        "37056925d0f544019c0f9d0d79ca78d5": {
          "model_module": "@jupyter-widgets/controls",
          "model_name": "HTMLModel",
          "model_module_version": "1.5.0",
          "state": {
            "_dom_classes": [],
            "_model_module": "@jupyter-widgets/controls",
            "_model_module_version": "1.5.0",
            "_model_name": "HTMLModel",
            "_view_count": null,
            "_view_module": "@jupyter-widgets/controls",
            "_view_module_version": "1.5.0",
            "_view_name": "HTMLView",
            "description": "",
            "description_tooltip": null,
            "layout": "IPY_MODEL_1f5a71c73b68475f90b107e1ff8e7d26",
            "placeholder": "​",
            "style": "IPY_MODEL_d6b9066b6d9547fcb69fc74b21ef0a48",
            "value": " 442M/442M [00:02&lt;00:00, 200MB/s]"
          }
        },
        "99a59b15fcd344a99f1bffadef49c616": {
          "model_module": "@jupyter-widgets/base",
          "model_name": "LayoutModel",
          "model_module_version": "1.2.0",
          "state": {
            "_model_module": "@jupyter-widgets/base",
            "_model_module_version": "1.2.0",
            "_model_name": "LayoutModel",
            "_view_count": null,
            "_view_module": "@jupyter-widgets/base",
            "_view_module_version": "1.2.0",
            "_view_name": "LayoutView",
            "align_content": null,
            "align_items": null,
            "align_self": null,
            "border": null,
            "bottom": null,
            "display": null,
            "flex": null,
            "flex_flow": null,
            "grid_area": null,
            "grid_auto_columns": null,
            "grid_auto_flow": null,
            "grid_auto_rows": null,
            "grid_column": null,
            "grid_gap": null,
            "grid_row": null,
            "grid_template_areas": null,
            "grid_template_columns": null,
            "grid_template_rows": null,
            "height": null,
            "justify_content": null,
            "justify_items": null,
            "left": null,
            "margin": null,
            "max_height": null,
            "max_width": null,
            "min_height": null,
            "min_width": null,
            "object_fit": null,
            "object_position": null,
            "order": null,
            "overflow": null,
            "overflow_x": null,
            "overflow_y": null,
            "padding": null,
            "right": null,
            "top": null,
            "visibility": null,
            "width": null
          }
        },
        "951d14ab1eb54ebeb708287d14fd73fc": {
          "model_module": "@jupyter-widgets/base",
          "model_name": "LayoutModel",
          "model_module_version": "1.2.0",
          "state": {
            "_model_module": "@jupyter-widgets/base",
            "_model_module_version": "1.2.0",
            "_model_name": "LayoutModel",
            "_view_count": null,
            "_view_module": "@jupyter-widgets/base",
            "_view_module_version": "1.2.0",
            "_view_name": "LayoutView",
            "align_content": null,
            "align_items": null,
            "align_self": null,
            "border": null,
            "bottom": null,
            "display": null,
            "flex": null,
            "flex_flow": null,
            "grid_area": null,
            "grid_auto_columns": null,
            "grid_auto_flow": null,
            "grid_auto_rows": null,
            "grid_column": null,
            "grid_gap": null,
            "grid_row": null,
            "grid_template_areas": null,
            "grid_template_columns": null,
            "grid_template_rows": null,
            "height": null,
            "justify_content": null,
            "justify_items": null,
            "left": null,
            "margin": null,
            "max_height": null,
            "max_width": null,
            "min_height": null,
            "min_width": null,
            "object_fit": null,
            "object_position": null,
            "order": null,
            "overflow": null,
            "overflow_x": null,
            "overflow_y": null,
            "padding": null,
            "right": null,
            "top": null,
            "visibility": null,
            "width": null
          }
        },
        "996c4322359a4f748ae6b5f37f919734": {
          "model_module": "@jupyter-widgets/controls",
          "model_name": "DescriptionStyleModel",
          "model_module_version": "1.5.0",
          "state": {
            "_model_module": "@jupyter-widgets/controls",
            "_model_module_version": "1.5.0",
            "_model_name": "DescriptionStyleModel",
            "_view_count": null,
            "_view_module": "@jupyter-widgets/base",
            "_view_module_version": "1.2.0",
            "_view_name": "StyleView",
            "description_width": ""
          }
        },
        "2770821036014135b5188bac0f9cb717": {
          "model_module": "@jupyter-widgets/base",
          "model_name": "LayoutModel",
          "model_module_version": "1.2.0",
          "state": {
            "_model_module": "@jupyter-widgets/base",
            "_model_module_version": "1.2.0",
            "_model_name": "LayoutModel",
            "_view_count": null,
            "_view_module": "@jupyter-widgets/base",
            "_view_module_version": "1.2.0",
            "_view_name": "LayoutView",
            "align_content": null,
            "align_items": null,
            "align_self": null,
            "border": null,
            "bottom": null,
            "display": null,
            "flex": null,
            "flex_flow": null,
            "grid_area": null,
            "grid_auto_columns": null,
            "grid_auto_flow": null,
            "grid_auto_rows": null,
            "grid_column": null,
            "grid_gap": null,
            "grid_row": null,
            "grid_template_areas": null,
            "grid_template_columns": null,
            "grid_template_rows": null,
            "height": null,
            "justify_content": null,
            "justify_items": null,
            "left": null,
            "margin": null,
            "max_height": null,
            "max_width": null,
            "min_height": null,
            "min_width": null,
            "object_fit": null,
            "object_position": null,
            "order": null,
            "overflow": null,
            "overflow_x": null,
            "overflow_y": null,
            "padding": null,
            "right": null,
            "top": null,
            "visibility": null,
            "width": null
          }
        },
        "228d82324ead4faca3a8f78b24792998": {
          "model_module": "@jupyter-widgets/controls",
          "model_name": "ProgressStyleModel",
          "model_module_version": "1.5.0",
          "state": {
            "_model_module": "@jupyter-widgets/controls",
            "_model_module_version": "1.5.0",
            "_model_name": "ProgressStyleModel",
            "_view_count": null,
            "_view_module": "@jupyter-widgets/base",
            "_view_module_version": "1.2.0",
            "_view_name": "StyleView",
            "bar_color": null,
            "description_width": ""
          }
        },
        "1f5a71c73b68475f90b107e1ff8e7d26": {
          "model_module": "@jupyter-widgets/base",
          "model_name": "LayoutModel",
          "model_module_version": "1.2.0",
          "state": {
            "_model_module": "@jupyter-widgets/base",
            "_model_module_version": "1.2.0",
            "_model_name": "LayoutModel",
            "_view_count": null,
            "_view_module": "@jupyter-widgets/base",
            "_view_module_version": "1.2.0",
            "_view_name": "LayoutView",
            "align_content": null,
            "align_items": null,
            "align_self": null,
            "border": null,
            "bottom": null,
            "display": null,
            "flex": null,
            "flex_flow": null,
            "grid_area": null,
            "grid_auto_columns": null,
            "grid_auto_flow": null,
            "grid_auto_rows": null,
            "grid_column": null,
            "grid_gap": null,
            "grid_row": null,
            "grid_template_areas": null,
            "grid_template_columns": null,
            "grid_template_rows": null,
            "height": null,
            "justify_content": null,
            "justify_items": null,
            "left": null,
            "margin": null,
            "max_height": null,
            "max_width": null,
            "min_height": null,
            "min_width": null,
            "object_fit": null,
            "object_position": null,
            "order": null,
            "overflow": null,
            "overflow_x": null,
            "overflow_y": null,
            "padding": null,
            "right": null,
            "top": null,
            "visibility": null,
            "width": null
          }
        },
        "d6b9066b6d9547fcb69fc74b21ef0a48": {
          "model_module": "@jupyter-widgets/controls",
          "model_name": "DescriptionStyleModel",
          "model_module_version": "1.5.0",
          "state": {
            "_model_module": "@jupyter-widgets/controls",
            "_model_module_version": "1.5.0",
            "_model_name": "DescriptionStyleModel",
            "_view_count": null,
            "_view_module": "@jupyter-widgets/base",
            "_view_module_version": "1.2.0",
            "_view_name": "StyleView",
            "description_width": ""
          }
        }
      }
    }
  },
  "cells": [
    {
      "cell_type": "markdown",
      "metadata": {
        "id": "view-in-github",
        "colab_type": "text"
      },
      "source": [
        "<a href=\"https://colab.research.google.com/github/DianaAkolzina/scientific_paper_classifier/blob/scibert/scibert_finetunning.ipynb\" target=\"_parent\"><img src=\"https://colab.research.google.com/assets/colab-badge.svg\" alt=\"Open In Colab\"/></a>"
      ]
    },
    {
      "cell_type": "code",
      "source": [
        "import os\n",
        "import pandas as pd\n",
        "import torch\n",
        "from sklearn.model_selection import train_test_split\n",
        "from sklearn.metrics import classification_report\n",
        "from transformers import BertTokenizer, BertForSequenceClassification, AdamW, get_linear_schedule_with_warmup\n",
        "from torch.utils.data import DataLoader, TensorDataset\n",
        "from tqdm import tqdm\n",
        "from google.cloud import bigquery\n",
        "import numpy as np\n",
        "import logging\n",
        "from torch.utils.tensorboard import SummaryWriter\n",
        "from transformers.trainer_utils import EvalPrediction\n",
        "from transformers import EarlyStoppingCallback\n",
        "from google.colab import auth\n",
        "import torch.nn as nn"
      ],
      "metadata": {
        "id": "g6peTBhsq9XG"
      },
      "execution_count": null,
      "outputs": []
    },
    {
      "cell_type": "code",
      "source": [
        "logging.basicConfig(level=logging.INFO, format='%(asctime)s - %(levelname)s - %(message)s')\n",
        "\n",
        "device = torch.device(\"cuda\" if torch.cuda.is_available() else \"cpu\")\n",
        "logging.info(f\"Using device: {device}\")\n",
        "\n",
        "auth.authenticate_user()\n",
        "project_id = \"scientific-paper-classifier\"\n",
        "client = bigquery.Client(project=project_id)"
      ],
      "metadata": {
        "id": "L7NxD_pd0tQa"
      },
      "execution_count": null,
      "outputs": []
    },
    {
      "cell_type": "code",
      "source": [
        "query = \"\"\"\n",
        "SELECT Processed_Text,  Label\n",
        "FROM data_train.processed_text_10000\n",
        "\"\"\"\n",
        "df = client.query(query).to_dataframe()\n",
        "logging.info(f\"Retrieved {len(df)} rows from BigQuery\")"
      ],
      "metadata": {
        "id": "RYbrsWnnrCe6"
      },
      "execution_count": null,
      "outputs": []
    },
    {
      "cell_type": "code",
      "source": [
        "# Data Preprocessing and Balancing\n",
        "text_column = 'Processed_Text'\n",
        "label_column = 'Label'\n",
        "\n",
        "combined_df = df\n",
        "combined_df.reset_index(drop=True, inplace=True)\n",
        "combined_df['Label'] = combined_df['Label'].astype('category')\n",
        "logging.info(f\"Preprocessed data: {combined_df.shape}\")\n",
        "\n",
        "label_counts = combined_df['Label'].value_counts()\n",
        "min_category_size = label_counts.min()\n",
        "balanced_df = pd.concat([\n",
        "    combined_df[combined_df['Label'] == label].sample(n=min_category_size, random_state=42)\n",
        "    for label in combined_df['Label'].cat.categories\n",
        "])\n",
        "balanced_df = balanced_df.sample(frac=1, random_state=42).reset_index(drop=True)\n",
        "logging.info(f\"Balanced dataset: {balanced_df.shape}\")\n",
        "\n",
        "X = balanced_df['Processed_Text']\n",
        "y = balanced_df['Label']\n",
        "\n",
        "X_train, X_test, y_train, y_test = train_test_split(X, y, test_size=0.2, random_state=42)\n",
        "logging.info(f\"Train size: {len(X_train)}, Test size: {len(X_test)}\")"
      ],
      "metadata": {
        "id": "RJSnYTqNrOn6"
      },
      "execution_count": null,
      "outputs": []
    },
    {
      "cell_type": "code",
      "source": [
        "# Tokenization and Dataset Creation\n",
        "tokenizer = BertTokenizer.from_pretrained('allenai/scibert_scivocab_uncased', do_lower_case=True)\n",
        "\n",
        "max_length = 256\n",
        "batch_size = 32\n",
        "\n",
        "def tokenize_data(texts, labels):\n",
        "    input_ids = []\n",
        "    attention_masks = []\n",
        "\n",
        "    for text in texts:\n",
        "        encoded_dict = tokenizer.encode_plus(\n",
        "                            text,\n",
        "                            add_special_tokens=True,\n",
        "                            max_length=max_length,\n",
        "                            padding='max_length',\n",
        "                            truncation=True,\n",
        "                            return_attention_mask=True,\n",
        "                            return_tensors='pt'\n",
        "                       )\n",
        "        input_ids.append(encoded_dict['input_ids'])\n",
        "        attention_masks.append(encoded_dict['attention_mask'])\n",
        "\n",
        "    input_ids = torch.cat(input_ids, dim=0)\n",
        "    attention_masks = torch.cat(attention_masks, dim=0)\n",
        "    labels = torch.tensor(labels.tolist())\n",
        "\n",
        "    return TensorDataset(input_ids, attention_masks, labels)\n",
        "\n",
        "train_dataset = tokenize_data(X_train, y_train)\n",
        "test_dataset = tokenize_data(X_test, y_test)\n",
        "logging.info(f\"Tokenized data: Train dataset size: {len(train_dataset)}, Test dataset size: {len(test_dataset)}\")\n",
        "\n",
        "train_dataloader = DataLoader(\n",
        "            train_dataset,\n",
        "            sampler=None,\n",
        "            batch_size=batch_size\n",
        "        )\n",
        "\n",
        "test_dataloader = DataLoader(\n",
        "            test_dataset,\n",
        "            sampler=None,\n",
        "            batch_size=batch_size\n",
        "        )\n"
      ],
      "metadata": {
        "id": "tzqfauuerPu_"
      },
      "execution_count": null,
      "outputs": []
    },
    {
      "cell_type": "code",
      "execution_count": null,
      "metadata": {
        "id": "bI31iorCmhRU",
        "outputId": "70eee5d5-0089-4a7c-8086-da6642a02b7e",
        "colab": {
          "base_uri": "https://localhost:8080/",
          "height": 676,
          "referenced_widgets": [
            "6fdce86ca97d4e33aa97068889ead9af",
            "93b3e1755f0a4d8bb281a57e3bb1c758",
            "ba883f6d68374956beebe8e7a09bbd6a",
            "37056925d0f544019c0f9d0d79ca78d5",
            "99a59b15fcd344a99f1bffadef49c616",
            "951d14ab1eb54ebeb708287d14fd73fc",
            "996c4322359a4f748ae6b5f37f919734",
            "2770821036014135b5188bac0f9cb717",
            "228d82324ead4faca3a8f78b24792998",
            "1f5a71c73b68475f90b107e1ff8e7d26",
            "d6b9066b6d9547fcb69fc74b21ef0a48"
          ]
        }
      },
      "outputs": [
        {
          "output_type": "display_data",
          "data": {
            "text/plain": [
              "pytorch_model.bin:   0%|          | 0.00/442M [00:00<?, ?B/s]"
            ],
            "application/vnd.jupyter.widget-view+json": {
              "version_major": 2,
              "version_minor": 0,
              "model_id": "6fdce86ca97d4e33aa97068889ead9af"
            }
          },
          "metadata": {}
        },
        {
          "output_type": "stream",
          "name": "stderr",
          "text": [
            "Some weights of BertForSequenceClassification were not initialized from the model checkpoint at allenai/scibert_scivocab_uncased and are newly initialized: ['classifier.bias', 'classifier.weight']\n",
            "You should probably TRAIN this model on a down-stream task to be able to use it for predictions and inference.\n",
            "/usr/local/lib/python3.10/dist-packages/transformers/optimization.py:521: FutureWarning: This implementation of AdamW is deprecated and will be removed in a future version. Use the PyTorch implementation torch.optim.AdamW instead, or set `no_deprecation_warning=True` to disable this warning\n",
            "  warnings.warn(\n",
            "Epoch 1/15: 100%|██████████| 116/116 [01:17<00:00,  1.49it/s]\n",
            "Validating: 100%|██████████| 29/29 [00:07<00:00,  3.97it/s]\n",
            "Epoch 2/15: 100%|██████████| 116/116 [01:21<00:00,  1.43it/s]\n",
            "Validating: 100%|██████████| 29/29 [00:07<00:00,  3.94it/s]\n",
            "Epoch 3/15: 100%|██████████| 116/116 [01:20<00:00,  1.44it/s]\n",
            "Validating: 100%|██████████| 29/29 [00:07<00:00,  3.90it/s]\n",
            "Epoch 4/15: 100%|██████████| 116/116 [01:20<00:00,  1.44it/s]\n",
            "Validating: 100%|██████████| 29/29 [00:07<00:00,  3.91it/s]\n",
            "Epoch 5/15: 100%|██████████| 116/116 [01:20<00:00,  1.44it/s]\n",
            "Validating: 100%|██████████| 29/29 [00:07<00:00,  3.91it/s]\n",
            "Epoch 6/15: 100%|██████████| 116/116 [01:20<00:00,  1.44it/s]\n",
            "Validating: 100%|██████████| 29/29 [00:07<00:00,  3.92it/s]\n",
            "Epoch 7/15: 100%|██████████| 116/116 [01:20<00:00,  1.44it/s]\n",
            "Validating: 100%|██████████| 29/29 [00:07<00:00,  3.91it/s]\n",
            "Epoch 8/15: 100%|██████████| 116/116 [01:20<00:00,  1.44it/s]\n",
            "Validating: 100%|██████████| 29/29 [00:07<00:00,  3.91it/s]\n",
            "Epoch 9/15: 100%|██████████| 116/116 [01:20<00:00,  1.44it/s]\n",
            "Validating: 100%|██████████| 29/29 [00:07<00:00,  3.90it/s]\n",
            "Epoch 10/15: 100%|██████████| 116/116 [01:20<00:00,  1.44it/s]\n",
            "Validating: 100%|██████████| 29/29 [00:07<00:00,  3.90it/s]\n",
            "Epoch 11/15: 100%|██████████| 116/116 [01:20<00:00,  1.44it/s]\n",
            "Validating: 100%|██████████| 29/29 [00:07<00:00,  3.91it/s]\n",
            "Epoch 12/15: 100%|██████████| 116/116 [01:20<00:00,  1.44it/s]\n",
            "Validating: 100%|██████████| 29/29 [00:07<00:00,  3.90it/s]\n",
            "Epoch 13/15: 100%|██████████| 116/116 [01:20<00:00,  1.44it/s]\n",
            "Validating: 100%|██████████| 29/29 [00:07<00:00,  3.91it/s]\n",
            "Epoch 14/15: 100%|██████████| 116/116 [01:20<00:00,  1.44it/s]\n",
            "Validating: 100%|██████████| 29/29 [00:07<00:00,  3.91it/s]\n",
            "Epoch 15/15: 100%|██████████| 116/116 [01:20<00:00,  1.44it/s]\n",
            "Validating: 100%|██████████| 29/29 [00:07<00:00,  3.91it/s]\n"
          ]
        }
      ],
      "source": [
        "# Model Initialization\n",
        "model = BertForSequenceClassification.from_pretrained('allenai/scibert_scivocab_uncased', num_labels=len(balanced_df['Label'].unique()))\n",
        "model.to(device)\n",
        "logging.info(f\"Initialized SciBERT model with {model.num_parameters()} parameters\")\n",
        "\n",
        "# Fine-Tuning Parameters\n",
        "epochs = 15\n",
        "learning_rate = 2e-5\n",
        "\n",
        "# Optimizer and Scheduler\n",
        "optimizer = AdamW(model.parameters(), lr=learning_rate, weight_decay=0.01)  # L2 regularization\n",
        "total_steps = len(train_dataloader) * epochs\n",
        "scheduler = get_linear_schedule_with_warmup(optimizer, num_warmup_steps=0, num_training_steps=total_steps)\n",
        "logging.info(f\"Training parameters: Epochs: {epochs}, Learning rate: {learning_rate}, Batch size: {batch_size}\")\n",
        "\n",
        "# Training and Test Losses\n",
        "train_losses = []\n",
        "test_losses = []\n",
        "\n",
        "# Gradient Clipping\n",
        "clip_grad_norm = 1.0\n",
        "\n",
        "# Learning Rate Scheduling\n",
        "lr_scheduler = torch.optim.lr_scheduler.StepLR(optimizer, step_size=5, gamma=0.1)\n",
        "\n",
        "# Fine-Tuning Loop with Gradient Clipping and Dropout\n",
        "for epoch in range(epochs):\n",
        "    model.train()\n",
        "    total_loss = 0\n",
        "\n",
        "    for batch in tqdm(train_dataloader, desc=f'Epoch {epoch + 1}/{epochs}'):\n",
        "        batch = tuple(t.to(device) for t in batch)\n",
        "        inputs = {'input_ids': batch[0],\n",
        "                  'attention_mask': batch[1],\n",
        "                  'labels': batch[2]}\n",
        "\n",
        "        optimizer.zero_grad()\n",
        "        outputs = model(**inputs)\n",
        "        loss = outputs.loss\n",
        "        total_loss += loss.item()\n",
        "        loss.backward()\n",
        "\n",
        "        # Gradient Clipping\n",
        "        torch.nn.utils.clip_grad_norm_(model.parameters(), clip_grad_norm)\n",
        "\n",
        "        optimizer.step()\n",
        "        scheduler.step()\n",
        "\n",
        "    avg_loss = total_loss / len(train_dataloader)\n",
        "    train_losses.append(avg_loss)\n",
        "    logging.info(f'Epoch {epoch + 1}/{epochs}, Average Loss: {avg_loss}')\n",
        "\n",
        "    # Learning Rate Scheduling\n",
        "    lr_scheduler.step()\n",
        "\n",
        "    # Validation\n",
        "    model.eval()\n",
        "    test_loss = 0\n",
        "\n",
        "    for batch in tqdm(test_dataloader, desc='Validating'):\n",
        "        batch = tuple(t.to(device) for t in batch)\n",
        "        inputs = {'input_ids': batch[0],\n",
        "                  'attention_mask': batch[1],\n",
        "                  'labels': batch[2]}\n",
        "\n",
        "        with torch.no_grad():\n",
        "            outputs = model(**inputs)\n",
        "\n",
        "        test_loss += outputs.loss.item()\n",
        "\n",
        "    test_avg_loss = test_loss / len(test_dataloader)\n",
        "    test_losses.append(test_avg_loss)\n",
        "    logging.info(f'Epoch {epoch + 1}/{epochs}, Average Test Loss: {test_avg_loss}')\n",
        "\n"
      ]
    },
    {
      "cell_type": "code",
      "source": [
        "from sklearn.metrics import classification_report, accuracy_score, precision_score, recall_score, f1_score\n",
        "import matplotlib.pyplot as plt\n",
        "\n",
        "# Plotting the learning curves\n",
        "plt.figure()\n",
        "plt.plot(train_losses, label='Training Loss')\n",
        "plt.plot(test_losses, label='Test Loss')\n",
        "plt.xlabel('Epoch')\n",
        "plt.ylabel('Loss')\n",
        "plt.title('Training and Test Loss')\n",
        "plt.legend()\n",
        "plt.show()\n",
        "\n",
        "# Calculate the difference between training and test losses\n",
        "loss_diff = [train_loss - test_loss for train_loss, test_loss in zip(train_losses, test_losses)]\n",
        "\n",
        "# Detecting overfitting based on loss difference\n",
        "overfitting_detected = any(diff > 0 for diff in loss_diff)\n",
        "\n",
        "if overfitting_detected:\n",
        "    print(\"Overfitting detected: Training loss is significantly lower than test loss.\")\n",
        "else:\n",
        "    print(\"No significant signs of overfitting detected.\")\n",
        "\n",
        "# Evaluation\n",
        "model.eval()\n",
        "predictions, true_labels = [], []\n",
        "\n",
        "for batch in tqdm(test_dataloader, desc='Evaluating'):\n",
        "    batch = tuple(t.to(device) for t in batch)\n",
        "    inputs = {'input_ids': batch[0],\n",
        "              'attention_mask': batch[1],\n",
        "              'labels': batch[2]}\n",
        "\n",
        "    with torch.no_grad():\n",
        "        outputs = model(**inputs)\n",
        "\n",
        "    logits = outputs.logits\n",
        "    logits = logits.detach().cpu().numpy()\n",
        "    label_ids = inputs['labels'].cpu().numpy()\n",
        "    predictions.append(logits)\n",
        "    true_labels.append(label_ids)\n",
        "\n",
        "# Classification Report\n",
        "flat_predictions = [item for sublist in predictions for item in sublist]\n",
        "flat_predictions = np.argmax(flat_predictions, axis=1).flatten()\n",
        "flat_true_labels = [item for sublist in true_labels for item in sublist]\n",
        "\n",
        "class_names = [str(label) for label in balanced_df['Label'].unique().tolist()]\n",
        "\n",
        "report = classification_report(flat_true_labels, flat_predictions, target_names=class_names)\n",
        "logging.info(f\"Classification Report:\\n{report}\")\n",
        "\n",
        "# Calculate accuracy\n",
        "accuracy = accuracy_score(flat_true_labels, flat_predictions)\n",
        "\n",
        "# Calculate precision, recall, and F1-score\n",
        "report = classification_report(flat_true_labels, flat_predictions, target_names=class_names, output_dict=True)\n",
        "\n",
        "# Extract precision, recall, and F1-score for each class\n",
        "precision = {class_name: report[class_name]['precision'] for class_name in class_names}\n",
        "recall = {class_name: report[class_name]['recall'] for class_name in class_names}\n",
        "f1 = {class_name: report[class_name]['f1-score'] for class_name in class_names}\n",
        "\n",
        "# Overall precision, recall, and F1-score\n",
        "overall_precision = report['macro avg']['precision']\n",
        "overall_recall = report['macro avg']['recall']\n",
        "overall_f1 = report['macro avg']['f1-score']\n",
        "\n",
        "# Print or log the metrics\n",
        "print(f'Accuracy: {accuracy}')\n",
        "print('Precision:')\n",
        "for class_name, value in precision.items():\n",
        "    print(f'{class_name}: {value}')\n",
        "print('Recall:')\n",
        "for class_name, value in recall.items():\n",
        "    print(f'{class_name}: {value}')\n",
        "print('F1-score:')\n",
        "for class_name, value in f1.items():\n",
        "    print(f'{class_name}: {value}')\n",
        "print(f'Overall Precision: {overall_precision}')\n",
        "print(f'Overall Recall: {overall_recall}')\n",
        "print(f'Overall F1-score: {overall_f1}')"
      ],
      "metadata": {
        "colab": {
          "base_uri": "https://localhost:8080/",
          "height": 740
        },
        "id": "yMgm5kFjbU8r",
        "outputId": "8133dead-85ca-4b17-dda2-af74ca50e840"
      },
      "execution_count": null,
      "outputs": [
        {
          "output_type": "display_data",
          "data": {
            "text/plain": [
              "<Figure size 640x480 with 1 Axes>"
            ],
            "image/png": "[encoded data removed]"
          },
          "metadata": {}
        },
        {
          "output_type": "stream",
          "name": "stdout",
          "text": [
            "Overfitting detected: Training loss is significantly lower than test loss.\n"
          ]
        },
        {
          "output_type": "stream",
          "name": "stderr",
          "text": [
            "Evaluating: 100%|██████████| 29/29 [00:07<00:00,  3.98it/s]\n"
          ]
        },
        {
          "output_type": "stream",
          "name": "stdout",
          "text": [
            "Accuracy: 0.9967462039045553\n",
            "Precision:\n",
            "0: 0.9957356076759062\n",
            "1: 0.9977924944812362\n",
            "Recall:\n",
            "0: 0.9978632478632479\n",
            "1: 0.9955947136563876\n",
            "F1-score:\n",
            "0: 0.9967982924226253\n",
            "1: 0.9966923925027563\n",
            "Overall Precision: 0.9967640510785711\n",
            "Overall Recall: 0.9967289807598178\n",
            "Overall F1-score: 0.9967453424626909\n"
          ]
        }
      ]
    },
    {
      "cell_type": "code",
      "source": [
        "# Save and Load Model\n",
        "model_path = 'scibert_fine_tuned_model_nevena2.pth'\n",
        "torch.save(model.state_dict(), model_path)\n",
        "logging.info(f\"Fine-tuned model saved to: {model_path}\")\n",
        "\n",
        "# Load the Fine-Tuned Model\n",
        "loaded_model = BertForSequenceClassification.from_pretrained('allenai/scibert_scivocab_uncased', num_labels=len(balanced_df['Label'].unique()))\n",
        "loaded_model.load_state_dict(torch.load(model_path))\n",
        "loaded_model.to(device)\n",
        "logging.info(\"Fine-tuned model loaded successfully\")"
      ],
      "metadata": {
        "id": "8qasvkgV-9lH",
        "colab": {
          "base_uri": "https://localhost:8080/"
        },
        "outputId": "1e57326b-2eea-4ba6-fec6-8698b4845054"
      },
      "execution_count": null,
      "outputs": [
        {
          "output_type": "stream",
          "name": "stderr",
          "text": [
            "Some weights of BertForSequenceClassification were not initialized from the model checkpoint at allenai/scibert_scivocab_uncased and are newly initialized: ['classifier.bias', 'classifier.weight']\n",
            "You should probably TRAIN this model on a down-stream task to be able to use it for predictions and inference.\n"
          ]
        }
      ]
    },
    {
      "cell_type": "code",
      "source": [
        "from google.colab import drive\n",
        "drive.mount('/content/drive')\n",
        "model.save_pretrained('/content/drive/MyDrive/model_directory2/model.safetensors')"
      ],
      "metadata": {
        "colab": {
          "base_uri": "https://localhost:8080/"
        },
        "id": "QQ9IuyxHUfAG",
        "outputId": "80ff9b75-6a90-458f-d2cf-f8d7c773ae97"
      },
      "execution_count": null,
      "outputs": [
        {
          "output_type": "stream",
          "name": "stdout",
          "text": [
            "Drive already mounted at /content/drive; to attempt to forcibly remount, call drive.mount(\"/content/drive\", force_remount=True).\n"
          ]
        }
      ]
    },
    {
      "cell_type": "code",
      "source": [
        "!gsutil cp /content/drive/MyDrive/model_directory2/model.safetensors gs://scientific_paper_classifier-bucket/models/scibert_model_nevena2.h5"
      ],
      "metadata": {
        "colab": {
          "base_uri": "https://localhost:8080/"
        },
        "id": "82UmypvDV-Te",
        "outputId": "a6904c96-1658-4e2f-e595-231b35f4536b"
      },
      "execution_count": null,
      "outputs": [
        {
          "output_type": "stream",
          "name": "stdout",
          "text": [
            "Omitting directory \"file:///content/drive/MyDrive/model_directory2/model.safetensors\". (Did you mean to do cp -r?)\n",
            "CommandException: No URLs matched. Do the files you're operating on exist?\n"
          ]
        }
      ]
    },
    {
      "cell_type": "code",
      "source": [
        "from google.colab import files\n",
        "files.download('/content/scibert_fine_tuned_model_nevena2.pth')"
      ],
      "metadata": {
        "colab": {
          "base_uri": "https://localhost:8080/",
          "height": 17
        },
        "id": "gLzU-LWbXtAT",
        "outputId": "445cab39-50db-4d0c-bbce-fc903ca9698c"
      },
      "execution_count": null,
      "outputs": [
        {
          "output_type": "display_data",
          "data": {
            "text/plain": [
              "<IPython.core.display.Javascript object>"
            ],
            "application/javascript": [
              "\n",
              "    async function download(id, filename, size) {\n",
              "      if (!google.colab.kernel.accessAllowed) {\n",
              "        return;\n",
              "      }\n",
              "      const div = document.createElement('div');\n",
              "      const label = document.createElement('label');\n",
              "      label.textContent = `Downloading \"${filename}\": `;\n",
              "      div.appendChild(label);\n",
              "      const progress = document.createElement('progress');\n",
              "      progress.max = size;\n",
              "      div.appendChild(progress);\n",
              "      document.body.appendChild(div);\n",
              "\n",
              "      const buffers = [];\n",
              "      let downloaded = 0;\n",
              "\n",
              "      const channel = await google.colab.kernel.comms.open(id);\n",
              "      // Send a message to notify the kernel that we're ready.\n",
              "      channel.send({})\n",
              "\n",
              "      for await (const message of channel.messages) {\n",
              "        // Send a message to notify the kernel that we're ready.\n",
              "        channel.send({})\n",
              "        if (message.buffers) {\n",
              "          for (const buffer of message.buffers) {\n",
              "            buffers.push(buffer);\n",
              "            downloaded += buffer.byteLength;\n",
              "            progress.value = downloaded;\n",
              "          }\n",
              "        }\n",
              "      }\n",
              "      const blob = new Blob(buffers, {type: 'application/binary'});\n",
              "      const a = document.createElement('a');\n",
              "      a.href = window.URL.createObjectURL(blob);\n",
              "      a.download = filename;\n",
              "      div.appendChild(a);\n",
              "      a.click();\n",
              "      div.remove();\n",
              "    }\n",
              "  "
            ]
          },
          "metadata": {}
        },
        {
          "output_type": "display_data",
          "data": {
            "text/plain": [
              "<IPython.core.display.Javascript object>"
            ],
            "application/javascript": [
              "download(\"download_00971563-0aee-4a8e-bfef-d013d19c7df3\", \"scibert_fine_tuned_model_nevena2.pth\", 439766821)"
            ]
          },
          "metadata": {}
        }
      ]
    },
    {
      "cell_type": "code",
      "source": [],
      "metadata": {
        "id": "kJpYzrfqZaGV"
      },
      "execution_count": null,
      "outputs": []
    }
  ]
}